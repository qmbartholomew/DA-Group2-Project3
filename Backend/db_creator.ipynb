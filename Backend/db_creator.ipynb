{
 "cells": [
  {
   "cell_type": "code",
   "execution_count": 2,
   "metadata": {},
   "outputs": [],
   "source": [
    "# Import dependencies\n",
    "import pandas as pd\n",
    "import sqlite3"
   ]
  },
  {
   "cell_type": "code",
   "execution_count": 3,
   "metadata": {},
   "outputs": [
    {
     "data": {
      "text/html": [
       "<div>\n",
       "<style scoped>\n",
       "    .dataframe tbody tr th:only-of-type {\n",
       "        vertical-align: middle;\n",
       "    }\n",
       "\n",
       "    .dataframe tbody tr th {\n",
       "        vertical-align: top;\n",
       "    }\n",
       "\n",
       "    .dataframe thead th {\n",
       "        text-align: right;\n",
       "    }\n",
       "</style>\n",
       "<table border=\"1\" class=\"dataframe\">\n",
       "  <thead>\n",
       "    <tr style=\"text-align: right;\">\n",
       "      <th></th>\n",
       "      <th>Date</th>\n",
       "      <th>Open</th>\n",
       "      <th>High</th>\n",
       "      <th>Low</th>\n",
       "      <th>Close</th>\n",
       "    </tr>\n",
       "  </thead>\n",
       "  <tbody>\n",
       "    <tr>\n",
       "      <th>0</th>\n",
       "      <td>01/01/25</td>\n",
       "      <td>1.0356</td>\n",
       "      <td>1.0364</td>\n",
       "      <td>1.0352</td>\n",
       "      <td>1.0359</td>\n",
       "    </tr>\n",
       "    <tr>\n",
       "      <th>1</th>\n",
       "      <td>12/31/24</td>\n",
       "      <td>1.0409</td>\n",
       "      <td>1.0426</td>\n",
       "      <td>1.0345</td>\n",
       "      <td>1.0355</td>\n",
       "    </tr>\n",
       "    <tr>\n",
       "      <th>2</th>\n",
       "      <td>12/30/24</td>\n",
       "      <td>1.0427</td>\n",
       "      <td>1.0459</td>\n",
       "      <td>1.0373</td>\n",
       "      <td>1.0408</td>\n",
       "    </tr>\n",
       "    <tr>\n",
       "      <th>3</th>\n",
       "      <td>12/27/24</td>\n",
       "      <td>1.0419</td>\n",
       "      <td>1.0446</td>\n",
       "      <td>1.0406</td>\n",
       "      <td>1.0428</td>\n",
       "    </tr>\n",
       "    <tr>\n",
       "      <th>4</th>\n",
       "      <td>12/26/24</td>\n",
       "      <td>1.0407</td>\n",
       "      <td>1.0432</td>\n",
       "      <td>1.0381</td>\n",
       "      <td>1.0425</td>\n",
       "    </tr>\n",
       "  </tbody>\n",
       "</table>\n",
       "</div>"
      ],
      "text/plain": [
       "       Date    Open    High     Low   Close\n",
       "0  01/01/25  1.0356  1.0364  1.0352  1.0359\n",
       "1  12/31/24  1.0409  1.0426  1.0345  1.0355\n",
       "2  12/30/24  1.0427  1.0459  1.0373  1.0408\n",
       "3  12/27/24  1.0419  1.0446  1.0406  1.0428\n",
       "4  12/26/24  1.0407  1.0432  1.0381  1.0425"
      ]
     },
     "execution_count": 3,
     "metadata": {},
     "output_type": "execute_result"
    }
   ],
   "source": [
    "test_df = pd.read_csv(\"EURUSD_HistoricalPrices.csv\")\n",
    "test_df.head()"
   ]
  },
  {
   "cell_type": "code",
   "execution_count": 4,
   "metadata": {},
   "outputs": [
    {
     "data": {
      "text/html": [
       "<div>\n",
       "<style scoped>\n",
       "    .dataframe tbody tr th:only-of-type {\n",
       "        vertical-align: middle;\n",
       "    }\n",
       "\n",
       "    .dataframe tbody tr th {\n",
       "        vertical-align: top;\n",
       "    }\n",
       "\n",
       "    .dataframe thead th {\n",
       "        text-align: right;\n",
       "    }\n",
       "</style>\n",
       "<table border=\"1\" class=\"dataframe\">\n",
       "  <thead>\n",
       "    <tr style=\"text-align: right;\">\n",
       "      <th></th>\n",
       "      <th>Date</th>\n",
       "      <th>Open</th>\n",
       "      <th>High</th>\n",
       "      <th>Low</th>\n",
       "      <th>Close</th>\n",
       "    </tr>\n",
       "  </thead>\n",
       "  <tbody>\n",
       "    <tr>\n",
       "      <th>0</th>\n",
       "      <td>01/01/25</td>\n",
       "      <td>1.4387</td>\n",
       "      <td>1.4407</td>\n",
       "      <td>1.4381</td>\n",
       "      <td>1.4392</td>\n",
       "    </tr>\n",
       "    <tr>\n",
       "      <th>1</th>\n",
       "      <td>12/31/24</td>\n",
       "      <td>1.4359</td>\n",
       "      <td>1.4412</td>\n",
       "      <td>1.4339</td>\n",
       "      <td>1.4385</td>\n",
       "    </tr>\n",
       "    <tr>\n",
       "      <th>2</th>\n",
       "      <td>12/30/24</td>\n",
       "      <td>1.4421</td>\n",
       "      <td>1.4432</td>\n",
       "      <td>1.4345</td>\n",
       "      <td>1.4357</td>\n",
       "    </tr>\n",
       "    <tr>\n",
       "      <th>3</th>\n",
       "      <td>12/27/24</td>\n",
       "      <td>1.4407</td>\n",
       "      <td>1.4450</td>\n",
       "      <td>1.4376</td>\n",
       "      <td>1.4413</td>\n",
       "    </tr>\n",
       "    <tr>\n",
       "      <th>4</th>\n",
       "      <td>12/26/24</td>\n",
       "      <td>1.4379</td>\n",
       "      <td>1.4423</td>\n",
       "      <td>1.4349</td>\n",
       "      <td>1.4408</td>\n",
       "    </tr>\n",
       "  </tbody>\n",
       "</table>\n",
       "</div>"
      ],
      "text/plain": [
       "       Date    Open    High     Low   Close\n",
       "0  01/01/25  1.4387  1.4407  1.4381  1.4392\n",
       "1  12/31/24  1.4359  1.4412  1.4339  1.4385\n",
       "2  12/30/24  1.4421  1.4432  1.4345  1.4357\n",
       "3  12/27/24  1.4407  1.4450  1.4376  1.4413\n",
       "4  12/26/24  1.4379  1.4423  1.4349  1.4408"
      ]
     },
     "execution_count": 4,
     "metadata": {},
     "output_type": "execute_result"
    }
   ],
   "source": [
    "cad_usd_df = pd.read_csv(\"../CAD_USD_Prices.csv\")\n",
    "cad_usd_df.head()"
   ]
  },
  {
   "cell_type": "code",
   "execution_count": 5,
   "metadata": {},
   "outputs": [
    {
     "data": {
      "text/html": [
       "<div>\n",
       "<style scoped>\n",
       "    .dataframe tbody tr th:only-of-type {\n",
       "        vertical-align: middle;\n",
       "    }\n",
       "\n",
       "    .dataframe tbody tr th {\n",
       "        vertical-align: top;\n",
       "    }\n",
       "\n",
       "    .dataframe thead th {\n",
       "        text-align: right;\n",
       "    }\n",
       "</style>\n",
       "<table border=\"1\" class=\"dataframe\">\n",
       "  <thead>\n",
       "    <tr style=\"text-align: right;\">\n",
       "      <th></th>\n",
       "      <th>Date</th>\n",
       "      <th>Open</th>\n",
       "      <th>High</th>\n",
       "      <th>Low</th>\n",
       "      <th>Close</th>\n",
       "    </tr>\n",
       "  </thead>\n",
       "  <tbody>\n",
       "    <tr>\n",
       "      <th>0</th>\n",
       "      <td>01/01/25</td>\n",
       "      <td>157.21</td>\n",
       "      <td>157.44</td>\n",
       "      <td>157.19</td>\n",
       "      <td>157.40</td>\n",
       "    </tr>\n",
       "    <tr>\n",
       "      <th>1</th>\n",
       "      <td>12/31/24</td>\n",
       "      <td>156.84</td>\n",
       "      <td>157.55</td>\n",
       "      <td>156.03</td>\n",
       "      <td>157.21</td>\n",
       "    </tr>\n",
       "    <tr>\n",
       "      <th>2</th>\n",
       "      <td>12/30/24</td>\n",
       "      <td>157.87</td>\n",
       "      <td>158.08</td>\n",
       "      <td>156.67</td>\n",
       "      <td>156.84</td>\n",
       "    </tr>\n",
       "    <tr>\n",
       "      <th>3</th>\n",
       "      <td>12/27/24</td>\n",
       "      <td>158.00</td>\n",
       "      <td>158.00</td>\n",
       "      <td>157.35</td>\n",
       "      <td>157.84</td>\n",
       "    </tr>\n",
       "    <tr>\n",
       "      <th>4</th>\n",
       "      <td>12/26/24</td>\n",
       "      <td>157.19</td>\n",
       "      <td>158.09</td>\n",
       "      <td>157.08</td>\n",
       "      <td>158.00</td>\n",
       "    </tr>\n",
       "  </tbody>\n",
       "</table>\n",
       "</div>"
      ],
      "text/plain": [
       "       Date    Open    High     Low   Close\n",
       "0  01/01/25  157.21  157.44  157.19  157.40\n",
       "1  12/31/24  156.84  157.55  156.03  157.21\n",
       "2  12/30/24  157.87  158.08  156.67  156.84\n",
       "3  12/27/24  158.00  158.00  157.35  157.84\n",
       "4  12/26/24  157.19  158.09  157.08  158.00"
      ]
     },
     "execution_count": 5,
     "metadata": {},
     "output_type": "execute_result"
    }
   ],
   "source": [
    "jpy_usd_df = pd.read_csv(\"../JPY_USD_Prices.csv\")\n",
    "jpy_usd_df.head()"
   ]
  },
  {
   "cell_type": "code",
   "execution_count": 7,
   "metadata": {},
   "outputs": [],
   "source": [
    "conn = sqlite3.connect('test.sqlite')"
   ]
  },
  {
   "cell_type": "code",
   "execution_count": 8,
   "metadata": {},
   "outputs": [
    {
     "data": {
      "text/plain": [
       "263"
      ]
     },
     "execution_count": 8,
     "metadata": {},
     "output_type": "execute_result"
    }
   ],
   "source": [
    "test_df.to_sql('eur_usd', conn, if_exists='replace', index=False)\n",
    "cad_usd_df.to_sql('cad_usd', conn, if_exists='replace', index=False)\n",
    "jpy_usd_df.to_sql('jpy_usd', conn, if_exists='replace', index=False)"
   ]
  },
  {
   "cell_type": "code",
   "execution_count": 9,
   "metadata": {},
   "outputs": [],
   "source": [
    "conn.close()"
   ]
  }
 ],
 "metadata": {
  "kernelspec": {
   "display_name": "dev",
   "language": "python",
   "name": "python3"
  },
  "language_info": {
   "codemirror_mode": {
    "name": "ipython",
    "version": 3
   },
   "file_extension": ".py",
   "mimetype": "text/x-python",
   "name": "python",
   "nbconvert_exporter": "python",
   "pygments_lexer": "ipython3",
   "version": "3.10.16"
  }
 },
 "nbformat": 4,
 "nbformat_minor": 4
}
