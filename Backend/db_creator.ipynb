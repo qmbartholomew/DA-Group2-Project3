{
 "cells": [
  {
   "cell_type": "code",
   "execution_count": 1,
   "metadata": {},
   "outputs": [],
   "source": [
    "# Import dependencies\n",
    "import pandas as pd\n",
    "import sqlite3"
   ]
  },
  {
   "cell_type": "code",
   "execution_count": 4,
   "metadata": {},
   "outputs": [
    {
     "data": {
      "text/html": [
       "<div>\n",
       "<style scoped>\n",
       "    .dataframe tbody tr th:only-of-type {\n",
       "        vertical-align: middle;\n",
       "    }\n",
       "\n",
       "    .dataframe tbody tr th {\n",
       "        vertical-align: top;\n",
       "    }\n",
       "\n",
       "    .dataframe thead th {\n",
       "        text-align: right;\n",
       "    }\n",
       "</style>\n",
       "<table border=\"1\" class=\"dataframe\">\n",
       "  <thead>\n",
       "    <tr style=\"text-align: right;\">\n",
       "      <th></th>\n",
       "      <th>Date</th>\n",
       "      <th>Open</th>\n",
       "      <th>High</th>\n",
       "      <th>Low</th>\n",
       "      <th>Close</th>\n",
       "    </tr>\n",
       "  </thead>\n",
       "  <tbody>\n",
       "    <tr>\n",
       "      <th>262</th>\n",
       "      <td>01/01/24</td>\n",
       "      <td>1.1058</td>\n",
       "      <td>1.1080</td>\n",
       "      <td>1.1037</td>\n",
       "      <td>1.1047</td>\n",
       "    </tr>\n",
       "    <tr>\n",
       "      <th>261</th>\n",
       "      <td>01/02/24</td>\n",
       "      <td>1.1046</td>\n",
       "      <td>1.1056</td>\n",
       "      <td>1.0938</td>\n",
       "      <td>1.0940</td>\n",
       "    </tr>\n",
       "    <tr>\n",
       "      <th>260</th>\n",
       "      <td>01/03/24</td>\n",
       "      <td>1.0937</td>\n",
       "      <td>1.0967</td>\n",
       "      <td>1.0895</td>\n",
       "      <td>1.0922</td>\n",
       "    </tr>\n",
       "    <tr>\n",
       "      <th>259</th>\n",
       "      <td>01/04/24</td>\n",
       "      <td>1.0920</td>\n",
       "      <td>1.0975</td>\n",
       "      <td>1.0915</td>\n",
       "      <td>1.0946</td>\n",
       "    </tr>\n",
       "    <tr>\n",
       "      <th>258</th>\n",
       "      <td>01/05/24</td>\n",
       "      <td>1.0945</td>\n",
       "      <td>1.0998</td>\n",
       "      <td>1.0877</td>\n",
       "      <td>1.0939</td>\n",
       "    </tr>\n",
       "  </tbody>\n",
       "</table>\n",
       "</div>"
      ],
      "text/plain": [
       "         Date    Open    High     Low   Close\n",
       "262  01/01/24  1.1058  1.1080  1.1037  1.1047\n",
       "261  01/02/24  1.1046  1.1056  1.0938  1.0940\n",
       "260  01/03/24  1.0937  1.0967  1.0895  1.0922\n",
       "259  01/04/24  1.0920  1.0975  1.0915  1.0946\n",
       "258  01/05/24  1.0945  1.0998  1.0877  1.0939"
      ]
     },
     "execution_count": 4,
     "metadata": {},
     "output_type": "execute_result"
    }
   ],
   "source": [
    "test_df = pd.read_csv(\"../EURUSD_HistoricalPrices.csv\")\n",
    "test_df = test_df.sort_index(ascending=False)\n",
    "test_df.head()"
   ]
  },
  {
   "cell_type": "code",
   "execution_count": 10,
   "metadata": {},
   "outputs": [
    {
     "data": {
      "text/html": [
       "<div>\n",
       "<style scoped>\n",
       "    .dataframe tbody tr th:only-of-type {\n",
       "        vertical-align: middle;\n",
       "    }\n",
       "\n",
       "    .dataframe tbody tr th {\n",
       "        vertical-align: top;\n",
       "    }\n",
       "\n",
       "    .dataframe thead th {\n",
       "        text-align: right;\n",
       "    }\n",
       "</style>\n",
       "<table border=\"1\" class=\"dataframe\">\n",
       "  <thead>\n",
       "    <tr style=\"text-align: right;\">\n",
       "      <th></th>\n",
       "      <th>Date</th>\n",
       "      <th>Open</th>\n",
       "      <th>High</th>\n",
       "      <th>Low</th>\n",
       "      <th>Close</th>\n",
       "    </tr>\n",
       "  </thead>\n",
       "  <tbody>\n",
       "    <tr>\n",
       "      <th>262</th>\n",
       "      <td>01/01/24</td>\n",
       "      <td>1.3265</td>\n",
       "      <td>1.3393</td>\n",
       "      <td>1.3207</td>\n",
       "      <td>1.3238</td>\n",
       "    </tr>\n",
       "    <tr>\n",
       "      <th>261</th>\n",
       "      <td>01/02/24</td>\n",
       "      <td>1.3239</td>\n",
       "      <td>1.3337</td>\n",
       "      <td>1.3229</td>\n",
       "      <td>1.3322</td>\n",
       "    </tr>\n",
       "    <tr>\n",
       "      <th>260</th>\n",
       "      <td>01/03/24</td>\n",
       "      <td>1.3321</td>\n",
       "      <td>1.3375</td>\n",
       "      <td>1.3317</td>\n",
       "      <td>1.3354</td>\n",
       "    </tr>\n",
       "    <tr>\n",
       "      <th>259</th>\n",
       "      <td>01/04/24</td>\n",
       "      <td>1.3355</td>\n",
       "      <td>1.3368</td>\n",
       "      <td>1.3317</td>\n",
       "      <td>1.3350</td>\n",
       "    </tr>\n",
       "    <tr>\n",
       "      <th>258</th>\n",
       "      <td>01/05/24</td>\n",
       "      <td>1.3353</td>\n",
       "      <td>1.3400</td>\n",
       "      <td>1.3288</td>\n",
       "      <td>1.3366</td>\n",
       "    </tr>\n",
       "  </tbody>\n",
       "</table>\n",
       "</div>"
      ],
      "text/plain": [
       "         Date    Open    High     Low   Close\n",
       "262  01/01/24  1.3265  1.3393  1.3207  1.3238\n",
       "261  01/02/24  1.3239  1.3337  1.3229  1.3322\n",
       "260  01/03/24  1.3321  1.3375  1.3317  1.3354\n",
       "259  01/04/24  1.3355  1.3368  1.3317  1.3350\n",
       "258  01/05/24  1.3353  1.3400  1.3288  1.3366"
      ]
     },
     "execution_count": 10,
     "metadata": {},
     "output_type": "execute_result"
    }
   ],
   "source": [
    "cad_usd_df = pd.read_csv(\"../../CAD_USD_Prices.csv\")\n",
    "cad_usd_df = cad_usd_df.sort_index(ascending=False)\n",
    "cad_usd_df.head()"
   ]
  },
  {
   "cell_type": "code",
   "execution_count": 11,
   "metadata": {},
   "outputs": [
    {
     "data": {
      "text/html": [
       "<div>\n",
       "<style scoped>\n",
       "    .dataframe tbody tr th:only-of-type {\n",
       "        vertical-align: middle;\n",
       "    }\n",
       "\n",
       "    .dataframe tbody tr th {\n",
       "        vertical-align: top;\n",
       "    }\n",
       "\n",
       "    .dataframe thead th {\n",
       "        text-align: right;\n",
       "    }\n",
       "</style>\n",
       "<table border=\"1\" class=\"dataframe\">\n",
       "  <thead>\n",
       "    <tr style=\"text-align: right;\">\n",
       "      <th></th>\n",
       "      <th>Date</th>\n",
       "      <th>Open</th>\n",
       "      <th>High</th>\n",
       "      <th>Low</th>\n",
       "      <th>Close</th>\n",
       "    </tr>\n",
       "  </thead>\n",
       "  <tbody>\n",
       "    <tr>\n",
       "      <th>262</th>\n",
       "      <td>01/01/24</td>\n",
       "      <td>141.03</td>\n",
       "      <td>141.41</td>\n",
       "      <td>140.82</td>\n",
       "      <td>140.88</td>\n",
       "    </tr>\n",
       "    <tr>\n",
       "      <th>261</th>\n",
       "      <td>01/02/24</td>\n",
       "      <td>140.88</td>\n",
       "      <td>142.22</td>\n",
       "      <td>140.82</td>\n",
       "      <td>141.99</td>\n",
       "    </tr>\n",
       "    <tr>\n",
       "      <th>260</th>\n",
       "      <td>01/03/24</td>\n",
       "      <td>141.99</td>\n",
       "      <td>143.73</td>\n",
       "      <td>141.86</td>\n",
       "      <td>143.28</td>\n",
       "    </tr>\n",
       "    <tr>\n",
       "      <th>259</th>\n",
       "      <td>01/04/24</td>\n",
       "      <td>143.29</td>\n",
       "      <td>144.85</td>\n",
       "      <td>142.87</td>\n",
       "      <td>144.63</td>\n",
       "    </tr>\n",
       "    <tr>\n",
       "      <th>258</th>\n",
       "      <td>01/05/24</td>\n",
       "      <td>144.63</td>\n",
       "      <td>145.96</td>\n",
       "      <td>143.81</td>\n",
       "      <td>144.62</td>\n",
       "    </tr>\n",
       "  </tbody>\n",
       "</table>\n",
       "</div>"
      ],
      "text/plain": [
       "         Date    Open    High     Low   Close\n",
       "262  01/01/24  141.03  141.41  140.82  140.88\n",
       "261  01/02/24  140.88  142.22  140.82  141.99\n",
       "260  01/03/24  141.99  143.73  141.86  143.28\n",
       "259  01/04/24  143.29  144.85  142.87  144.63\n",
       "258  01/05/24  144.63  145.96  143.81  144.62"
      ]
     },
     "execution_count": 11,
     "metadata": {},
     "output_type": "execute_result"
    }
   ],
   "source": [
    "jpy_usd_df = pd.read_csv(\"../../JPY_USD_Prices.csv\")\n",
    "jpy_usd_df = jpy_usd_df.sort_index(ascending=False)\n",
    "jpy_usd_df.head()"
   ]
  },
  {
   "cell_type": "code",
   "execution_count": 12,
   "metadata": {},
   "outputs": [],
   "source": [
    "conn = sqlite3.connect('test.sqlite')"
   ]
  },
  {
   "cell_type": "code",
   "execution_count": 13,
   "metadata": {},
   "outputs": [
    {
     "data": {
      "text/plain": [
       "263"
      ]
     },
     "execution_count": 13,
     "metadata": {},
     "output_type": "execute_result"
    }
   ],
   "source": [
    "test_df.to_sql('eur_usd', conn, if_exists='replace', index=False)\n",
    "cad_usd_df.to_sql('cad_usd', conn, if_exists='replace', index=False)\n",
    "jpy_usd_df.to_sql('jpy_usd', conn, if_exists='replace', index=False)"
   ]
  },
  {
   "cell_type": "code",
   "execution_count": 9,
   "metadata": {},
   "outputs": [],
   "source": [
    "conn.close()"
   ]
  }
 ],
 "metadata": {
  "kernelspec": {
   "display_name": "dev",
   "language": "python",
   "name": "python3"
  },
  "language_info": {
   "codemirror_mode": {
    "name": "ipython",
    "version": 3
   },
   "file_extension": ".py",
   "mimetype": "text/x-python",
   "name": "python",
   "nbconvert_exporter": "python",
   "pygments_lexer": "ipython3",
   "version": "3.10.16"
  }
 },
 "nbformat": 4,
 "nbformat_minor": 4
}
