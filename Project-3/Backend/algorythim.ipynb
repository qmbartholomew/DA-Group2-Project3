{
 "cells": [
  {
   "cell_type": "code",
<<<<<<< HEAD
   "execution_count": 1,
=======
   "execution_count": 2,
>>>>>>> ea21e2bd453d4d522f6775f4a9b8fafcedd2750e
   "metadata": {},
   "outputs": [],
   "source": [
    "# Import dependencies\n",
    "import pandas as pd\n",
    "import sqlalchemy\n",
    "from sqlalchemy.ext.automap import automap_base\n",
    "from sqlalchemy.orm import Session\n",
    "from sqlalchemy import create_engine, func\n",
    "import numpy as np\n",
    "import matplotlib.pyplot as plt\n",
    "import sqlite3\n"
   ]
  },
  {
   "cell_type": "code",
<<<<<<< HEAD
   "execution_count": 2,
=======
   "execution_count": 3,
>>>>>>> ea21e2bd453d4d522f6775f4a9b8fafcedd2750e
   "metadata": {},
   "outputs": [],
   "source": [
    "# create engine to historical prices sqlite db\n",
    "engine = create_engine(\"sqlite:///test.sqlite\")"
   ]
  },
  {
   "cell_type": "code",
<<<<<<< HEAD
   "execution_count": 3,
=======
   "execution_count": 4,
>>>>>>> ea21e2bd453d4d522f6775f4a9b8fafcedd2750e
   "metadata": {},
   "outputs": [],
   "source": [
    "eur_usd_df = pd.read_sql('select * from eur_usd',engine)\n",
    "cad_usd_df = pd.read_sql('select * from cad_usd', engine)\n",
    "jpy_usd_df = pd.read_sql('select * from jpy_usd', engine)"
   ]
  },
  {
   "cell_type": "code",
<<<<<<< HEAD
   "execution_count": 4,
   "metadata": {},
   "outputs": [
    {
     "data": {
      "text/html": [
       "<div>\n",
       "<style scoped>\n",
       "    .dataframe tbody tr th:only-of-type {\n",
       "        vertical-align: middle;\n",
       "    }\n",
       "\n",
       "    .dataframe tbody tr th {\n",
       "        vertical-align: top;\n",
       "    }\n",
       "\n",
       "    .dataframe thead th {\n",
       "        text-align: right;\n",
       "    }\n",
       "</style>\n",
       "<table border=\"1\" class=\"dataframe\">\n",
       "  <thead>\n",
       "    <tr style=\"text-align: right;\">\n",
       "      <th></th>\n",
       "      <th>Date</th>\n",
       "      <th>Open</th>\n",
       "      <th>High</th>\n",
       "      <th>Low</th>\n",
       "      <th>Close</th>\n",
       "      <th>MA5</th>\n",
       "      <th>MA8</th>\n",
       "      <th>MA13</th>\n",
       "      <th>Buy</th>\n",
       "      <th>Profit</th>\n",
       "    </tr>\n",
       "  </thead>\n",
       "  <tbody>\n",
       "    <tr>\n",
       "      <th>0</th>\n",
       "      <td>01/01/25</td>\n",
       "      <td>1.0356</td>\n",
       "      <td>1.0364</td>\n",
       "      <td>1.0352</td>\n",
       "      <td>1.0359</td>\n",
       "      <td>NaN</td>\n",
       "      <td>NaN</td>\n",
       "      <td>NaN</td>\n",
       "      <td>Closed</td>\n",
       "      <td>0.0000</td>\n",
       "    </tr>\n",
       "    <tr>\n",
       "      <th>1</th>\n",
       "      <td>12/31/24</td>\n",
       "      <td>1.0409</td>\n",
       "      <td>1.0426</td>\n",
       "      <td>1.0345</td>\n",
       "      <td>1.0355</td>\n",
       "      <td>NaN</td>\n",
       "      <td>NaN</td>\n",
       "      <td>NaN</td>\n",
       "      <td>Closed</td>\n",
       "      <td>0.0000</td>\n",
       "    </tr>\n",
       "    <tr>\n",
       "      <th>2</th>\n",
       "      <td>12/30/24</td>\n",
       "      <td>1.0427</td>\n",
       "      <td>1.0459</td>\n",
       "      <td>1.0373</td>\n",
       "      <td>1.0408</td>\n",
       "      <td>NaN</td>\n",
       "      <td>NaN</td>\n",
       "      <td>NaN</td>\n",
       "      <td>Closed</td>\n",
       "      <td>0.0000</td>\n",
       "    </tr>\n",
       "    <tr>\n",
       "      <th>3</th>\n",
       "      <td>12/27/24</td>\n",
       "      <td>1.0419</td>\n",
       "      <td>1.0446</td>\n",
       "      <td>1.0406</td>\n",
       "      <td>1.0428</td>\n",
       "      <td>NaN</td>\n",
       "      <td>NaN</td>\n",
       "      <td>NaN</td>\n",
       "      <td>Closed</td>\n",
       "      <td>0.0000</td>\n",
       "    </tr>\n",
       "    <tr>\n",
       "      <th>4</th>\n",
       "      <td>12/26/24</td>\n",
       "      <td>1.0407</td>\n",
       "      <td>1.0432</td>\n",
       "      <td>1.0381</td>\n",
       "      <td>1.0425</td>\n",
       "      <td>NaN</td>\n",
       "      <td>NaN</td>\n",
       "      <td>NaN</td>\n",
       "      <td>Closed</td>\n",
       "      <td>0.0000</td>\n",
       "    </tr>\n",
       "    <tr>\n",
       "      <th>...</th>\n",
       "      <td>...</td>\n",
       "      <td>...</td>\n",
       "      <td>...</td>\n",
       "      <td>...</td>\n",
       "      <td>...</td>\n",
       "      <td>...</td>\n",
       "      <td>...</td>\n",
       "      <td>...</td>\n",
       "      <td>...</td>\n",
       "      <td>...</td>\n",
       "    </tr>\n",
       "    <tr>\n",
       "      <th>258</th>\n",
       "      <td>01/05/24</td>\n",
       "      <td>1.0945</td>\n",
       "      <td>1.0998</td>\n",
       "      <td>1.0877</td>\n",
       "      <td>1.0939</td>\n",
       "      <td>1.09566</td>\n",
       "      <td>1.093713</td>\n",
       "      <td>1.091508</td>\n",
       "      <td>Open</td>\n",
       "      <td>0.0000</td>\n",
       "    </tr>\n",
       "    <tr>\n",
       "      <th>259</th>\n",
       "      <td>01/04/24</td>\n",
       "      <td>1.0920</td>\n",
       "      <td>1.0975</td>\n",
       "      <td>1.0915</td>\n",
       "      <td>1.0946</td>\n",
       "      <td>1.09542</td>\n",
       "      <td>1.094412</td>\n",
       "      <td>1.091915</td>\n",
       "      <td>Open</td>\n",
       "      <td>0.0000</td>\n",
       "    </tr>\n",
       "    <tr>\n",
       "      <th>260</th>\n",
       "      <td>01/03/24</td>\n",
       "      <td>1.0937</td>\n",
       "      <td>1.0967</td>\n",
       "      <td>1.0895</td>\n",
       "      <td>1.0922</td>\n",
       "      <td>1.09490</td>\n",
       "      <td>1.095263</td>\n",
       "      <td>1.092615</td>\n",
       "      <td>Closed</td>\n",
       "      <td>0.0103</td>\n",
       "    </tr>\n",
       "    <tr>\n",
       "      <th>261</th>\n",
       "      <td>01/02/24</td>\n",
       "      <td>1.1046</td>\n",
       "      <td>1.1056</td>\n",
       "      <td>1.0938</td>\n",
       "      <td>1.0940</td>\n",
       "      <td>1.09384</td>\n",
       "      <td>1.094875</td>\n",
       "      <td>1.092908</td>\n",
       "      <td>Closed</td>\n",
       "      <td>0.0000</td>\n",
       "    </tr>\n",
       "    <tr>\n",
       "      <th>262</th>\n",
       "      <td>01/01/24</td>\n",
       "      <td>1.1058</td>\n",
       "      <td>1.1080</td>\n",
       "      <td>1.1037</td>\n",
       "      <td>1.1047</td>\n",
       "      <td>1.09398</td>\n",
       "      <td>1.094738</td>\n",
       "      <td>1.093238</td>\n",
       "      <td>Closed</td>\n",
       "      <td>0.0000</td>\n",
       "    </tr>\n",
       "  </tbody>\n",
       "</table>\n",
       "<p>263 rows × 10 columns</p>\n",
       "</div>"
      ],
      "text/plain": [
       "         Date    Open    High     Low   Close      MA5       MA8      MA13  \\\n",
       "0    01/01/25  1.0356  1.0364  1.0352  1.0359      NaN       NaN       NaN   \n",
       "1    12/31/24  1.0409  1.0426  1.0345  1.0355      NaN       NaN       NaN   \n",
       "2    12/30/24  1.0427  1.0459  1.0373  1.0408      NaN       NaN       NaN   \n",
       "3    12/27/24  1.0419  1.0446  1.0406  1.0428      NaN       NaN       NaN   \n",
       "4    12/26/24  1.0407  1.0432  1.0381  1.0425      NaN       NaN       NaN   \n",
       "..        ...     ...     ...     ...     ...      ...       ...       ...   \n",
       "258  01/05/24  1.0945  1.0998  1.0877  1.0939  1.09566  1.093713  1.091508   \n",
       "259  01/04/24  1.0920  1.0975  1.0915  1.0946  1.09542  1.094412  1.091915   \n",
       "260  01/03/24  1.0937  1.0967  1.0895  1.0922  1.09490  1.095263  1.092615   \n",
       "261  01/02/24  1.1046  1.1056  1.0938  1.0940  1.09384  1.094875  1.092908   \n",
       "262  01/01/24  1.1058  1.1080  1.1037  1.1047  1.09398  1.094738  1.093238   \n",
       "\n",
       "        Buy  Profit  \n",
       "0    Closed  0.0000  \n",
       "1    Closed  0.0000  \n",
       "2    Closed  0.0000  \n",
       "3    Closed  0.0000  \n",
       "4    Closed  0.0000  \n",
       "..      ...     ...  \n",
       "258    Open  0.0000  \n",
       "259    Open  0.0000  \n",
       "260  Closed  0.0103  \n",
       "261  Closed  0.0000  \n",
       "262  Closed  0.0000  \n",
       "\n",
       "[263 rows x 10 columns]"
      ]
     },
     "execution_count": 4,
     "metadata": {},
     "output_type": "execute_result"
    }
   ],
=======
   "execution_count": 5,
   "metadata": {},
   "outputs": [],
   "source": [
    "# eur_usd_df[' Close']\n",
    "def MA5(table):\n",
    "    counter = 0\n",
    "    avg5_list = []\n",
    "    for x in table[' Close']:\n",
    "        if(counter>4):\n",
    "            avg5 = np.average([table[' Close'][counter - 5],\n",
    "                               table[' Close'][counter - 4],\n",
    "                               table[' Close'][counter - 3],\n",
    "                               table[' Close'][counter - 2],\n",
    "                               table[' Close'][counter - 1]])\n",
    "            avg5_list.append(avg5)\n",
    "        else:\n",
    "            avg5_list.append(None)\n",
    "        counter += 1\n",
    "\n",
    "    return avg5_list\n"
   ]
  },
  {
   "cell_type": "code",
   "execution_count": 6,
   "metadata": {},
   "outputs": [],
   "source": [
    "eur_usd_df[' MA5'] = MA5(eur_usd_df)\n",
    "cad_usd_df[' MA5'] = MA5(cad_usd_df)\n",
    "jpy_usd_df[' MA5'] = MA5(jpy_usd_df)\n",
    "# print(jpy_usd_df[0:10])"
   ]
  },
  {
   "cell_type": "code",
   "execution_count": 7,
   "metadata": {},
   "outputs": [],
   "source": [
    "def MA8(table):\n",
    "    counter = 0\n",
    "    avg8_list = []\n",
    "    for x in table[' Close']:\n",
    "        if(counter>7):\n",
    "            avg8 = np.average([table[' Close'][counter - 8],\n",
    "                               table[' Close'][counter - 7],\n",
    "                               table[' Close'][counter - 6],\n",
    "                               table[' Close'][counter - 5],\n",
    "                               table[' Close'][counter - 4],\n",
    "                               table[' Close'][counter - 3],\n",
    "                               table[' Close'][counter - 2],\n",
    "                               table[' Close'][counter - 1]])\n",
    "            avg8_list.append(avg8)\n",
    "        else:\n",
    "            avg8_list.append(None)\n",
    "        counter += 1\n",
    "\n",
    "    return avg8_list"
   ]
  },
  {
   "cell_type": "code",
   "execution_count": 8,
   "metadata": {},
   "outputs": [],
>>>>>>> ea21e2bd453d4d522f6775f4a9b8fafcedd2750e
   "source": [
    "eur_usd_df"
   ]
  },
  {
   "cell_type": "code",
   "execution_count": 5,
   "metadata": {},
   "outputs": [],
   "source": [
    "# eur_usd_df[' Close']\n",
    "def MA5(table):\n",
    "    counter = 0\n",
    "    avg5_list = []\n",
    "    for x in table[' Close']:\n",
    "        if(counter>4):\n",
    "            avg5 = np.average([table[' Close'][counter - 5],\n",
    "                               table[' Close'][counter - 4],\n",
    "                               table[' Close'][counter - 3],\n",
    "                               table[' Close'][counter - 2],\n",
    "                               table[' Close'][counter - 1]])\n",
    "            avg5_list.append(avg5)\n",
    "        else:\n",
    "            avg5_list.append(None)\n",
    "        counter += 1\n",
    "\n",
    "    return avg5_list\n"
   ]
  },
  {
   "cell_type": "code",
   "execution_count": 6,
   "metadata": {},
   "outputs": [],
   "source": [
    "eur_usd_df[' MA5'] = MA5(eur_usd_df)\n",
    "cad_usd_df[' MA5'] = MA5(cad_usd_df)\n",
    "jpy_usd_df[' MA5'] = MA5(jpy_usd_df)\n",
    "# print(jpy_usd_df[0:10])"
   ]
  },
  {
   "cell_type": "code",
   "execution_count": 7,
   "metadata": {},
   "outputs": [],
   "source": [
    "def MA8(table):\n",
    "    counter = 0\n",
    "    avg8_list = []\n",
    "    for x in table[' Close']:\n",
    "        if(counter>7):\n",
    "            avg8 = np.average([table[' Close'][counter - 8],\n",
    "                               table[' Close'][counter - 7],\n",
    "                               table[' Close'][counter - 6],\n",
    "                               table[' Close'][counter - 5],\n",
    "                               table[' Close'][counter - 4],\n",
    "                               table[' Close'][counter - 3],\n",
    "                               table[' Close'][counter - 2],\n",
    "                               table[' Close'][counter - 1]])\n",
    "            avg8_list.append(avg8)\n",
    "        else:\n",
    "            avg8_list.append(None)\n",
    "        counter += 1\n",
    "\n",
    "    return avg8_list"
   ]
  },
  {
   "cell_type": "code",
   "execution_count": 8,
   "metadata": {},
   "outputs": [],
   "source": [
    "eur_usd_df[' MA8'] = MA8(eur_usd_df)\n",
    "cad_usd_df[' MA8'] = MA8(cad_usd_df)\n",
    "jpy_usd_df[' MA8'] = MA8(jpy_usd_df)\n",
    "# jpy_usd_df[0:12]"
   ]
  },
  {
   "cell_type": "code",
   "execution_count": 9,
   "metadata": {},
   "outputs": [],
   "source": [
    "def MA13(table):\n",
    "    counter = 0\n",
    "    avg13_list = []\n",
    "    for x in table[' Close']:\n",
    "        if(counter>12):\n",
    "            avg13 = np.average([table[' Close'][counter - 13],\n",
    "                                table[' Close'][counter - 12],\n",
    "                                table[' Close'][counter - 11],\n",
    "                                table[' Close'][counter - 10],\n",
    "                                table[' Close'][counter - 9],\n",
    "                                table[' Close'][counter - 8],\n",
    "                                table[' Close'][counter - 7],\n",
    "                                table[' Close'][counter - 6],\n",
    "                                table[' Close'][counter - 5],\n",
    "                                table[' Close'][counter - 4],\n",
    "                                table[' Close'][counter - 3],\n",
    "                                table[' Close'][counter - 2],\n",
    "                                table[' Close'][counter - 1]])\n",
    "            avg13_list.append(avg13)\n",
    "        else:\n",
    "            avg13_list.append(None)\n",
    "        counter += 1\n",
    "\n",
    "    return avg13_list"
   ]
  },
  {
   "cell_type": "code",
   "execution_count": 10,
   "metadata": {},
   "outputs": [],
   "source": [
    "eur_usd_df[' MA13'] = MA13(eur_usd_df)\n",
    "cad_usd_df[' MA13'] = MA13(cad_usd_df)\n",
    "jpy_usd_df[' MA13'] = MA13(jpy_usd_df)\n",
    "# jpy_usd_df[0:15]"
   ]
  },
  {
   "cell_type": "code",
   "execution_count": 11,
   "metadata": {},
   "outputs": [
    {
     "data": {
      "image/png": "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",
      "text/plain": [
       "<Figure size 640x480 with 1 Axes>"
      ]
     },
     "metadata": {},
     "output_type": "display_data"
    },
    {
     "data": {
      "text/plain": [
       "<Figure size 55000x55000 with 0 Axes>"
      ]
     },
     "metadata": {},
     "output_type": "display_data"
    }
   ],
   "source": [
    "plt.plot(eur_usd_df['Date'], eur_usd_df[' Close'], label='Close')\n",
    "plt.plot(eur_usd_df['Date'], eur_usd_df[' MA5'], label= 'MA5')\n",
    "plt.plot(eur_usd_df['Date'], eur_usd_df[' MA8'], label= 'MA8')\n",
    "plt.plot(eur_usd_df['Date'], eur_usd_df[' MA13'], label= 'MA13')\n",
    "plt.figure(figsize=(550,550))\n",
    "plt.show()"
   ]
  },
  {
   "cell_type": "code",
   "execution_count": 12,
   "metadata": {},
   "outputs": [],
   "source": [
    "def setup_buy_col(table):\n",
    "        buy = []\n",
    "        for row in eur_usd_df.iterrows():\n",
    "                buy.append('Closed')\n",
    "        return buy\n",
    "\n",
    "def setup_prof_col(table):\n",
    "        profit = []\n",
    "        for row in eur_usd_df.iterrows():\n",
    "                profit.append(0)\n",
    "        return profit\n"
   ]
  },
  {
   "cell_type": "code",
   "execution_count": 13,
   "metadata": {},
   "outputs": [],
   "source": [
    "eur_usd_df['Buy'] = setup_buy_col(eur_usd_df)\n",
    "eur_usd_df['Profit'] = setup_prof_col(eur_usd_df)\n",
    "\n",
    "cad_usd_df['Buy'] = setup_buy_col(cad_usd_df)\n",
    "cad_usd_df['Profit'] = setup_prof_col(cad_usd_df)\n",
    "\n",
    "jpy_usd_df['Buy'] = setup_buy_col(jpy_usd_df)\n",
    "jpy_usd_df['Profit'] = setup_prof_col(jpy_usd_df)"
   ]
  },
  {
   "cell_type": "code",
   "execution_count": 14,
   "metadata": {},
   "outputs": [
    {
     "data": {
      "text/html": [
       "<div>\n",
       "<style scoped>\n",
       "    .dataframe tbody tr th:only-of-type {\n",
       "        vertical-align: middle;\n",
       "    }\n",
       "\n",
       "    .dataframe tbody tr th {\n",
       "        vertical-align: top;\n",
       "    }\n",
       "\n",
       "    .dataframe thead th {\n",
       "        text-align: right;\n",
       "    }\n",
       "</style>\n",
       "<table border=\"1\" class=\"dataframe\">\n",
       "  <thead>\n",
       "    <tr style=\"text-align: right;\">\n",
       "      <th></th>\n",
       "      <th>Date</th>\n",
       "      <th>Open</th>\n",
       "      <th>High</th>\n",
       "      <th>Low</th>\n",
       "      <th>Close</th>\n",
       "      <th>MA5</th>\n",
       "      <th>MA8</th>\n",
       "      <th>MA13</th>\n",
       "      <th>Buy</th>\n",
       "      <th>Profit</th>\n",
       "    </tr>\n",
       "  </thead>\n",
       "  <tbody>\n",
       "    <tr>\n",
       "      <th>30</th>\n",
       "      <td>11/20/24</td>\n",
       "      <td>1.0595</td>\n",
       "      <td>1.0612</td>\n",
       "      <td>1.0508</td>\n",
       "      <td>1.0546</td>\n",
       "      <td>1.04916</td>\n",
       "      <td>1.051113</td>\n",
       "      <td>1.052500</td>\n",
       "      <td>Closed</td>\n",
       "      <td>0</td>\n",
       "    </tr>\n",
       "    <tr>\n",
       "      <th>31</th>\n",
       "      <td>11/19/24</td>\n",
       "      <td>1.0599</td>\n",
       "      <td>1.0604</td>\n",
       "      <td>1.0526</td>\n",
       "      <td>1.0596</td>\n",
       "      <td>1.04870</td>\n",
       "      <td>1.051712</td>\n",
       "      <td>1.052431</td>\n",
       "      <td>Closed</td>\n",
       "      <td>0</td>\n",
       "    </tr>\n",
       "    <tr>\n",
       "      <th>32</th>\n",
       "      <td>11/18/24</td>\n",
       "      <td>1.0548</td>\n",
       "      <td>1.0610</td>\n",
       "      <td>1.0531</td>\n",
       "      <td>1.0598</td>\n",
       "      <td>1.05080</td>\n",
       "      <td>1.051925</td>\n",
       "      <td>1.052638</td>\n",
       "      <td>Closed</td>\n",
       "      <td>0</td>\n",
       "    </tr>\n",
       "    <tr>\n",
       "      <th>33</th>\n",
       "      <td>11/15/24</td>\n",
       "      <td>1.0532</td>\n",
       "      <td>1.0595</td>\n",
       "      <td>1.0516</td>\n",
       "      <td>1.0540</td>\n",
       "      <td>1.05282</td>\n",
       "      <td>1.052475</td>\n",
       "      <td>1.052700</td>\n",
       "      <td>Closed</td>\n",
       "      <td>0</td>\n",
       "    </tr>\n",
       "    <tr>\n",
       "      <th>34</th>\n",
       "      <td>11/14/24</td>\n",
       "      <td>1.0567</td>\n",
       "      <td>1.0584</td>\n",
       "      <td>1.0498</td>\n",
       "      <td>1.0531</td>\n",
       "      <td>1.05508</td>\n",
       "      <td>1.052113</td>\n",
       "      <td>1.052915</td>\n",
       "      <td>Closed</td>\n",
       "      <td>0</td>\n",
       "    </tr>\n",
       "    <tr>\n",
       "      <th>35</th>\n",
       "      <td>11/13/24</td>\n",
       "      <td>1.0624</td>\n",
       "      <td>1.0655</td>\n",
       "      <td>1.0556</td>\n",
       "      <td>1.0564</td>\n",
       "      <td>1.05622</td>\n",
       "      <td>1.052612</td>\n",
       "      <td>1.053077</td>\n",
       "      <td>Closed</td>\n",
       "      <td>0</td>\n",
       "    </tr>\n",
       "    <tr>\n",
       "      <th>36</th>\n",
       "      <td>11/12/24</td>\n",
       "      <td>1.0655</td>\n",
       "      <td>1.0666</td>\n",
       "      <td>1.0595</td>\n",
       "      <td>1.0623</td>\n",
       "      <td>1.05658</td>\n",
       "      <td>1.053450</td>\n",
       "      <td>1.053585</td>\n",
       "      <td>Closed</td>\n",
       "      <td>0</td>\n",
       "    </tr>\n",
       "    <tr>\n",
       "      <th>37</th>\n",
       "      <td>11/11/24</td>\n",
       "      <td>1.0724</td>\n",
       "      <td>1.0730</td>\n",
       "      <td>1.0629</td>\n",
       "      <td>1.0655</td>\n",
       "      <td>1.05712</td>\n",
       "      <td>1.055900</td>\n",
       "      <td>1.053923</td>\n",
       "      <td>Closed</td>\n",
       "      <td>0</td>\n",
       "    </tr>\n",
       "    <tr>\n",
       "      <th>38</th>\n",
       "      <td>11/08/24</td>\n",
       "      <td>1.0805</td>\n",
       "      <td>1.0810</td>\n",
       "      <td>1.0688</td>\n",
       "      <td>1.0719</td>\n",
       "      <td>1.05826</td>\n",
       "      <td>1.058162</td>\n",
       "      <td>1.054700</td>\n",
       "      <td>Closed</td>\n",
       "      <td>0</td>\n",
       "    </tr>\n",
       "    <tr>\n",
       "      <th>39</th>\n",
       "      <td>11/07/24</td>\n",
       "      <td>1.0730</td>\n",
       "      <td>1.0828</td>\n",
       "      <td>1.0713</td>\n",
       "      <td>1.0803</td>\n",
       "      <td>1.06184</td>\n",
       "      <td>1.060325</td>\n",
       "      <td>1.055854</td>\n",
       "      <td>Closed</td>\n",
       "      <td>0</td>\n",
       "    </tr>\n",
       "    <tr>\n",
       "      <th>40</th>\n",
       "      <td>11/06/24</td>\n",
       "      <td>1.0931</td>\n",
       "      <td>1.0940</td>\n",
       "      <td>1.0683</td>\n",
       "      <td>1.0731</td>\n",
       "      <td>1.06728</td>\n",
       "      <td>1.062912</td>\n",
       "      <td>1.058254</td>\n",
       "      <td>Closed</td>\n",
       "      <td>0</td>\n",
       "    </tr>\n",
       "    <tr>\n",
       "      <th>41</th>\n",
       "      <td>11/05/24</td>\n",
       "      <td>1.0879</td>\n",
       "      <td>1.0938</td>\n",
       "      <td>1.0873</td>\n",
       "      <td>1.0932</td>\n",
       "      <td>1.07062</td>\n",
       "      <td>1.064575</td>\n",
       "      <td>1.060054</td>\n",
       "      <td>Closed</td>\n",
       "      <td>0</td>\n",
       "    </tr>\n",
       "    <tr>\n",
       "      <th>42</th>\n",
       "      <td>11/04/24</td>\n",
       "      <td>1.0881</td>\n",
       "      <td>1.0917</td>\n",
       "      <td>1.0870</td>\n",
       "      <td>1.0878</td>\n",
       "      <td>1.07680</td>\n",
       "      <td>1.069475</td>\n",
       "      <td>1.063938</td>\n",
       "      <td>Closed</td>\n",
       "      <td>0</td>\n",
       "    </tr>\n",
       "    <tr>\n",
       "      <th>43</th>\n",
       "      <td>11/01/24</td>\n",
       "      <td>1.0883</td>\n",
       "      <td>1.0908</td>\n",
       "      <td>1.0832</td>\n",
       "      <td>1.0835</td>\n",
       "      <td>1.08126</td>\n",
       "      <td>1.073813</td>\n",
       "      <td>1.067046</td>\n",
       "      <td>Closed</td>\n",
       "      <td>0</td>\n",
       "    </tr>\n",
       "    <tr>\n",
       "      <th>44</th>\n",
       "      <td>10/31/24</td>\n",
       "      <td>1.0857</td>\n",
       "      <td>1.0891</td>\n",
       "      <td>1.0843</td>\n",
       "      <td>1.0884</td>\n",
       "      <td>1.08358</td>\n",
       "      <td>1.077200</td>\n",
       "      <td>1.069269</td>\n",
       "      <td>Closed</td>\n",
       "      <td>0</td>\n",
       "    </tr>\n",
       "    <tr>\n",
       "      <th>45</th>\n",
       "      <td>10/30/24</td>\n",
       "      <td>1.0818</td>\n",
       "      <td>1.0874</td>\n",
       "      <td>1.0798</td>\n",
       "      <td>1.0857</td>\n",
       "      <td>1.08520</td>\n",
       "      <td>1.080462</td>\n",
       "      <td>1.071485</td>\n",
       "      <td>Closed</td>\n",
       "      <td>0</td>\n",
       "    </tr>\n",
       "    <tr>\n",
       "      <th>46</th>\n",
       "      <td>10/29/24</td>\n",
       "      <td>1.0813</td>\n",
       "      <td>1.0828</td>\n",
       "      <td>1.0770</td>\n",
       "      <td>1.0819</td>\n",
       "      <td>1.08772</td>\n",
       "      <td>1.082987</td>\n",
       "      <td>1.073477</td>\n",
       "      <td>Closed</td>\n",
       "      <td>0</td>\n",
       "    </tr>\n",
       "    <tr>\n",
       "      <th>47</th>\n",
       "      <td>10/28/24</td>\n",
       "      <td>1.0803</td>\n",
       "      <td>1.0829</td>\n",
       "      <td>1.0781</td>\n",
       "      <td>1.0814</td>\n",
       "      <td>1.08546</td>\n",
       "      <td>1.084237</td>\n",
       "      <td>1.075623</td>\n",
       "      <td>Closed</td>\n",
       "      <td>0</td>\n",
       "    </tr>\n",
       "    <tr>\n",
       "      <th>48</th>\n",
       "      <td>10/25/24</td>\n",
       "      <td>1.0830</td>\n",
       "      <td>1.0841</td>\n",
       "      <td>1.0794</td>\n",
       "      <td>1.0796</td>\n",
       "      <td>1.08418</td>\n",
       "      <td>1.084375</td>\n",
       "      <td>1.077800</td>\n",
       "      <td>Closed</td>\n",
       "      <td>0</td>\n",
       "    </tr>\n",
       "    <tr>\n",
       "      <th>49</th>\n",
       "      <td>10/24/24</td>\n",
       "      <td>1.0784</td>\n",
       "      <td>1.0833</td>\n",
       "      <td>1.0772</td>\n",
       "      <td>1.0828</td>\n",
       "      <td>1.08340</td>\n",
       "      <td>1.085187</td>\n",
       "      <td>1.079585</td>\n",
       "      <td>Closed</td>\n",
       "      <td>0</td>\n",
       "    </tr>\n",
       "    <tr>\n",
       "      <th>50</th>\n",
       "      <td>10/23/24</td>\n",
       "      <td>1.0798</td>\n",
       "      <td>1.0809</td>\n",
       "      <td>1.0761</td>\n",
       "      <td>1.0782</td>\n",
       "      <td>1.08228</td>\n",
       "      <td>1.083887</td>\n",
       "      <td>1.081162</td>\n",
       "      <td>Closed</td>\n",
       "      <td>0</td>\n",
       "    </tr>\n",
       "    <tr>\n",
       "      <th>51</th>\n",
       "      <td>10/22/24</td>\n",
       "      <td>1.0816</td>\n",
       "      <td>1.0849</td>\n",
       "      <td>1.0793</td>\n",
       "      <td>1.0800</td>\n",
       "      <td>1.08078</td>\n",
       "      <td>1.082688</td>\n",
       "      <td>1.082138</td>\n",
       "      <td>Closed</td>\n",
       "      <td>0</td>\n",
       "    </tr>\n",
       "    <tr>\n",
       "      <th>52</th>\n",
       "      <td>10/21/24</td>\n",
       "      <td>1.0877</td>\n",
       "      <td>1.0877</td>\n",
       "      <td>1.0811</td>\n",
       "      <td>1.0817</td>\n",
       "      <td>1.08040</td>\n",
       "      <td>1.082250</td>\n",
       "      <td>1.082762</td>\n",
       "      <td>Closed</td>\n",
       "      <td>0</td>\n",
       "    </tr>\n",
       "    <tr>\n",
       "      <th>53</th>\n",
       "      <td>10/18/24</td>\n",
       "      <td>1.0828</td>\n",
       "      <td>1.0872</td>\n",
       "      <td>1.0825</td>\n",
       "      <td>1.0869</td>\n",
       "      <td>1.08046</td>\n",
       "      <td>1.081412</td>\n",
       "      <td>1.082869</td>\n",
       "      <td>Closed</td>\n",
       "      <td>0</td>\n",
       "    </tr>\n",
       "    <tr>\n",
       "      <th>54</th>\n",
       "      <td>10/17/24</td>\n",
       "      <td>1.0862</td>\n",
       "      <td>1.0876</td>\n",
       "      <td>1.0813</td>\n",
       "      <td>1.0832</td>\n",
       "      <td>1.08192</td>\n",
       "      <td>1.081562</td>\n",
       "      <td>1.083931</td>\n",
       "      <td>Closed</td>\n",
       "      <td>0</td>\n",
       "    </tr>\n",
       "    <tr>\n",
       "      <th>55</th>\n",
       "      <td>10/16/24</td>\n",
       "      <td>1.0893</td>\n",
       "      <td>1.0926</td>\n",
       "      <td>1.0854</td>\n",
       "      <td>1.0861</td>\n",
       "      <td>1.08200</td>\n",
       "      <td>1.081725</td>\n",
       "      <td>1.083162</td>\n",
       "      <td>Closed</td>\n",
       "      <td>0</td>\n",
       "    </tr>\n",
       "    <tr>\n",
       "      <th>56</th>\n",
       "      <td>10/15/24</td>\n",
       "      <td>1.0908</td>\n",
       "      <td>1.0946</td>\n",
       "      <td>1.0882</td>\n",
       "      <td>1.0892</td>\n",
       "      <td>1.08358</td>\n",
       "      <td>1.082313</td>\n",
       "      <td>1.083031</td>\n",
       "      <td>Closed</td>\n",
       "      <td>0</td>\n",
       "    </tr>\n",
       "    <tr>\n",
       "      <th>57</th>\n",
       "      <td>10/14/24</td>\n",
       "      <td>1.0952</td>\n",
       "      <td>1.0952</td>\n",
       "      <td>1.0890</td>\n",
       "      <td>1.0911</td>\n",
       "      <td>1.08542</td>\n",
       "      <td>1.083512</td>\n",
       "      <td>1.083469</td>\n",
       "      <td>Closed</td>\n",
       "      <td>0</td>\n",
       "    </tr>\n",
       "    <tr>\n",
       "      <th>58</th>\n",
       "      <td>10/11/24</td>\n",
       "      <td>1.0934</td>\n",
       "      <td>1.0956</td>\n",
       "      <td>1.0923</td>\n",
       "      <td>1.0938</td>\n",
       "      <td>1.08730</td>\n",
       "      <td>1.084550</td>\n",
       "      <td>1.083677</td>\n",
       "      <td>Closed</td>\n",
       "      <td>0</td>\n",
       "    </tr>\n",
       "    <tr>\n",
       "      <th>59</th>\n",
       "      <td>10/10/24</td>\n",
       "      <td>1.0939</td>\n",
       "      <td>1.0957</td>\n",
       "      <td>1.0900</td>\n",
       "      <td>1.0938</td>\n",
       "      <td>1.08868</td>\n",
       "      <td>1.086500</td>\n",
       "      <td>1.084300</td>\n",
       "      <td>Closed</td>\n",
       "      <td>0</td>\n",
       "    </tr>\n",
       "  </tbody>\n",
       "</table>\n",
       "</div>"
      ],
      "text/plain": [
       "        Date    Open    High     Low   Close      MA5       MA8      MA13  \\\n",
       "30  11/20/24  1.0595  1.0612  1.0508  1.0546  1.04916  1.051113  1.052500   \n",
       "31  11/19/24  1.0599  1.0604  1.0526  1.0596  1.04870  1.051712  1.052431   \n",
       "32  11/18/24  1.0548  1.0610  1.0531  1.0598  1.05080  1.051925  1.052638   \n",
       "33  11/15/24  1.0532  1.0595  1.0516  1.0540  1.05282  1.052475  1.052700   \n",
       "34  11/14/24  1.0567  1.0584  1.0498  1.0531  1.05508  1.052113  1.052915   \n",
       "35  11/13/24  1.0624  1.0655  1.0556  1.0564  1.05622  1.052612  1.053077   \n",
       "36  11/12/24  1.0655  1.0666  1.0595  1.0623  1.05658  1.053450  1.053585   \n",
       "37  11/11/24  1.0724  1.0730  1.0629  1.0655  1.05712  1.055900  1.053923   \n",
       "38  11/08/24  1.0805  1.0810  1.0688  1.0719  1.05826  1.058162  1.054700   \n",
       "39  11/07/24  1.0730  1.0828  1.0713  1.0803  1.06184  1.060325  1.055854   \n",
       "40  11/06/24  1.0931  1.0940  1.0683  1.0731  1.06728  1.062912  1.058254   \n",
       "41  11/05/24  1.0879  1.0938  1.0873  1.0932  1.07062  1.064575  1.060054   \n",
       "42  11/04/24  1.0881  1.0917  1.0870  1.0878  1.07680  1.069475  1.063938   \n",
       "43  11/01/24  1.0883  1.0908  1.0832  1.0835  1.08126  1.073813  1.067046   \n",
       "44  10/31/24  1.0857  1.0891  1.0843  1.0884  1.08358  1.077200  1.069269   \n",
       "45  10/30/24  1.0818  1.0874  1.0798  1.0857  1.08520  1.080462  1.071485   \n",
       "46  10/29/24  1.0813  1.0828  1.0770  1.0819  1.08772  1.082987  1.073477   \n",
       "47  10/28/24  1.0803  1.0829  1.0781  1.0814  1.08546  1.084237  1.075623   \n",
       "48  10/25/24  1.0830  1.0841  1.0794  1.0796  1.08418  1.084375  1.077800   \n",
       "49  10/24/24  1.0784  1.0833  1.0772  1.0828  1.08340  1.085187  1.079585   \n",
       "50  10/23/24  1.0798  1.0809  1.0761  1.0782  1.08228  1.083887  1.081162   \n",
       "51  10/22/24  1.0816  1.0849  1.0793  1.0800  1.08078  1.082688  1.082138   \n",
       "52  10/21/24  1.0877  1.0877  1.0811  1.0817  1.08040  1.082250  1.082762   \n",
       "53  10/18/24  1.0828  1.0872  1.0825  1.0869  1.08046  1.081412  1.082869   \n",
       "54  10/17/24  1.0862  1.0876  1.0813  1.0832  1.08192  1.081562  1.083931   \n",
       "55  10/16/24  1.0893  1.0926  1.0854  1.0861  1.08200  1.081725  1.083162   \n",
       "56  10/15/24  1.0908  1.0946  1.0882  1.0892  1.08358  1.082313  1.083031   \n",
       "57  10/14/24  1.0952  1.0952  1.0890  1.0911  1.08542  1.083512  1.083469   \n",
       "58  10/11/24  1.0934  1.0956  1.0923  1.0938  1.08730  1.084550  1.083677   \n",
       "59  10/10/24  1.0939  1.0957  1.0900  1.0938  1.08868  1.086500  1.084300   \n",
       "\n",
       "       Buy  Profit  \n",
       "30  Closed       0  \n",
       "31  Closed       0  \n",
       "32  Closed       0  \n",
       "33  Closed       0  \n",
       "34  Closed       0  \n",
       "35  Closed       0  \n",
       "36  Closed       0  \n",
       "37  Closed       0  \n",
       "38  Closed       0  \n",
       "39  Closed       0  \n",
       "40  Closed       0  \n",
       "41  Closed       0  \n",
       "42  Closed       0  \n",
       "43  Closed       0  \n",
       "44  Closed       0  \n",
       "45  Closed       0  \n",
       "46  Closed       0  \n",
       "47  Closed       0  \n",
       "48  Closed       0  \n",
       "49  Closed       0  \n",
       "50  Closed       0  \n",
       "51  Closed       0  \n",
       "52  Closed       0  \n",
       "53  Closed       0  \n",
       "54  Closed       0  \n",
       "55  Closed       0  \n",
       "56  Closed       0  \n",
       "57  Closed       0  \n",
       "58  Closed       0  \n",
       "59  Closed       0  "
      ]
     },
     "execution_count": 14,
     "metadata": {},
     "output_type": "execute_result"
    }
   ],
   "source": [
    "eur_usd_df[30:60]"
   ]
  },
  {
   "cell_type": "code",
   "execution_count": 15,
   "metadata": {},
   "outputs": [],
   "source": [
    "def algo(table):\n",
    "    for index, row in table.iterrows():\n",
    "        if (index>12):\n",
    "            if (table['Buy'][index-1] == 'Closed'):\n",
    "                if ((table[' MA5'][index] > table[' MA8'][index]) & (table[' MA8'][index] > table[' MA13'][index])):\n",
    "                    table['Buy'][index] = 'Open'\n",
    "\n",
    "            if (table['Buy'][index-1] == 'Open'):\n",
    "                if (table[' Close'][index] < table[' MA13'][index]):\n",
    "                    table['Buy'][index] = 'Closed'\n",
    "                else:\n",
    "                    table['Buy'][index] = 'Open'\n",
    "    return table['Buy']"
   ]
  },
  {
   "cell_type": "code",
   "execution_count": 16,
   "metadata": {},
   "outputs": [
    {
     "name": "stderr",
     "output_type": "stream",
     "text": [
<<<<<<< HEAD
      "C:\\Users\\justi\\AppData\\Local\\Temp\\ipykernel_34332\\2363322849.py:6: SettingWithCopyWarning: \n",
=======
      "/var/folders/hc/nkkc_9yd3fd9x9025zg61t2w0000gn/T/ipykernel_44949/2363322849.py:6: SettingWithCopyWarning: \n",
>>>>>>> ea21e2bd453d4d522f6775f4a9b8fafcedd2750e
      "A value is trying to be set on a copy of a slice from a DataFrame\n",
      "\n",
      "See the caveats in the documentation: https://pandas.pydata.org/pandas-docs/stable/user_guide/indexing.html#returning-a-view-versus-a-copy\n",
      "  table['Buy'][index] = 'Open'\n",
<<<<<<< HEAD
      "C:\\Users\\justi\\AppData\\Local\\Temp\\ipykernel_34332\\2363322849.py:12: SettingWithCopyWarning: \n",
=======
      "/var/folders/hc/nkkc_9yd3fd9x9025zg61t2w0000gn/T/ipykernel_44949/2363322849.py:12: SettingWithCopyWarning: \n",
>>>>>>> ea21e2bd453d4d522f6775f4a9b8fafcedd2750e
      "A value is trying to be set on a copy of a slice from a DataFrame\n",
      "\n",
      "See the caveats in the documentation: https://pandas.pydata.org/pandas-docs/stable/user_guide/indexing.html#returning-a-view-versus-a-copy\n",
      "  table['Buy'][index] = 'Open'\n",
<<<<<<< HEAD
      "C:\\Users\\justi\\AppData\\Local\\Temp\\ipykernel_34332\\2363322849.py:12: SettingWithCopyWarning: \n",
=======
      "/var/folders/hc/nkkc_9yd3fd9x9025zg61t2w0000gn/T/ipykernel_44949/2363322849.py:12: SettingWithCopyWarning: \n",
>>>>>>> ea21e2bd453d4d522f6775f4a9b8fafcedd2750e
      "A value is trying to be set on a copy of a slice from a DataFrame\n",
      "\n",
      "See the caveats in the documentation: https://pandas.pydata.org/pandas-docs/stable/user_guide/indexing.html#returning-a-view-versus-a-copy\n",
      "  table['Buy'][index] = 'Open'\n",
<<<<<<< HEAD
      "C:\\Users\\justi\\AppData\\Local\\Temp\\ipykernel_34332\\2363322849.py:12: SettingWithCopyWarning: \n",
=======
      "/var/folders/hc/nkkc_9yd3fd9x9025zg61t2w0000gn/T/ipykernel_44949/2363322849.py:12: SettingWithCopyWarning: \n",
>>>>>>> ea21e2bd453d4d522f6775f4a9b8fafcedd2750e
      "A value is trying to be set on a copy of a slice from a DataFrame\n",
      "\n",
      "See the caveats in the documentation: https://pandas.pydata.org/pandas-docs/stable/user_guide/indexing.html#returning-a-view-versus-a-copy\n",
      "  table['Buy'][index] = 'Open'\n",
<<<<<<< HEAD
      "C:\\Users\\justi\\AppData\\Local\\Temp\\ipykernel_34332\\2363322849.py:12: SettingWithCopyWarning: \n",
=======
      "/var/folders/hc/nkkc_9yd3fd9x9025zg61t2w0000gn/T/ipykernel_44949/2363322849.py:12: SettingWithCopyWarning: \n",
>>>>>>> ea21e2bd453d4d522f6775f4a9b8fafcedd2750e
      "A value is trying to be set on a copy of a slice from a DataFrame\n",
      "\n",
      "See the caveats in the documentation: https://pandas.pydata.org/pandas-docs/stable/user_guide/indexing.html#returning-a-view-versus-a-copy\n",
      "  table['Buy'][index] = 'Open'\n",
<<<<<<< HEAD
      "C:\\Users\\justi\\AppData\\Local\\Temp\\ipykernel_34332\\2363322849.py:12: SettingWithCopyWarning: \n",
=======
      "/var/folders/hc/nkkc_9yd3fd9x9025zg61t2w0000gn/T/ipykernel_44949/2363322849.py:12: SettingWithCopyWarning: \n",
>>>>>>> ea21e2bd453d4d522f6775f4a9b8fafcedd2750e
      "A value is trying to be set on a copy of a slice from a DataFrame\n",
      "\n",
      "See the caveats in the documentation: https://pandas.pydata.org/pandas-docs/stable/user_guide/indexing.html#returning-a-view-versus-a-copy\n",
      "  table['Buy'][index] = 'Open'\n",
<<<<<<< HEAD
      "C:\\Users\\justi\\AppData\\Local\\Temp\\ipykernel_34332\\2363322849.py:12: SettingWithCopyWarning: \n",
=======
      "/var/folders/hc/nkkc_9yd3fd9x9025zg61t2w0000gn/T/ipykernel_44949/2363322849.py:12: SettingWithCopyWarning: \n",
>>>>>>> ea21e2bd453d4d522f6775f4a9b8fafcedd2750e
      "A value is trying to be set on a copy of a slice from a DataFrame\n",
      "\n",
      "See the caveats in the documentation: https://pandas.pydata.org/pandas-docs/stable/user_guide/indexing.html#returning-a-view-versus-a-copy\n",
      "  table['Buy'][index] = 'Open'\n",
<<<<<<< HEAD
      "C:\\Users\\justi\\AppData\\Local\\Temp\\ipykernel_34332\\2363322849.py:12: SettingWithCopyWarning: \n",
=======
      "/var/folders/hc/nkkc_9yd3fd9x9025zg61t2w0000gn/T/ipykernel_44949/2363322849.py:12: SettingWithCopyWarning: \n",
>>>>>>> ea21e2bd453d4d522f6775f4a9b8fafcedd2750e
      "A value is trying to be set on a copy of a slice from a DataFrame\n",
      "\n",
      "See the caveats in the documentation: https://pandas.pydata.org/pandas-docs/stable/user_guide/indexing.html#returning-a-view-versus-a-copy\n",
      "  table['Buy'][index] = 'Open'\n",
<<<<<<< HEAD
      "C:\\Users\\justi\\AppData\\Local\\Temp\\ipykernel_34332\\2363322849.py:12: SettingWithCopyWarning: \n",
=======
      "/var/folders/hc/nkkc_9yd3fd9x9025zg61t2w0000gn/T/ipykernel_44949/2363322849.py:12: SettingWithCopyWarning: \n",
>>>>>>> ea21e2bd453d4d522f6775f4a9b8fafcedd2750e
      "A value is trying to be set on a copy of a slice from a DataFrame\n",
      "\n",
      "See the caveats in the documentation: https://pandas.pydata.org/pandas-docs/stable/user_guide/indexing.html#returning-a-view-versus-a-copy\n",
      "  table['Buy'][index] = 'Open'\n",
<<<<<<< HEAD
      "C:\\Users\\justi\\AppData\\Local\\Temp\\ipykernel_34332\\2363322849.py:12: SettingWithCopyWarning: \n",
=======
      "/var/folders/hc/nkkc_9yd3fd9x9025zg61t2w0000gn/T/ipykernel_44949/2363322849.py:12: SettingWithCopyWarning: \n",
>>>>>>> ea21e2bd453d4d522f6775f4a9b8fafcedd2750e
      "A value is trying to be set on a copy of a slice from a DataFrame\n",
      "\n",
      "See the caveats in the documentation: https://pandas.pydata.org/pandas-docs/stable/user_guide/indexing.html#returning-a-view-versus-a-copy\n",
      "  table['Buy'][index] = 'Open'\n",
<<<<<<< HEAD
      "C:\\Users\\justi\\AppData\\Local\\Temp\\ipykernel_34332\\2363322849.py:12: SettingWithCopyWarning: \n",
=======
      "/var/folders/hc/nkkc_9yd3fd9x9025zg61t2w0000gn/T/ipykernel_44949/2363322849.py:12: SettingWithCopyWarning: \n",
>>>>>>> ea21e2bd453d4d522f6775f4a9b8fafcedd2750e
      "A value is trying to be set on a copy of a slice from a DataFrame\n",
      "\n",
      "See the caveats in the documentation: https://pandas.pydata.org/pandas-docs/stable/user_guide/indexing.html#returning-a-view-versus-a-copy\n",
      "  table['Buy'][index] = 'Open'\n",
<<<<<<< HEAD
      "C:\\Users\\justi\\AppData\\Local\\Temp\\ipykernel_34332\\2363322849.py:12: SettingWithCopyWarning: \n",
=======
      "/var/folders/hc/nkkc_9yd3fd9x9025zg61t2w0000gn/T/ipykernel_44949/2363322849.py:12: SettingWithCopyWarning: \n",
>>>>>>> ea21e2bd453d4d522f6775f4a9b8fafcedd2750e
      "A value is trying to be set on a copy of a slice from a DataFrame\n",
      "\n",
      "See the caveats in the documentation: https://pandas.pydata.org/pandas-docs/stable/user_guide/indexing.html#returning-a-view-versus-a-copy\n",
      "  table['Buy'][index] = 'Open'\n",
<<<<<<< HEAD
      "C:\\Users\\justi\\AppData\\Local\\Temp\\ipykernel_34332\\2363322849.py:12: SettingWithCopyWarning: \n",
=======
      "/var/folders/hc/nkkc_9yd3fd9x9025zg61t2w0000gn/T/ipykernel_44949/2363322849.py:12: SettingWithCopyWarning: \n",
>>>>>>> ea21e2bd453d4d522f6775f4a9b8fafcedd2750e
      "A value is trying to be set on a copy of a slice from a DataFrame\n",
      "\n",
      "See the caveats in the documentation: https://pandas.pydata.org/pandas-docs/stable/user_guide/indexing.html#returning-a-view-versus-a-copy\n",
      "  table['Buy'][index] = 'Open'\n",
<<<<<<< HEAD
      "C:\\Users\\justi\\AppData\\Local\\Temp\\ipykernel_34332\\2363322849.py:10: SettingWithCopyWarning: \n",
=======
      "/var/folders/hc/nkkc_9yd3fd9x9025zg61t2w0000gn/T/ipykernel_44949/2363322849.py:10: SettingWithCopyWarning: \n",
>>>>>>> ea21e2bd453d4d522f6775f4a9b8fafcedd2750e
      "A value is trying to be set on a copy of a slice from a DataFrame\n",
      "\n",
      "See the caveats in the documentation: https://pandas.pydata.org/pandas-docs/stable/user_guide/indexing.html#returning-a-view-versus-a-copy\n",
      "  table['Buy'][index] = 'Closed'\n",
<<<<<<< HEAD
      "C:\\Users\\justi\\AppData\\Local\\Temp\\ipykernel_34332\\2363322849.py:6: SettingWithCopyWarning: \n",
=======
      "/var/folders/hc/nkkc_9yd3fd9x9025zg61t2w0000gn/T/ipykernel_44949/2363322849.py:6: SettingWithCopyWarning: \n",
>>>>>>> ea21e2bd453d4d522f6775f4a9b8fafcedd2750e
      "A value is trying to be set on a copy of a slice from a DataFrame\n",
      "\n",
      "See the caveats in the documentation: https://pandas.pydata.org/pandas-docs/stable/user_guide/indexing.html#returning-a-view-versus-a-copy\n",
      "  table['Buy'][index] = 'Open'\n",
<<<<<<< HEAD
      "C:\\Users\\justi\\AppData\\Local\\Temp\\ipykernel_34332\\2363322849.py:10: SettingWithCopyWarning: \n",
=======
      "/var/folders/hc/nkkc_9yd3fd9x9025zg61t2w0000gn/T/ipykernel_44949/2363322849.py:10: SettingWithCopyWarning: \n",
>>>>>>> ea21e2bd453d4d522f6775f4a9b8fafcedd2750e
      "A value is trying to be set on a copy of a slice from a DataFrame\n",
      "\n",
      "See the caveats in the documentation: https://pandas.pydata.org/pandas-docs/stable/user_guide/indexing.html#returning-a-view-versus-a-copy\n",
      "  table['Buy'][index] = 'Closed'\n",
<<<<<<< HEAD
      "C:\\Users\\justi\\AppData\\Local\\Temp\\ipykernel_34332\\2363322849.py:6: SettingWithCopyWarning: \n",
=======
      "/var/folders/hc/nkkc_9yd3fd9x9025zg61t2w0000gn/T/ipykernel_44949/2363322849.py:6: SettingWithCopyWarning: \n",
>>>>>>> ea21e2bd453d4d522f6775f4a9b8fafcedd2750e
      "A value is trying to be set on a copy of a slice from a DataFrame\n",
      "\n",
      "See the caveats in the documentation: https://pandas.pydata.org/pandas-docs/stable/user_guide/indexing.html#returning-a-view-versus-a-copy\n",
      "  table['Buy'][index] = 'Open'\n",
<<<<<<< HEAD
      "C:\\Users\\justi\\AppData\\Local\\Temp\\ipykernel_34332\\2363322849.py:12: SettingWithCopyWarning: \n",
=======
      "/var/folders/hc/nkkc_9yd3fd9x9025zg61t2w0000gn/T/ipykernel_44949/2363322849.py:12: SettingWithCopyWarning: \n",
>>>>>>> ea21e2bd453d4d522f6775f4a9b8fafcedd2750e
      "A value is trying to be set on a copy of a slice from a DataFrame\n",
      "\n",
      "See the caveats in the documentation: https://pandas.pydata.org/pandas-docs/stable/user_guide/indexing.html#returning-a-view-versus-a-copy\n",
      "  table['Buy'][index] = 'Open'\n",
<<<<<<< HEAD
      "C:\\Users\\justi\\AppData\\Local\\Temp\\ipykernel_34332\\2363322849.py:12: SettingWithCopyWarning: \n",
=======
      "/var/folders/hc/nkkc_9yd3fd9x9025zg61t2w0000gn/T/ipykernel_44949/2363322849.py:12: SettingWithCopyWarning: \n",
>>>>>>> ea21e2bd453d4d522f6775f4a9b8fafcedd2750e
      "A value is trying to be set on a copy of a slice from a DataFrame\n",
      "\n",
      "See the caveats in the documentation: https://pandas.pydata.org/pandas-docs/stable/user_guide/indexing.html#returning-a-view-versus-a-copy\n",
      "  table['Buy'][index] = 'Open'\n",
<<<<<<< HEAD
      "C:\\Users\\justi\\AppData\\Local\\Temp\\ipykernel_34332\\2363322849.py:12: SettingWithCopyWarning: \n",
=======
      "/var/folders/hc/nkkc_9yd3fd9x9025zg61t2w0000gn/T/ipykernel_44949/2363322849.py:12: SettingWithCopyWarning: \n",
>>>>>>> ea21e2bd453d4d522f6775f4a9b8fafcedd2750e
      "A value is trying to be set on a copy of a slice from a DataFrame\n",
      "\n",
      "See the caveats in the documentation: https://pandas.pydata.org/pandas-docs/stable/user_guide/indexing.html#returning-a-view-versus-a-copy\n",
      "  table['Buy'][index] = 'Open'\n",
<<<<<<< HEAD
      "C:\\Users\\justi\\AppData\\Local\\Temp\\ipykernel_34332\\2363322849.py:12: SettingWithCopyWarning: \n",
=======
      "/var/folders/hc/nkkc_9yd3fd9x9025zg61t2w0000gn/T/ipykernel_44949/2363322849.py:12: SettingWithCopyWarning: \n",
>>>>>>> ea21e2bd453d4d522f6775f4a9b8fafcedd2750e
      "A value is trying to be set on a copy of a slice from a DataFrame\n",
      "\n",
      "See the caveats in the documentation: https://pandas.pydata.org/pandas-docs/stable/user_guide/indexing.html#returning-a-view-versus-a-copy\n",
      "  table['Buy'][index] = 'Open'\n",
<<<<<<< HEAD
      "C:\\Users\\justi\\AppData\\Local\\Temp\\ipykernel_34332\\2363322849.py:12: SettingWithCopyWarning: \n",
=======
      "/var/folders/hc/nkkc_9yd3fd9x9025zg61t2w0000gn/T/ipykernel_44949/2363322849.py:12: SettingWithCopyWarning: \n",
>>>>>>> ea21e2bd453d4d522f6775f4a9b8fafcedd2750e
      "A value is trying to be set on a copy of a slice from a DataFrame\n",
      "\n",
      "See the caveats in the documentation: https://pandas.pydata.org/pandas-docs/stable/user_guide/indexing.html#returning-a-view-versus-a-copy\n",
      "  table['Buy'][index] = 'Open'\n",
<<<<<<< HEAD
      "C:\\Users\\justi\\AppData\\Local\\Temp\\ipykernel_34332\\2363322849.py:12: SettingWithCopyWarning: \n",
=======
      "/var/folders/hc/nkkc_9yd3fd9x9025zg61t2w0000gn/T/ipykernel_44949/2363322849.py:12: SettingWithCopyWarning: \n",
>>>>>>> ea21e2bd453d4d522f6775f4a9b8fafcedd2750e
      "A value is trying to be set on a copy of a slice from a DataFrame\n",
      "\n",
      "See the caveats in the documentation: https://pandas.pydata.org/pandas-docs/stable/user_guide/indexing.html#returning-a-view-versus-a-copy\n",
      "  table['Buy'][index] = 'Open'\n",
<<<<<<< HEAD
      "C:\\Users\\justi\\AppData\\Local\\Temp\\ipykernel_34332\\2363322849.py:12: SettingWithCopyWarning: \n",
=======
      "/var/folders/hc/nkkc_9yd3fd9x9025zg61t2w0000gn/T/ipykernel_44949/2363322849.py:12: SettingWithCopyWarning: \n",
>>>>>>> ea21e2bd453d4d522f6775f4a9b8fafcedd2750e
      "A value is trying to be set on a copy of a slice from a DataFrame\n",
      "\n",
      "See the caveats in the documentation: https://pandas.pydata.org/pandas-docs/stable/user_guide/indexing.html#returning-a-view-versus-a-copy\n",
      "  table['Buy'][index] = 'Open'\n",
<<<<<<< HEAD
      "C:\\Users\\justi\\AppData\\Local\\Temp\\ipykernel_34332\\2363322849.py:12: SettingWithCopyWarning: \n",
=======
      "/var/folders/hc/nkkc_9yd3fd9x9025zg61t2w0000gn/T/ipykernel_44949/2363322849.py:12: SettingWithCopyWarning: \n",
>>>>>>> ea21e2bd453d4d522f6775f4a9b8fafcedd2750e
      "A value is trying to be set on a copy of a slice from a DataFrame\n",
      "\n",
      "See the caveats in the documentation: https://pandas.pydata.org/pandas-docs/stable/user_guide/indexing.html#returning-a-view-versus-a-copy\n",
      "  table['Buy'][index] = 'Open'\n",
<<<<<<< HEAD
      "C:\\Users\\justi\\AppData\\Local\\Temp\\ipykernel_34332\\2363322849.py:12: SettingWithCopyWarning: \n",
=======
      "/var/folders/hc/nkkc_9yd3fd9x9025zg61t2w0000gn/T/ipykernel_44949/2363322849.py:12: SettingWithCopyWarning: \n",
>>>>>>> ea21e2bd453d4d522f6775f4a9b8fafcedd2750e
      "A value is trying to be set on a copy of a slice from a DataFrame\n",
      "\n",
      "See the caveats in the documentation: https://pandas.pydata.org/pandas-docs/stable/user_guide/indexing.html#returning-a-view-versus-a-copy\n",
      "  table['Buy'][index] = 'Open'\n",
<<<<<<< HEAD
      "C:\\Users\\justi\\AppData\\Local\\Temp\\ipykernel_34332\\2363322849.py:12: SettingWithCopyWarning: \n",
=======
      "/var/folders/hc/nkkc_9yd3fd9x9025zg61t2w0000gn/T/ipykernel_44949/2363322849.py:12: SettingWithCopyWarning: \n",
>>>>>>> ea21e2bd453d4d522f6775f4a9b8fafcedd2750e
      "A value is trying to be set on a copy of a slice from a DataFrame\n",
      "\n",
      "See the caveats in the documentation: https://pandas.pydata.org/pandas-docs/stable/user_guide/indexing.html#returning-a-view-versus-a-copy\n",
      "  table['Buy'][index] = 'Open'\n",
<<<<<<< HEAD
      "C:\\Users\\justi\\AppData\\Local\\Temp\\ipykernel_34332\\2363322849.py:12: SettingWithCopyWarning: \n",
=======
      "/var/folders/hc/nkkc_9yd3fd9x9025zg61t2w0000gn/T/ipykernel_44949/2363322849.py:12: SettingWithCopyWarning: \n",
>>>>>>> ea21e2bd453d4d522f6775f4a9b8fafcedd2750e
      "A value is trying to be set on a copy of a slice from a DataFrame\n",
      "\n",
      "See the caveats in the documentation: https://pandas.pydata.org/pandas-docs/stable/user_guide/indexing.html#returning-a-view-versus-a-copy\n",
      "  table['Buy'][index] = 'Open'\n",
<<<<<<< HEAD
      "C:\\Users\\justi\\AppData\\Local\\Temp\\ipykernel_34332\\2363322849.py:12: SettingWithCopyWarning: \n",
=======
      "/var/folders/hc/nkkc_9yd3fd9x9025zg61t2w0000gn/T/ipykernel_44949/2363322849.py:12: SettingWithCopyWarning: \n",
>>>>>>> ea21e2bd453d4d522f6775f4a9b8fafcedd2750e
      "A value is trying to be set on a copy of a slice from a DataFrame\n",
      "\n",
      "See the caveats in the documentation: https://pandas.pydata.org/pandas-docs/stable/user_guide/indexing.html#returning-a-view-versus-a-copy\n",
      "  table['Buy'][index] = 'Open'\n",
<<<<<<< HEAD
      "C:\\Users\\justi\\AppData\\Local\\Temp\\ipykernel_34332\\2363322849.py:10: SettingWithCopyWarning: \n",
=======
      "/var/folders/hc/nkkc_9yd3fd9x9025zg61t2w0000gn/T/ipykernel_44949/2363322849.py:10: SettingWithCopyWarning: \n",
>>>>>>> ea21e2bd453d4d522f6775f4a9b8fafcedd2750e
      "A value is trying to be set on a copy of a slice from a DataFrame\n",
      "\n",
      "See the caveats in the documentation: https://pandas.pydata.org/pandas-docs/stable/user_guide/indexing.html#returning-a-view-versus-a-copy\n",
      "  table['Buy'][index] = 'Closed'\n",
<<<<<<< HEAD
      "C:\\Users\\justi\\AppData\\Local\\Temp\\ipykernel_34332\\2363322849.py:6: SettingWithCopyWarning: \n",
=======
      "/var/folders/hc/nkkc_9yd3fd9x9025zg61t2w0000gn/T/ipykernel_44949/2363322849.py:6: SettingWithCopyWarning: \n",
>>>>>>> ea21e2bd453d4d522f6775f4a9b8fafcedd2750e
      "A value is trying to be set on a copy of a slice from a DataFrame\n",
      "\n",
      "See the caveats in the documentation: https://pandas.pydata.org/pandas-docs/stable/user_guide/indexing.html#returning-a-view-versus-a-copy\n",
      "  table['Buy'][index] = 'Open'\n",
<<<<<<< HEAD
      "C:\\Users\\justi\\AppData\\Local\\Temp\\ipykernel_34332\\2363322849.py:12: SettingWithCopyWarning: \n",
=======
      "/var/folders/hc/nkkc_9yd3fd9x9025zg61t2w0000gn/T/ipykernel_44949/2363322849.py:12: SettingWithCopyWarning: \n",
>>>>>>> ea21e2bd453d4d522f6775f4a9b8fafcedd2750e
      "A value is trying to be set on a copy of a slice from a DataFrame\n",
      "\n",
      "See the caveats in the documentation: https://pandas.pydata.org/pandas-docs/stable/user_guide/indexing.html#returning-a-view-versus-a-copy\n",
      "  table['Buy'][index] = 'Open'\n",
<<<<<<< HEAD
      "C:\\Users\\justi\\AppData\\Local\\Temp\\ipykernel_34332\\2363322849.py:12: SettingWithCopyWarning: \n",
=======
      "/var/folders/hc/nkkc_9yd3fd9x9025zg61t2w0000gn/T/ipykernel_44949/2363322849.py:12: SettingWithCopyWarning: \n",
>>>>>>> ea21e2bd453d4d522f6775f4a9b8fafcedd2750e
      "A value is trying to be set on a copy of a slice from a DataFrame\n",
      "\n",
      "See the caveats in the documentation: https://pandas.pydata.org/pandas-docs/stable/user_guide/indexing.html#returning-a-view-versus-a-copy\n",
      "  table['Buy'][index] = 'Open'\n",
<<<<<<< HEAD
      "C:\\Users\\justi\\AppData\\Local\\Temp\\ipykernel_34332\\2363322849.py:12: SettingWithCopyWarning: \n",
=======
      "/var/folders/hc/nkkc_9yd3fd9x9025zg61t2w0000gn/T/ipykernel_44949/2363322849.py:12: SettingWithCopyWarning: \n",
>>>>>>> ea21e2bd453d4d522f6775f4a9b8fafcedd2750e
      "A value is trying to be set on a copy of a slice from a DataFrame\n",
      "\n",
      "See the caveats in the documentation: https://pandas.pydata.org/pandas-docs/stable/user_guide/indexing.html#returning-a-view-versus-a-copy\n",
      "  table['Buy'][index] = 'Open'\n",
<<<<<<< HEAD
      "C:\\Users\\justi\\AppData\\Local\\Temp\\ipykernel_34332\\2363322849.py:12: SettingWithCopyWarning: \n",
=======
      "/var/folders/hc/nkkc_9yd3fd9x9025zg61t2w0000gn/T/ipykernel_44949/2363322849.py:12: SettingWithCopyWarning: \n",
>>>>>>> ea21e2bd453d4d522f6775f4a9b8fafcedd2750e
      "A value is trying to be set on a copy of a slice from a DataFrame\n",
      "\n",
      "See the caveats in the documentation: https://pandas.pydata.org/pandas-docs/stable/user_guide/indexing.html#returning-a-view-versus-a-copy\n",
      "  table['Buy'][index] = 'Open'\n",
<<<<<<< HEAD
      "C:\\Users\\justi\\AppData\\Local\\Temp\\ipykernel_34332\\2363322849.py:12: SettingWithCopyWarning: \n",
=======
      "/var/folders/hc/nkkc_9yd3fd9x9025zg61t2w0000gn/T/ipykernel_44949/2363322849.py:12: SettingWithCopyWarning: \n",
>>>>>>> ea21e2bd453d4d522f6775f4a9b8fafcedd2750e
      "A value is trying to be set on a copy of a slice from a DataFrame\n",
      "\n",
      "See the caveats in the documentation: https://pandas.pydata.org/pandas-docs/stable/user_guide/indexing.html#returning-a-view-versus-a-copy\n",
      "  table['Buy'][index] = 'Open'\n",
<<<<<<< HEAD
      "C:\\Users\\justi\\AppData\\Local\\Temp\\ipykernel_34332\\2363322849.py:12: SettingWithCopyWarning: \n",
=======
      "/var/folders/hc/nkkc_9yd3fd9x9025zg61t2w0000gn/T/ipykernel_44949/2363322849.py:12: SettingWithCopyWarning: \n",
>>>>>>> ea21e2bd453d4d522f6775f4a9b8fafcedd2750e
      "A value is trying to be set on a copy of a slice from a DataFrame\n",
      "\n",
      "See the caveats in the documentation: https://pandas.pydata.org/pandas-docs/stable/user_guide/indexing.html#returning-a-view-versus-a-copy\n",
      "  table['Buy'][index] = 'Open'\n",
<<<<<<< HEAD
      "C:\\Users\\justi\\AppData\\Local\\Temp\\ipykernel_34332\\2363322849.py:12: SettingWithCopyWarning: \n",
=======
      "/var/folders/hc/nkkc_9yd3fd9x9025zg61t2w0000gn/T/ipykernel_44949/2363322849.py:12: SettingWithCopyWarning: \n",
>>>>>>> ea21e2bd453d4d522f6775f4a9b8fafcedd2750e
      "A value is trying to be set on a copy of a slice from a DataFrame\n",
      "\n",
      "See the caveats in the documentation: https://pandas.pydata.org/pandas-docs/stable/user_guide/indexing.html#returning-a-view-versus-a-copy\n",
      "  table['Buy'][index] = 'Open'\n",
<<<<<<< HEAD
      "C:\\Users\\justi\\AppData\\Local\\Temp\\ipykernel_34332\\2363322849.py:12: SettingWithCopyWarning: \n",
=======
      "/var/folders/hc/nkkc_9yd3fd9x9025zg61t2w0000gn/T/ipykernel_44949/2363322849.py:12: SettingWithCopyWarning: \n",
>>>>>>> ea21e2bd453d4d522f6775f4a9b8fafcedd2750e
      "A value is trying to be set on a copy of a slice from a DataFrame\n",
      "\n",
      "See the caveats in the documentation: https://pandas.pydata.org/pandas-docs/stable/user_guide/indexing.html#returning-a-view-versus-a-copy\n",
      "  table['Buy'][index] = 'Open'\n",
<<<<<<< HEAD
      "C:\\Users\\justi\\AppData\\Local\\Temp\\ipykernel_34332\\2363322849.py:12: SettingWithCopyWarning: \n",
=======
      "/var/folders/hc/nkkc_9yd3fd9x9025zg61t2w0000gn/T/ipykernel_44949/2363322849.py:12: SettingWithCopyWarning: \n",
>>>>>>> ea21e2bd453d4d522f6775f4a9b8fafcedd2750e
      "A value is trying to be set on a copy of a slice from a DataFrame\n",
      "\n",
      "See the caveats in the documentation: https://pandas.pydata.org/pandas-docs/stable/user_guide/indexing.html#returning-a-view-versus-a-copy\n",
      "  table['Buy'][index] = 'Open'\n",
<<<<<<< HEAD
      "C:\\Users\\justi\\AppData\\Local\\Temp\\ipykernel_34332\\2363322849.py:12: SettingWithCopyWarning: \n",
=======
      "/var/folders/hc/nkkc_9yd3fd9x9025zg61t2w0000gn/T/ipykernel_44949/2363322849.py:12: SettingWithCopyWarning: \n",
>>>>>>> ea21e2bd453d4d522f6775f4a9b8fafcedd2750e
      "A value is trying to be set on a copy of a slice from a DataFrame\n",
      "\n",
      "See the caveats in the documentation: https://pandas.pydata.org/pandas-docs/stable/user_guide/indexing.html#returning-a-view-versus-a-copy\n",
      "  table['Buy'][index] = 'Open'\n",
<<<<<<< HEAD
      "C:\\Users\\justi\\AppData\\Local\\Temp\\ipykernel_34332\\2363322849.py:12: SettingWithCopyWarning: \n",
=======
      "/var/folders/hc/nkkc_9yd3fd9x9025zg61t2w0000gn/T/ipykernel_44949/2363322849.py:12: SettingWithCopyWarning: \n",
>>>>>>> ea21e2bd453d4d522f6775f4a9b8fafcedd2750e
      "A value is trying to be set on a copy of a slice from a DataFrame\n",
      "\n",
      "See the caveats in the documentation: https://pandas.pydata.org/pandas-docs/stable/user_guide/indexing.html#returning-a-view-versus-a-copy\n",
      "  table['Buy'][index] = 'Open'\n",
<<<<<<< HEAD
      "C:\\Users\\justi\\AppData\\Local\\Temp\\ipykernel_34332\\2363322849.py:12: SettingWithCopyWarning: \n",
=======
      "/var/folders/hc/nkkc_9yd3fd9x9025zg61t2w0000gn/T/ipykernel_44949/2363322849.py:12: SettingWithCopyWarning: \n",
>>>>>>> ea21e2bd453d4d522f6775f4a9b8fafcedd2750e
      "A value is trying to be set on a copy of a slice from a DataFrame\n",
      "\n",
      "See the caveats in the documentation: https://pandas.pydata.org/pandas-docs/stable/user_guide/indexing.html#returning-a-view-versus-a-copy\n",
      "  table['Buy'][index] = 'Open'\n",
<<<<<<< HEAD
      "C:\\Users\\justi\\AppData\\Local\\Temp\\ipykernel_34332\\2363322849.py:12: SettingWithCopyWarning: \n",
=======
      "/var/folders/hc/nkkc_9yd3fd9x9025zg61t2w0000gn/T/ipykernel_44949/2363322849.py:12: SettingWithCopyWarning: \n",
>>>>>>> ea21e2bd453d4d522f6775f4a9b8fafcedd2750e
      "A value is trying to be set on a copy of a slice from a DataFrame\n",
      "\n",
      "See the caveats in the documentation: https://pandas.pydata.org/pandas-docs/stable/user_guide/indexing.html#returning-a-view-versus-a-copy\n",
      "  table['Buy'][index] = 'Open'\n",
<<<<<<< HEAD
      "C:\\Users\\justi\\AppData\\Local\\Temp\\ipykernel_34332\\2363322849.py:12: SettingWithCopyWarning: \n",
=======
      "/var/folders/hc/nkkc_9yd3fd9x9025zg61t2w0000gn/T/ipykernel_44949/2363322849.py:12: SettingWithCopyWarning: \n",
>>>>>>> ea21e2bd453d4d522f6775f4a9b8fafcedd2750e
      "A value is trying to be set on a copy of a slice from a DataFrame\n",
      "\n",
      "See the caveats in the documentation: https://pandas.pydata.org/pandas-docs/stable/user_guide/indexing.html#returning-a-view-versus-a-copy\n",
      "  table['Buy'][index] = 'Open'\n",
<<<<<<< HEAD
      "C:\\Users\\justi\\AppData\\Local\\Temp\\ipykernel_34332\\2363322849.py:12: SettingWithCopyWarning: \n",
=======
      "/var/folders/hc/nkkc_9yd3fd9x9025zg61t2w0000gn/T/ipykernel_44949/2363322849.py:12: SettingWithCopyWarning: \n",
>>>>>>> ea21e2bd453d4d522f6775f4a9b8fafcedd2750e
      "A value is trying to be set on a copy of a slice from a DataFrame\n",
      "\n",
      "See the caveats in the documentation: https://pandas.pydata.org/pandas-docs/stable/user_guide/indexing.html#returning-a-view-versus-a-copy\n",
      "  table['Buy'][index] = 'Open'\n",
<<<<<<< HEAD
      "C:\\Users\\justi\\AppData\\Local\\Temp\\ipykernel_34332\\2363322849.py:12: SettingWithCopyWarning: \n",
=======
      "/var/folders/hc/nkkc_9yd3fd9x9025zg61t2w0000gn/T/ipykernel_44949/2363322849.py:12: SettingWithCopyWarning: \n",
>>>>>>> ea21e2bd453d4d522f6775f4a9b8fafcedd2750e
      "A value is trying to be set on a copy of a slice from a DataFrame\n",
      "\n",
      "See the caveats in the documentation: https://pandas.pydata.org/pandas-docs/stable/user_guide/indexing.html#returning-a-view-versus-a-copy\n",
      "  table['Buy'][index] = 'Open'\n",
<<<<<<< HEAD
      "C:\\Users\\justi\\AppData\\Local\\Temp\\ipykernel_34332\\2363322849.py:12: SettingWithCopyWarning: \n",
=======
      "/var/folders/hc/nkkc_9yd3fd9x9025zg61t2w0000gn/T/ipykernel_44949/2363322849.py:12: SettingWithCopyWarning: \n",
>>>>>>> ea21e2bd453d4d522f6775f4a9b8fafcedd2750e
      "A value is trying to be set on a copy of a slice from a DataFrame\n",
      "\n",
      "See the caveats in the documentation: https://pandas.pydata.org/pandas-docs/stable/user_guide/indexing.html#returning-a-view-versus-a-copy\n",
      "  table['Buy'][index] = 'Open'\n",
<<<<<<< HEAD
      "C:\\Users\\justi\\AppData\\Local\\Temp\\ipykernel_34332\\2363322849.py:12: SettingWithCopyWarning: \n",
=======
      "/var/folders/hc/nkkc_9yd3fd9x9025zg61t2w0000gn/T/ipykernel_44949/2363322849.py:12: SettingWithCopyWarning: \n",
>>>>>>> ea21e2bd453d4d522f6775f4a9b8fafcedd2750e
      "A value is trying to be set on a copy of a slice from a DataFrame\n",
      "\n",
      "See the caveats in the documentation: https://pandas.pydata.org/pandas-docs/stable/user_guide/indexing.html#returning-a-view-versus-a-copy\n",
      "  table['Buy'][index] = 'Open'\n",
<<<<<<< HEAD
      "C:\\Users\\justi\\AppData\\Local\\Temp\\ipykernel_34332\\2363322849.py:12: SettingWithCopyWarning: \n",
=======
      "/var/folders/hc/nkkc_9yd3fd9x9025zg61t2w0000gn/T/ipykernel_44949/2363322849.py:12: SettingWithCopyWarning: \n",
>>>>>>> ea21e2bd453d4d522f6775f4a9b8fafcedd2750e
      "A value is trying to be set on a copy of a slice from a DataFrame\n",
      "\n",
      "See the caveats in the documentation: https://pandas.pydata.org/pandas-docs/stable/user_guide/indexing.html#returning-a-view-versus-a-copy\n",
      "  table['Buy'][index] = 'Open'\n",
<<<<<<< HEAD
      "C:\\Users\\justi\\AppData\\Local\\Temp\\ipykernel_34332\\2363322849.py:12: SettingWithCopyWarning: \n",
=======
      "/var/folders/hc/nkkc_9yd3fd9x9025zg61t2w0000gn/T/ipykernel_44949/2363322849.py:12: SettingWithCopyWarning: \n",
>>>>>>> ea21e2bd453d4d522f6775f4a9b8fafcedd2750e
      "A value is trying to be set on a copy of a slice from a DataFrame\n",
      "\n",
      "See the caveats in the documentation: https://pandas.pydata.org/pandas-docs/stable/user_guide/indexing.html#returning-a-view-versus-a-copy\n",
      "  table['Buy'][index] = 'Open'\n",
<<<<<<< HEAD
      "C:\\Users\\justi\\AppData\\Local\\Temp\\ipykernel_34332\\2363322849.py:10: SettingWithCopyWarning: \n",
=======
      "/var/folders/hc/nkkc_9yd3fd9x9025zg61t2w0000gn/T/ipykernel_44949/2363322849.py:10: SettingWithCopyWarning: \n",
>>>>>>> ea21e2bd453d4d522f6775f4a9b8fafcedd2750e
      "A value is trying to be set on a copy of a slice from a DataFrame\n",
      "\n",
      "See the caveats in the documentation: https://pandas.pydata.org/pandas-docs/stable/user_guide/indexing.html#returning-a-view-versus-a-copy\n",
      "  table['Buy'][index] = 'Closed'\n",
<<<<<<< HEAD
      "C:\\Users\\justi\\AppData\\Local\\Temp\\ipykernel_34332\\2363322849.py:6: SettingWithCopyWarning: \n",
=======
      "/var/folders/hc/nkkc_9yd3fd9x9025zg61t2w0000gn/T/ipykernel_44949/2363322849.py:6: SettingWithCopyWarning: \n",
>>>>>>> ea21e2bd453d4d522f6775f4a9b8fafcedd2750e
      "A value is trying to be set on a copy of a slice from a DataFrame\n",
      "\n",
      "See the caveats in the documentation: https://pandas.pydata.org/pandas-docs/stable/user_guide/indexing.html#returning-a-view-versus-a-copy\n",
      "  table['Buy'][index] = 'Open'\n",
<<<<<<< HEAD
      "C:\\Users\\justi\\AppData\\Local\\Temp\\ipykernel_34332\\2363322849.py:12: SettingWithCopyWarning: \n",
=======
      "/var/folders/hc/nkkc_9yd3fd9x9025zg61t2w0000gn/T/ipykernel_44949/2363322849.py:12: SettingWithCopyWarning: \n",
>>>>>>> ea21e2bd453d4d522f6775f4a9b8fafcedd2750e
      "A value is trying to be set on a copy of a slice from a DataFrame\n",
      "\n",
      "See the caveats in the documentation: https://pandas.pydata.org/pandas-docs/stable/user_guide/indexing.html#returning-a-view-versus-a-copy\n",
      "  table['Buy'][index] = 'Open'\n",
<<<<<<< HEAD
      "C:\\Users\\justi\\AppData\\Local\\Temp\\ipykernel_34332\\2363322849.py:12: SettingWithCopyWarning: \n",
=======
      "/var/folders/hc/nkkc_9yd3fd9x9025zg61t2w0000gn/T/ipykernel_44949/2363322849.py:12: SettingWithCopyWarning: \n",
>>>>>>> ea21e2bd453d4d522f6775f4a9b8fafcedd2750e
      "A value is trying to be set on a copy of a slice from a DataFrame\n",
      "\n",
      "See the caveats in the documentation: https://pandas.pydata.org/pandas-docs/stable/user_guide/indexing.html#returning-a-view-versus-a-copy\n",
      "  table['Buy'][index] = 'Open'\n",
<<<<<<< HEAD
      "C:\\Users\\justi\\AppData\\Local\\Temp\\ipykernel_34332\\2363322849.py:12: SettingWithCopyWarning: \n",
=======
      "/var/folders/hc/nkkc_9yd3fd9x9025zg61t2w0000gn/T/ipykernel_44949/2363322849.py:12: SettingWithCopyWarning: \n",
>>>>>>> ea21e2bd453d4d522f6775f4a9b8fafcedd2750e
      "A value is trying to be set on a copy of a slice from a DataFrame\n",
      "\n",
      "See the caveats in the documentation: https://pandas.pydata.org/pandas-docs/stable/user_guide/indexing.html#returning-a-view-versus-a-copy\n",
      "  table['Buy'][index] = 'Open'\n",
<<<<<<< HEAD
      "C:\\Users\\justi\\AppData\\Local\\Temp\\ipykernel_34332\\2363322849.py:12: SettingWithCopyWarning: \n",
=======
      "/var/folders/hc/nkkc_9yd3fd9x9025zg61t2w0000gn/T/ipykernel_44949/2363322849.py:12: SettingWithCopyWarning: \n",
>>>>>>> ea21e2bd453d4d522f6775f4a9b8fafcedd2750e
      "A value is trying to be set on a copy of a slice from a DataFrame\n",
      "\n",
      "See the caveats in the documentation: https://pandas.pydata.org/pandas-docs/stable/user_guide/indexing.html#returning-a-view-versus-a-copy\n",
      "  table['Buy'][index] = 'Open'\n",
<<<<<<< HEAD
      "C:\\Users\\justi\\AppData\\Local\\Temp\\ipykernel_34332\\2363322849.py:10: SettingWithCopyWarning: \n",
=======
      "/var/folders/hc/nkkc_9yd3fd9x9025zg61t2w0000gn/T/ipykernel_44949/2363322849.py:10: SettingWithCopyWarning: \n",
>>>>>>> ea21e2bd453d4d522f6775f4a9b8fafcedd2750e
      "A value is trying to be set on a copy of a slice from a DataFrame\n",
      "\n",
      "See the caveats in the documentation: https://pandas.pydata.org/pandas-docs/stable/user_guide/indexing.html#returning-a-view-versus-a-copy\n",
      "  table['Buy'][index] = 'Closed'\n",
<<<<<<< HEAD
      "C:\\Users\\justi\\AppData\\Local\\Temp\\ipykernel_34332\\2363322849.py:6: SettingWithCopyWarning: \n",
=======
      "/var/folders/hc/nkkc_9yd3fd9x9025zg61t2w0000gn/T/ipykernel_44949/2363322849.py:6: SettingWithCopyWarning: \n",
>>>>>>> ea21e2bd453d4d522f6775f4a9b8fafcedd2750e
      "A value is trying to be set on a copy of a slice from a DataFrame\n",
      "\n",
      "See the caveats in the documentation: https://pandas.pydata.org/pandas-docs/stable/user_guide/indexing.html#returning-a-view-versus-a-copy\n",
      "  table['Buy'][index] = 'Open'\n",
<<<<<<< HEAD
      "C:\\Users\\justi\\AppData\\Local\\Temp\\ipykernel_34332\\2363322849.py:12: SettingWithCopyWarning: \n",
=======
      "/var/folders/hc/nkkc_9yd3fd9x9025zg61t2w0000gn/T/ipykernel_44949/2363322849.py:12: SettingWithCopyWarning: \n",
>>>>>>> ea21e2bd453d4d522f6775f4a9b8fafcedd2750e
      "A value is trying to be set on a copy of a slice from a DataFrame\n",
      "\n",
      "See the caveats in the documentation: https://pandas.pydata.org/pandas-docs/stable/user_guide/indexing.html#returning-a-view-versus-a-copy\n",
      "  table['Buy'][index] = 'Open'\n",
<<<<<<< HEAD
      "C:\\Users\\justi\\AppData\\Local\\Temp\\ipykernel_34332\\2363322849.py:12: SettingWithCopyWarning: \n",
=======
      "/var/folders/hc/nkkc_9yd3fd9x9025zg61t2w0000gn/T/ipykernel_44949/2363322849.py:12: SettingWithCopyWarning: \n",
>>>>>>> ea21e2bd453d4d522f6775f4a9b8fafcedd2750e
      "A value is trying to be set on a copy of a slice from a DataFrame\n",
      "\n",
      "See the caveats in the documentation: https://pandas.pydata.org/pandas-docs/stable/user_guide/indexing.html#returning-a-view-versus-a-copy\n",
      "  table['Buy'][index] = 'Open'\n",
<<<<<<< HEAD
      "C:\\Users\\justi\\AppData\\Local\\Temp\\ipykernel_34332\\2363322849.py:12: SettingWithCopyWarning: \n",
=======
      "/var/folders/hc/nkkc_9yd3fd9x9025zg61t2w0000gn/T/ipykernel_44949/2363322849.py:12: SettingWithCopyWarning: \n",
>>>>>>> ea21e2bd453d4d522f6775f4a9b8fafcedd2750e
      "A value is trying to be set on a copy of a slice from a DataFrame\n",
      "\n",
      "See the caveats in the documentation: https://pandas.pydata.org/pandas-docs/stable/user_guide/indexing.html#returning-a-view-versus-a-copy\n",
      "  table['Buy'][index] = 'Open'\n",
<<<<<<< HEAD
      "C:\\Users\\justi\\AppData\\Local\\Temp\\ipykernel_34332\\2363322849.py:10: SettingWithCopyWarning: \n",
=======
      "/var/folders/hc/nkkc_9yd3fd9x9025zg61t2w0000gn/T/ipykernel_44949/2363322849.py:10: SettingWithCopyWarning: \n",
>>>>>>> ea21e2bd453d4d522f6775f4a9b8fafcedd2750e
      "A value is trying to be set on a copy of a slice from a DataFrame\n",
      "\n",
      "See the caveats in the documentation: https://pandas.pydata.org/pandas-docs/stable/user_guide/indexing.html#returning-a-view-versus-a-copy\n",
      "  table['Buy'][index] = 'Closed'\n",
<<<<<<< HEAD
      "C:\\Users\\justi\\AppData\\Local\\Temp\\ipykernel_34332\\2363322849.py:6: SettingWithCopyWarning: \n",
=======
      "/var/folders/hc/nkkc_9yd3fd9x9025zg61t2w0000gn/T/ipykernel_44949/2363322849.py:6: SettingWithCopyWarning: \n",
>>>>>>> ea21e2bd453d4d522f6775f4a9b8fafcedd2750e
      "A value is trying to be set on a copy of a slice from a DataFrame\n",
      "\n",
      "See the caveats in the documentation: https://pandas.pydata.org/pandas-docs/stable/user_guide/indexing.html#returning-a-view-versus-a-copy\n",
      "  table['Buy'][index] = 'Open'\n",
<<<<<<< HEAD
      "C:\\Users\\justi\\AppData\\Local\\Temp\\ipykernel_34332\\2363322849.py:10: SettingWithCopyWarning: \n",
=======
      "/var/folders/hc/nkkc_9yd3fd9x9025zg61t2w0000gn/T/ipykernel_44949/2363322849.py:10: SettingWithCopyWarning: \n",
>>>>>>> ea21e2bd453d4d522f6775f4a9b8fafcedd2750e
      "A value is trying to be set on a copy of a slice from a DataFrame\n",
      "\n",
      "See the caveats in the documentation: https://pandas.pydata.org/pandas-docs/stable/user_guide/indexing.html#returning-a-view-versus-a-copy\n",
      "  table['Buy'][index] = 'Closed'\n",
<<<<<<< HEAD
      "C:\\Users\\justi\\AppData\\Local\\Temp\\ipykernel_34332\\2363322849.py:6: SettingWithCopyWarning: \n",
=======
      "/var/folders/hc/nkkc_9yd3fd9x9025zg61t2w0000gn/T/ipykernel_44949/2363322849.py:6: SettingWithCopyWarning: \n",
>>>>>>> ea21e2bd453d4d522f6775f4a9b8fafcedd2750e
      "A value is trying to be set on a copy of a slice from a DataFrame\n",
      "\n",
      "See the caveats in the documentation: https://pandas.pydata.org/pandas-docs/stable/user_guide/indexing.html#returning-a-view-versus-a-copy\n",
      "  table['Buy'][index] = 'Open'\n",
<<<<<<< HEAD
      "C:\\Users\\justi\\AppData\\Local\\Temp\\ipykernel_34332\\2363322849.py:12: SettingWithCopyWarning: \n",
=======
      "/var/folders/hc/nkkc_9yd3fd9x9025zg61t2w0000gn/T/ipykernel_44949/2363322849.py:12: SettingWithCopyWarning: \n",
>>>>>>> ea21e2bd453d4d522f6775f4a9b8fafcedd2750e
      "A value is trying to be set on a copy of a slice from a DataFrame\n",
      "\n",
      "See the caveats in the documentation: https://pandas.pydata.org/pandas-docs/stable/user_guide/indexing.html#returning-a-view-versus-a-copy\n",
      "  table['Buy'][index] = 'Open'\n",
<<<<<<< HEAD
      "C:\\Users\\justi\\AppData\\Local\\Temp\\ipykernel_34332\\2363322849.py:12: SettingWithCopyWarning: \n",
=======
      "/var/folders/hc/nkkc_9yd3fd9x9025zg61t2w0000gn/T/ipykernel_44949/2363322849.py:12: SettingWithCopyWarning: \n",
>>>>>>> ea21e2bd453d4d522f6775f4a9b8fafcedd2750e
      "A value is trying to be set on a copy of a slice from a DataFrame\n",
      "\n",
      "See the caveats in the documentation: https://pandas.pydata.org/pandas-docs/stable/user_guide/indexing.html#returning-a-view-versus-a-copy\n",
      "  table['Buy'][index] = 'Open'\n",
<<<<<<< HEAD
      "C:\\Users\\justi\\AppData\\Local\\Temp\\ipykernel_34332\\2363322849.py:12: SettingWithCopyWarning: \n",
=======
      "/var/folders/hc/nkkc_9yd3fd9x9025zg61t2w0000gn/T/ipykernel_44949/2363322849.py:12: SettingWithCopyWarning: \n",
>>>>>>> ea21e2bd453d4d522f6775f4a9b8fafcedd2750e
      "A value is trying to be set on a copy of a slice from a DataFrame\n",
      "\n",
      "See the caveats in the documentation: https://pandas.pydata.org/pandas-docs/stable/user_guide/indexing.html#returning-a-view-versus-a-copy\n",
      "  table['Buy'][index] = 'Open'\n",
<<<<<<< HEAD
      "C:\\Users\\justi\\AppData\\Local\\Temp\\ipykernel_34332\\2363322849.py:12: SettingWithCopyWarning: \n",
=======
      "/var/folders/hc/nkkc_9yd3fd9x9025zg61t2w0000gn/T/ipykernel_44949/2363322849.py:12: SettingWithCopyWarning: \n",
>>>>>>> ea21e2bd453d4d522f6775f4a9b8fafcedd2750e
      "A value is trying to be set on a copy of a slice from a DataFrame\n",
      "\n",
      "See the caveats in the documentation: https://pandas.pydata.org/pandas-docs/stable/user_guide/indexing.html#returning-a-view-versus-a-copy\n",
      "  table['Buy'][index] = 'Open'\n",
<<<<<<< HEAD
      "C:\\Users\\justi\\AppData\\Local\\Temp\\ipykernel_34332\\2363322849.py:12: SettingWithCopyWarning: \n",
=======
      "/var/folders/hc/nkkc_9yd3fd9x9025zg61t2w0000gn/T/ipykernel_44949/2363322849.py:12: SettingWithCopyWarning: \n",
>>>>>>> ea21e2bd453d4d522f6775f4a9b8fafcedd2750e
      "A value is trying to be set on a copy of a slice from a DataFrame\n",
      "\n",
      "See the caveats in the documentation: https://pandas.pydata.org/pandas-docs/stable/user_guide/indexing.html#returning-a-view-versus-a-copy\n",
      "  table['Buy'][index] = 'Open'\n",
<<<<<<< HEAD
      "C:\\Users\\justi\\AppData\\Local\\Temp\\ipykernel_34332\\2363322849.py:12: SettingWithCopyWarning: \n",
=======
      "/var/folders/hc/nkkc_9yd3fd9x9025zg61t2w0000gn/T/ipykernel_44949/2363322849.py:12: SettingWithCopyWarning: \n",
>>>>>>> ea21e2bd453d4d522f6775f4a9b8fafcedd2750e
      "A value is trying to be set on a copy of a slice from a DataFrame\n",
      "\n",
      "See the caveats in the documentation: https://pandas.pydata.org/pandas-docs/stable/user_guide/indexing.html#returning-a-view-versus-a-copy\n",
      "  table['Buy'][index] = 'Open'\n",
<<<<<<< HEAD
      "C:\\Users\\justi\\AppData\\Local\\Temp\\ipykernel_34332\\2363322849.py:12: SettingWithCopyWarning: \n",
=======
      "/var/folders/hc/nkkc_9yd3fd9x9025zg61t2w0000gn/T/ipykernel_44949/2363322849.py:12: SettingWithCopyWarning: \n",
>>>>>>> ea21e2bd453d4d522f6775f4a9b8fafcedd2750e
      "A value is trying to be set on a copy of a slice from a DataFrame\n",
      "\n",
      "See the caveats in the documentation: https://pandas.pydata.org/pandas-docs/stable/user_guide/indexing.html#returning-a-view-versus-a-copy\n",
      "  table['Buy'][index] = 'Open'\n",
<<<<<<< HEAD
      "C:\\Users\\justi\\AppData\\Local\\Temp\\ipykernel_34332\\2363322849.py:12: SettingWithCopyWarning: \n",
=======
      "/var/folders/hc/nkkc_9yd3fd9x9025zg61t2w0000gn/T/ipykernel_44949/2363322849.py:12: SettingWithCopyWarning: \n",
>>>>>>> ea21e2bd453d4d522f6775f4a9b8fafcedd2750e
      "A value is trying to be set on a copy of a slice from a DataFrame\n",
      "\n",
      "See the caveats in the documentation: https://pandas.pydata.org/pandas-docs/stable/user_guide/indexing.html#returning-a-view-versus-a-copy\n",
      "  table['Buy'][index] = 'Open'\n",
<<<<<<< HEAD
      "C:\\Users\\justi\\AppData\\Local\\Temp\\ipykernel_34332\\2363322849.py:12: SettingWithCopyWarning: \n",
=======
      "/var/folders/hc/nkkc_9yd3fd9x9025zg61t2w0000gn/T/ipykernel_44949/2363322849.py:12: SettingWithCopyWarning: \n",
>>>>>>> ea21e2bd453d4d522f6775f4a9b8fafcedd2750e
      "A value is trying to be set on a copy of a slice from a DataFrame\n",
      "\n",
      "See the caveats in the documentation: https://pandas.pydata.org/pandas-docs/stable/user_guide/indexing.html#returning-a-view-versus-a-copy\n",
      "  table['Buy'][index] = 'Open'\n",
<<<<<<< HEAD
      "C:\\Users\\justi\\AppData\\Local\\Temp\\ipykernel_34332\\2363322849.py:12: SettingWithCopyWarning: \n",
=======
      "/var/folders/hc/nkkc_9yd3fd9x9025zg61t2w0000gn/T/ipykernel_44949/2363322849.py:12: SettingWithCopyWarning: \n",
>>>>>>> ea21e2bd453d4d522f6775f4a9b8fafcedd2750e
      "A value is trying to be set on a copy of a slice from a DataFrame\n",
      "\n",
      "See the caveats in the documentation: https://pandas.pydata.org/pandas-docs/stable/user_guide/indexing.html#returning-a-view-versus-a-copy\n",
      "  table['Buy'][index] = 'Open'\n",
<<<<<<< HEAD
      "C:\\Users\\justi\\AppData\\Local\\Temp\\ipykernel_34332\\2363322849.py:10: SettingWithCopyWarning: \n",
=======
      "/var/folders/hc/nkkc_9yd3fd9x9025zg61t2w0000gn/T/ipykernel_44949/2363322849.py:10: SettingWithCopyWarning: \n",
>>>>>>> ea21e2bd453d4d522f6775f4a9b8fafcedd2750e
      "A value is trying to be set on a copy of a slice from a DataFrame\n",
      "\n",
      "See the caveats in the documentation: https://pandas.pydata.org/pandas-docs/stable/user_guide/indexing.html#returning-a-view-versus-a-copy\n",
      "  table['Buy'][index] = 'Closed'\n",
<<<<<<< HEAD
      "C:\\Users\\justi\\AppData\\Local\\Temp\\ipykernel_34332\\2363322849.py:6: SettingWithCopyWarning: \n",
=======
      "/var/folders/hc/nkkc_9yd3fd9x9025zg61t2w0000gn/T/ipykernel_44949/2363322849.py:6: SettingWithCopyWarning: \n",
>>>>>>> ea21e2bd453d4d522f6775f4a9b8fafcedd2750e
      "A value is trying to be set on a copy of a slice from a DataFrame\n",
      "\n",
      "See the caveats in the documentation: https://pandas.pydata.org/pandas-docs/stable/user_guide/indexing.html#returning-a-view-versus-a-copy\n",
      "  table['Buy'][index] = 'Open'\n",
<<<<<<< HEAD
      "C:\\Users\\justi\\AppData\\Local\\Temp\\ipykernel_34332\\2363322849.py:10: SettingWithCopyWarning: \n",
=======
      "/var/folders/hc/nkkc_9yd3fd9x9025zg61t2w0000gn/T/ipykernel_44949/2363322849.py:10: SettingWithCopyWarning: \n",
>>>>>>> ea21e2bd453d4d522f6775f4a9b8fafcedd2750e
      "A value is trying to be set on a copy of a slice from a DataFrame\n",
      "\n",
      "See the caveats in the documentation: https://pandas.pydata.org/pandas-docs/stable/user_guide/indexing.html#returning-a-view-versus-a-copy\n",
      "  table['Buy'][index] = 'Closed'\n",
<<<<<<< HEAD
      "C:\\Users\\justi\\AppData\\Local\\Temp\\ipykernel_34332\\2363322849.py:6: SettingWithCopyWarning: \n",
=======
      "/var/folders/hc/nkkc_9yd3fd9x9025zg61t2w0000gn/T/ipykernel_44949/2363322849.py:6: SettingWithCopyWarning: \n",
>>>>>>> ea21e2bd453d4d522f6775f4a9b8fafcedd2750e
      "A value is trying to be set on a copy of a slice from a DataFrame\n",
      "\n",
      "See the caveats in the documentation: https://pandas.pydata.org/pandas-docs/stable/user_guide/indexing.html#returning-a-view-versus-a-copy\n",
      "  table['Buy'][index] = 'Open'\n",
<<<<<<< HEAD
      "C:\\Users\\justi\\AppData\\Local\\Temp\\ipykernel_34332\\2363322849.py:10: SettingWithCopyWarning: \n",
=======
      "/var/folders/hc/nkkc_9yd3fd9x9025zg61t2w0000gn/T/ipykernel_44949/2363322849.py:10: SettingWithCopyWarning: \n",
>>>>>>> ea21e2bd453d4d522f6775f4a9b8fafcedd2750e
      "A value is trying to be set on a copy of a slice from a DataFrame\n",
      "\n",
      "See the caveats in the documentation: https://pandas.pydata.org/pandas-docs/stable/user_guide/indexing.html#returning-a-view-versus-a-copy\n",
      "  table['Buy'][index] = 'Closed'\n",
<<<<<<< HEAD
      "C:\\Users\\justi\\AppData\\Local\\Temp\\ipykernel_34332\\2363322849.py:6: SettingWithCopyWarning: \n",
=======
      "/var/folders/hc/nkkc_9yd3fd9x9025zg61t2w0000gn/T/ipykernel_44949/2363322849.py:6: SettingWithCopyWarning: \n",
>>>>>>> ea21e2bd453d4d522f6775f4a9b8fafcedd2750e
      "A value is trying to be set on a copy of a slice from a DataFrame\n",
      "\n",
      "See the caveats in the documentation: https://pandas.pydata.org/pandas-docs/stable/user_guide/indexing.html#returning-a-view-versus-a-copy\n",
      "  table['Buy'][index] = 'Open'\n",
<<<<<<< HEAD
      "C:\\Users\\justi\\AppData\\Local\\Temp\\ipykernel_34332\\2363322849.py:12: SettingWithCopyWarning: \n",
=======
      "/var/folders/hc/nkkc_9yd3fd9x9025zg61t2w0000gn/T/ipykernel_44949/2363322849.py:12: SettingWithCopyWarning: \n",
>>>>>>> ea21e2bd453d4d522f6775f4a9b8fafcedd2750e
      "A value is trying to be set on a copy of a slice from a DataFrame\n",
      "\n",
      "See the caveats in the documentation: https://pandas.pydata.org/pandas-docs/stable/user_guide/indexing.html#returning-a-view-versus-a-copy\n",
      "  table['Buy'][index] = 'Open'\n",
<<<<<<< HEAD
      "C:\\Users\\justi\\AppData\\Local\\Temp\\ipykernel_34332\\2363322849.py:12: SettingWithCopyWarning: \n",
=======
      "/var/folders/hc/nkkc_9yd3fd9x9025zg61t2w0000gn/T/ipykernel_44949/2363322849.py:12: SettingWithCopyWarning: \n",
>>>>>>> ea21e2bd453d4d522f6775f4a9b8fafcedd2750e
      "A value is trying to be set on a copy of a slice from a DataFrame\n",
      "\n",
      "See the caveats in the documentation: https://pandas.pydata.org/pandas-docs/stable/user_guide/indexing.html#returning-a-view-versus-a-copy\n",
      "  table['Buy'][index] = 'Open'\n",
<<<<<<< HEAD
      "C:\\Users\\justi\\AppData\\Local\\Temp\\ipykernel_34332\\2363322849.py:12: SettingWithCopyWarning: \n",
=======
      "/var/folders/hc/nkkc_9yd3fd9x9025zg61t2w0000gn/T/ipykernel_44949/2363322849.py:12: SettingWithCopyWarning: \n",
>>>>>>> ea21e2bd453d4d522f6775f4a9b8fafcedd2750e
      "A value is trying to be set on a copy of a slice from a DataFrame\n",
      "\n",
      "See the caveats in the documentation: https://pandas.pydata.org/pandas-docs/stable/user_guide/indexing.html#returning-a-view-versus-a-copy\n",
      "  table['Buy'][index] = 'Open'\n",
<<<<<<< HEAD
      "C:\\Users\\justi\\AppData\\Local\\Temp\\ipykernel_34332\\2363322849.py:12: SettingWithCopyWarning: \n",
=======
      "/var/folders/hc/nkkc_9yd3fd9x9025zg61t2w0000gn/T/ipykernel_44949/2363322849.py:12: SettingWithCopyWarning: \n",
>>>>>>> ea21e2bd453d4d522f6775f4a9b8fafcedd2750e
      "A value is trying to be set on a copy of a slice from a DataFrame\n",
      "\n",
      "See the caveats in the documentation: https://pandas.pydata.org/pandas-docs/stable/user_guide/indexing.html#returning-a-view-versus-a-copy\n",
      "  table['Buy'][index] = 'Open'\n",
<<<<<<< HEAD
      "C:\\Users\\justi\\AppData\\Local\\Temp\\ipykernel_34332\\2363322849.py:10: SettingWithCopyWarning: \n",
=======
      "/var/folders/hc/nkkc_9yd3fd9x9025zg61t2w0000gn/T/ipykernel_44949/2363322849.py:10: SettingWithCopyWarning: \n",
>>>>>>> ea21e2bd453d4d522f6775f4a9b8fafcedd2750e
      "A value is trying to be set on a copy of a slice from a DataFrame\n",
      "\n",
      "See the caveats in the documentation: https://pandas.pydata.org/pandas-docs/stable/user_guide/indexing.html#returning-a-view-versus-a-copy\n",
      "  table['Buy'][index] = 'Closed'\n",
<<<<<<< HEAD
      "C:\\Users\\justi\\AppData\\Local\\Temp\\ipykernel_34332\\2363322849.py:6: SettingWithCopyWarning: \n",
=======
      "/var/folders/hc/nkkc_9yd3fd9x9025zg61t2w0000gn/T/ipykernel_44949/2363322849.py:6: SettingWithCopyWarning: \n",
>>>>>>> ea21e2bd453d4d522f6775f4a9b8fafcedd2750e
      "A value is trying to be set on a copy of a slice from a DataFrame\n",
      "\n",
      "See the caveats in the documentation: https://pandas.pydata.org/pandas-docs/stable/user_guide/indexing.html#returning-a-view-versus-a-copy\n",
      "  table['Buy'][index] = 'Open'\n",
<<<<<<< HEAD
      "C:\\Users\\justi\\AppData\\Local\\Temp\\ipykernel_34332\\2363322849.py:12: SettingWithCopyWarning: \n",
=======
      "/var/folders/hc/nkkc_9yd3fd9x9025zg61t2w0000gn/T/ipykernel_44949/2363322849.py:12: SettingWithCopyWarning: \n",
>>>>>>> ea21e2bd453d4d522f6775f4a9b8fafcedd2750e
      "A value is trying to be set on a copy of a slice from a DataFrame\n",
      "\n",
      "See the caveats in the documentation: https://pandas.pydata.org/pandas-docs/stable/user_guide/indexing.html#returning-a-view-versus-a-copy\n",
      "  table['Buy'][index] = 'Open'\n",
<<<<<<< HEAD
      "C:\\Users\\justi\\AppData\\Local\\Temp\\ipykernel_34332\\2363322849.py:12: SettingWithCopyWarning: \n",
=======
      "/var/folders/hc/nkkc_9yd3fd9x9025zg61t2w0000gn/T/ipykernel_44949/2363322849.py:12: SettingWithCopyWarning: \n",
>>>>>>> ea21e2bd453d4d522f6775f4a9b8fafcedd2750e
      "A value is trying to be set on a copy of a slice from a DataFrame\n",
      "\n",
      "See the caveats in the documentation: https://pandas.pydata.org/pandas-docs/stable/user_guide/indexing.html#returning-a-view-versus-a-copy\n",
      "  table['Buy'][index] = 'Open'\n",
<<<<<<< HEAD
      "C:\\Users\\justi\\AppData\\Local\\Temp\\ipykernel_34332\\2363322849.py:12: SettingWithCopyWarning: \n",
=======
      "/var/folders/hc/nkkc_9yd3fd9x9025zg61t2w0000gn/T/ipykernel_44949/2363322849.py:12: SettingWithCopyWarning: \n",
>>>>>>> ea21e2bd453d4d522f6775f4a9b8fafcedd2750e
      "A value is trying to be set on a copy of a slice from a DataFrame\n",
      "\n",
      "See the caveats in the documentation: https://pandas.pydata.org/pandas-docs/stable/user_guide/indexing.html#returning-a-view-versus-a-copy\n",
      "  table['Buy'][index] = 'Open'\n",
<<<<<<< HEAD
      "C:\\Users\\justi\\AppData\\Local\\Temp\\ipykernel_34332\\2363322849.py:12: SettingWithCopyWarning: \n",
=======
      "/var/folders/hc/nkkc_9yd3fd9x9025zg61t2w0000gn/T/ipykernel_44949/2363322849.py:12: SettingWithCopyWarning: \n",
>>>>>>> ea21e2bd453d4d522f6775f4a9b8fafcedd2750e
      "A value is trying to be set on a copy of a slice from a DataFrame\n",
      "\n",
      "See the caveats in the documentation: https://pandas.pydata.org/pandas-docs/stable/user_guide/indexing.html#returning-a-view-versus-a-copy\n",
      "  table['Buy'][index] = 'Open'\n",
<<<<<<< HEAD
      "C:\\Users\\justi\\AppData\\Local\\Temp\\ipykernel_34332\\2363322849.py:12: SettingWithCopyWarning: \n",
=======
      "/var/folders/hc/nkkc_9yd3fd9x9025zg61t2w0000gn/T/ipykernel_44949/2363322849.py:12: SettingWithCopyWarning: \n",
>>>>>>> ea21e2bd453d4d522f6775f4a9b8fafcedd2750e
      "A value is trying to be set on a copy of a slice from a DataFrame\n",
      "\n",
      "See the caveats in the documentation: https://pandas.pydata.org/pandas-docs/stable/user_guide/indexing.html#returning-a-view-versus-a-copy\n",
      "  table['Buy'][index] = 'Open'\n",
<<<<<<< HEAD
      "C:\\Users\\justi\\AppData\\Local\\Temp\\ipykernel_34332\\2363322849.py:12: SettingWithCopyWarning: \n",
=======
      "/var/folders/hc/nkkc_9yd3fd9x9025zg61t2w0000gn/T/ipykernel_44949/2363322849.py:12: SettingWithCopyWarning: \n",
>>>>>>> ea21e2bd453d4d522f6775f4a9b8fafcedd2750e
      "A value is trying to be set on a copy of a slice from a DataFrame\n",
      "\n",
      "See the caveats in the documentation: https://pandas.pydata.org/pandas-docs/stable/user_guide/indexing.html#returning-a-view-versus-a-copy\n",
      "  table['Buy'][index] = 'Open'\n",
<<<<<<< HEAD
      "C:\\Users\\justi\\AppData\\Local\\Temp\\ipykernel_34332\\2363322849.py:12: SettingWithCopyWarning: \n",
=======
      "/var/folders/hc/nkkc_9yd3fd9x9025zg61t2w0000gn/T/ipykernel_44949/2363322849.py:12: SettingWithCopyWarning: \n",
>>>>>>> ea21e2bd453d4d522f6775f4a9b8fafcedd2750e
      "A value is trying to be set on a copy of a slice from a DataFrame\n",
      "\n",
      "See the caveats in the documentation: https://pandas.pydata.org/pandas-docs/stable/user_guide/indexing.html#returning-a-view-versus-a-copy\n",
      "  table['Buy'][index] = 'Open'\n",
<<<<<<< HEAD
      "C:\\Users\\justi\\AppData\\Local\\Temp\\ipykernel_34332\\2363322849.py:12: SettingWithCopyWarning: \n",
=======
      "/var/folders/hc/nkkc_9yd3fd9x9025zg61t2w0000gn/T/ipykernel_44949/2363322849.py:12: SettingWithCopyWarning: \n",
>>>>>>> ea21e2bd453d4d522f6775f4a9b8fafcedd2750e
      "A value is trying to be set on a copy of a slice from a DataFrame\n",
      "\n",
      "See the caveats in the documentation: https://pandas.pydata.org/pandas-docs/stable/user_guide/indexing.html#returning-a-view-versus-a-copy\n",
      "  table['Buy'][index] = 'Open'\n",
<<<<<<< HEAD
      "C:\\Users\\justi\\AppData\\Local\\Temp\\ipykernel_34332\\2363322849.py:12: SettingWithCopyWarning: \n",
=======
      "/var/folders/hc/nkkc_9yd3fd9x9025zg61t2w0000gn/T/ipykernel_44949/2363322849.py:12: SettingWithCopyWarning: \n",
>>>>>>> ea21e2bd453d4d522f6775f4a9b8fafcedd2750e
      "A value is trying to be set on a copy of a slice from a DataFrame\n",
      "\n",
      "See the caveats in the documentation: https://pandas.pydata.org/pandas-docs/stable/user_guide/indexing.html#returning-a-view-versus-a-copy\n",
      "  table['Buy'][index] = 'Open'\n",
<<<<<<< HEAD
      "C:\\Users\\justi\\AppData\\Local\\Temp\\ipykernel_34332\\2363322849.py:10: SettingWithCopyWarning: \n",
=======
      "/var/folders/hc/nkkc_9yd3fd9x9025zg61t2w0000gn/T/ipykernel_44949/2363322849.py:10: SettingWithCopyWarning: \n",
>>>>>>> ea21e2bd453d4d522f6775f4a9b8fafcedd2750e
      "A value is trying to be set on a copy of a slice from a DataFrame\n",
      "\n",
      "See the caveats in the documentation: https://pandas.pydata.org/pandas-docs/stable/user_guide/indexing.html#returning-a-view-versus-a-copy\n",
      "  table['Buy'][index] = 'Closed'\n",
<<<<<<< HEAD
      "C:\\Users\\justi\\AppData\\Local\\Temp\\ipykernel_34332\\2363322849.py:6: SettingWithCopyWarning: \n",
=======
      "/var/folders/hc/nkkc_9yd3fd9x9025zg61t2w0000gn/T/ipykernel_44949/2363322849.py:6: SettingWithCopyWarning: \n",
>>>>>>> ea21e2bd453d4d522f6775f4a9b8fafcedd2750e
      "A value is trying to be set on a copy of a slice from a DataFrame\n",
      "\n",
      "See the caveats in the documentation: https://pandas.pydata.org/pandas-docs/stable/user_guide/indexing.html#returning-a-view-versus-a-copy\n",
      "  table['Buy'][index] = 'Open'\n",
<<<<<<< HEAD
      "C:\\Users\\justi\\AppData\\Local\\Temp\\ipykernel_34332\\2363322849.py:12: SettingWithCopyWarning: \n",
=======
      "/var/folders/hc/nkkc_9yd3fd9x9025zg61t2w0000gn/T/ipykernel_44949/2363322849.py:12: SettingWithCopyWarning: \n",
>>>>>>> ea21e2bd453d4d522f6775f4a9b8fafcedd2750e
      "A value is trying to be set on a copy of a slice from a DataFrame\n",
      "\n",
      "See the caveats in the documentation: https://pandas.pydata.org/pandas-docs/stable/user_guide/indexing.html#returning-a-view-versus-a-copy\n",
      "  table['Buy'][index] = 'Open'\n",
<<<<<<< HEAD
      "C:\\Users\\justi\\AppData\\Local\\Temp\\ipykernel_34332\\2363322849.py:12: SettingWithCopyWarning: \n",
=======
      "/var/folders/hc/nkkc_9yd3fd9x9025zg61t2w0000gn/T/ipykernel_44949/2363322849.py:12: SettingWithCopyWarning: \n",
>>>>>>> ea21e2bd453d4d522f6775f4a9b8fafcedd2750e
      "A value is trying to be set on a copy of a slice from a DataFrame\n",
      "\n",
      "See the caveats in the documentation: https://pandas.pydata.org/pandas-docs/stable/user_guide/indexing.html#returning-a-view-versus-a-copy\n",
      "  table['Buy'][index] = 'Open'\n",
<<<<<<< HEAD
      "C:\\Users\\justi\\AppData\\Local\\Temp\\ipykernel_34332\\2363322849.py:12: SettingWithCopyWarning: \n",
=======
      "/var/folders/hc/nkkc_9yd3fd9x9025zg61t2w0000gn/T/ipykernel_44949/2363322849.py:12: SettingWithCopyWarning: \n",
>>>>>>> ea21e2bd453d4d522f6775f4a9b8fafcedd2750e
      "A value is trying to be set on a copy of a slice from a DataFrame\n",
      "\n",
      "See the caveats in the documentation: https://pandas.pydata.org/pandas-docs/stable/user_guide/indexing.html#returning-a-view-versus-a-copy\n",
      "  table['Buy'][index] = 'Open'\n",
<<<<<<< HEAD
      "C:\\Users\\justi\\AppData\\Local\\Temp\\ipykernel_34332\\2363322849.py:12: SettingWithCopyWarning: \n",
=======
      "/var/folders/hc/nkkc_9yd3fd9x9025zg61t2w0000gn/T/ipykernel_44949/2363322849.py:12: SettingWithCopyWarning: \n",
>>>>>>> ea21e2bd453d4d522f6775f4a9b8fafcedd2750e
      "A value is trying to be set on a copy of a slice from a DataFrame\n",
      "\n",
      "See the caveats in the documentation: https://pandas.pydata.org/pandas-docs/stable/user_guide/indexing.html#returning-a-view-versus-a-copy\n",
      "  table['Buy'][index] = 'Open'\n",
<<<<<<< HEAD
      "C:\\Users\\justi\\AppData\\Local\\Temp\\ipykernel_34332\\2363322849.py:12: SettingWithCopyWarning: \n",
=======
      "/var/folders/hc/nkkc_9yd3fd9x9025zg61t2w0000gn/T/ipykernel_44949/2363322849.py:12: SettingWithCopyWarning: \n",
>>>>>>> ea21e2bd453d4d522f6775f4a9b8fafcedd2750e
      "A value is trying to be set on a copy of a slice from a DataFrame\n",
      "\n",
      "See the caveats in the documentation: https://pandas.pydata.org/pandas-docs/stable/user_guide/indexing.html#returning-a-view-versus-a-copy\n",
      "  table['Buy'][index] = 'Open'\n",
<<<<<<< HEAD
      "C:\\Users\\justi\\AppData\\Local\\Temp\\ipykernel_34332\\2363322849.py:12: SettingWithCopyWarning: \n",
=======
      "/var/folders/hc/nkkc_9yd3fd9x9025zg61t2w0000gn/T/ipykernel_44949/2363322849.py:12: SettingWithCopyWarning: \n",
>>>>>>> ea21e2bd453d4d522f6775f4a9b8fafcedd2750e
      "A value is trying to be set on a copy of a slice from a DataFrame\n",
      "\n",
      "See the caveats in the documentation: https://pandas.pydata.org/pandas-docs/stable/user_guide/indexing.html#returning-a-view-versus-a-copy\n",
      "  table['Buy'][index] = 'Open'\n",
<<<<<<< HEAD
      "C:\\Users\\justi\\AppData\\Local\\Temp\\ipykernel_34332\\2363322849.py:12: SettingWithCopyWarning: \n",
=======
      "/var/folders/hc/nkkc_9yd3fd9x9025zg61t2w0000gn/T/ipykernel_44949/2363322849.py:12: SettingWithCopyWarning: \n",
>>>>>>> ea21e2bd453d4d522f6775f4a9b8fafcedd2750e
      "A value is trying to be set on a copy of a slice from a DataFrame\n",
      "\n",
      "See the caveats in the documentation: https://pandas.pydata.org/pandas-docs/stable/user_guide/indexing.html#returning-a-view-versus-a-copy\n",
      "  table['Buy'][index] = 'Open'\n",
<<<<<<< HEAD
      "C:\\Users\\justi\\AppData\\Local\\Temp\\ipykernel_34332\\2363322849.py:12: SettingWithCopyWarning: \n",
=======
      "/var/folders/hc/nkkc_9yd3fd9x9025zg61t2w0000gn/T/ipykernel_44949/2363322849.py:12: SettingWithCopyWarning: \n",
>>>>>>> ea21e2bd453d4d522f6775f4a9b8fafcedd2750e
      "A value is trying to be set on a copy of a slice from a DataFrame\n",
      "\n",
      "See the caveats in the documentation: https://pandas.pydata.org/pandas-docs/stable/user_guide/indexing.html#returning-a-view-versus-a-copy\n",
      "  table['Buy'][index] = 'Open'\n",
<<<<<<< HEAD
      "C:\\Users\\justi\\AppData\\Local\\Temp\\ipykernel_34332\\2363322849.py:12: SettingWithCopyWarning: \n",
=======
      "/var/folders/hc/nkkc_9yd3fd9x9025zg61t2w0000gn/T/ipykernel_44949/2363322849.py:12: SettingWithCopyWarning: \n",
>>>>>>> ea21e2bd453d4d522f6775f4a9b8fafcedd2750e
      "A value is trying to be set on a copy of a slice from a DataFrame\n",
      "\n",
      "See the caveats in the documentation: https://pandas.pydata.org/pandas-docs/stable/user_guide/indexing.html#returning-a-view-versus-a-copy\n",
      "  table['Buy'][index] = 'Open'\n",
<<<<<<< HEAD
      "C:\\Users\\justi\\AppData\\Local\\Temp\\ipykernel_34332\\2363322849.py:12: SettingWithCopyWarning: \n",
=======
      "/var/folders/hc/nkkc_9yd3fd9x9025zg61t2w0000gn/T/ipykernel_44949/2363322849.py:12: SettingWithCopyWarning: \n",
>>>>>>> ea21e2bd453d4d522f6775f4a9b8fafcedd2750e
      "A value is trying to be set on a copy of a slice from a DataFrame\n",
      "\n",
      "See the caveats in the documentation: https://pandas.pydata.org/pandas-docs/stable/user_guide/indexing.html#returning-a-view-versus-a-copy\n",
      "  table['Buy'][index] = 'Open'\n",
<<<<<<< HEAD
      "C:\\Users\\justi\\AppData\\Local\\Temp\\ipykernel_34332\\2363322849.py:12: SettingWithCopyWarning: \n",
=======
      "/var/folders/hc/nkkc_9yd3fd9x9025zg61t2w0000gn/T/ipykernel_44949/2363322849.py:12: SettingWithCopyWarning: \n",
>>>>>>> ea21e2bd453d4d522f6775f4a9b8fafcedd2750e
      "A value is trying to be set on a copy of a slice from a DataFrame\n",
      "\n",
      "See the caveats in the documentation: https://pandas.pydata.org/pandas-docs/stable/user_guide/indexing.html#returning-a-view-versus-a-copy\n",
      "  table['Buy'][index] = 'Open'\n",
<<<<<<< HEAD
      "C:\\Users\\justi\\AppData\\Local\\Temp\\ipykernel_34332\\2363322849.py:12: SettingWithCopyWarning: \n",
=======
      "/var/folders/hc/nkkc_9yd3fd9x9025zg61t2w0000gn/T/ipykernel_44949/2363322849.py:12: SettingWithCopyWarning: \n",
>>>>>>> ea21e2bd453d4d522f6775f4a9b8fafcedd2750e
      "A value is trying to be set on a copy of a slice from a DataFrame\n",
      "\n",
      "See the caveats in the documentation: https://pandas.pydata.org/pandas-docs/stable/user_guide/indexing.html#returning-a-view-versus-a-copy\n",
      "  table['Buy'][index] = 'Open'\n",
<<<<<<< HEAD
      "C:\\Users\\justi\\AppData\\Local\\Temp\\ipykernel_34332\\2363322849.py:12: SettingWithCopyWarning: \n",
=======
      "/var/folders/hc/nkkc_9yd3fd9x9025zg61t2w0000gn/T/ipykernel_44949/2363322849.py:12: SettingWithCopyWarning: \n",
>>>>>>> ea21e2bd453d4d522f6775f4a9b8fafcedd2750e
      "A value is trying to be set on a copy of a slice from a DataFrame\n",
      "\n",
      "See the caveats in the documentation: https://pandas.pydata.org/pandas-docs/stable/user_guide/indexing.html#returning-a-view-versus-a-copy\n",
      "  table['Buy'][index] = 'Open'\n",
<<<<<<< HEAD
      "C:\\Users\\justi\\AppData\\Local\\Temp\\ipykernel_34332\\2363322849.py:12: SettingWithCopyWarning: \n",
=======
      "/var/folders/hc/nkkc_9yd3fd9x9025zg61t2w0000gn/T/ipykernel_44949/2363322849.py:12: SettingWithCopyWarning: \n",
>>>>>>> ea21e2bd453d4d522f6775f4a9b8fafcedd2750e
      "A value is trying to be set on a copy of a slice from a DataFrame\n",
      "\n",
      "See the caveats in the documentation: https://pandas.pydata.org/pandas-docs/stable/user_guide/indexing.html#returning-a-view-versus-a-copy\n",
      "  table['Buy'][index] = 'Open'\n",
<<<<<<< HEAD
      "C:\\Users\\justi\\AppData\\Local\\Temp\\ipykernel_34332\\2363322849.py:12: SettingWithCopyWarning: \n",
=======
      "/var/folders/hc/nkkc_9yd3fd9x9025zg61t2w0000gn/T/ipykernel_44949/2363322849.py:12: SettingWithCopyWarning: \n",
>>>>>>> ea21e2bd453d4d522f6775f4a9b8fafcedd2750e
      "A value is trying to be set on a copy of a slice from a DataFrame\n",
      "\n",
      "See the caveats in the documentation: https://pandas.pydata.org/pandas-docs/stable/user_guide/indexing.html#returning-a-view-versus-a-copy\n",
      "  table['Buy'][index] = 'Open'\n",
<<<<<<< HEAD
      "C:\\Users\\justi\\AppData\\Local\\Temp\\ipykernel_34332\\2363322849.py:12: SettingWithCopyWarning: \n",
=======
      "/var/folders/hc/nkkc_9yd3fd9x9025zg61t2w0000gn/T/ipykernel_44949/2363322849.py:12: SettingWithCopyWarning: \n",
>>>>>>> ea21e2bd453d4d522f6775f4a9b8fafcedd2750e
      "A value is trying to be set on a copy of a slice from a DataFrame\n",
      "\n",
      "See the caveats in the documentation: https://pandas.pydata.org/pandas-docs/stable/user_guide/indexing.html#returning-a-view-versus-a-copy\n",
      "  table['Buy'][index] = 'Open'\n",
<<<<<<< HEAD
      "C:\\Users\\justi\\AppData\\Local\\Temp\\ipykernel_34332\\2363322849.py:12: SettingWithCopyWarning: \n",
=======
      "/var/folders/hc/nkkc_9yd3fd9x9025zg61t2w0000gn/T/ipykernel_44949/2363322849.py:12: SettingWithCopyWarning: \n",
>>>>>>> ea21e2bd453d4d522f6775f4a9b8fafcedd2750e
      "A value is trying to be set on a copy of a slice from a DataFrame\n",
      "\n",
      "See the caveats in the documentation: https://pandas.pydata.org/pandas-docs/stable/user_guide/indexing.html#returning-a-view-versus-a-copy\n",
      "  table['Buy'][index] = 'Open'\n",
<<<<<<< HEAD
      "C:\\Users\\justi\\AppData\\Local\\Temp\\ipykernel_34332\\2363322849.py:12: SettingWithCopyWarning: \n",
=======
      "/var/folders/hc/nkkc_9yd3fd9x9025zg61t2w0000gn/T/ipykernel_44949/2363322849.py:12: SettingWithCopyWarning: \n",
>>>>>>> ea21e2bd453d4d522f6775f4a9b8fafcedd2750e
      "A value is trying to be set on a copy of a slice from a DataFrame\n",
      "\n",
      "See the caveats in the documentation: https://pandas.pydata.org/pandas-docs/stable/user_guide/indexing.html#returning-a-view-versus-a-copy\n",
      "  table['Buy'][index] = 'Open'\n",
<<<<<<< HEAD
      "C:\\Users\\justi\\AppData\\Local\\Temp\\ipykernel_34332\\2363322849.py:12: SettingWithCopyWarning: \n",
=======
      "/var/folders/hc/nkkc_9yd3fd9x9025zg61t2w0000gn/T/ipykernel_44949/2363322849.py:12: SettingWithCopyWarning: \n",
>>>>>>> ea21e2bd453d4d522f6775f4a9b8fafcedd2750e
      "A value is trying to be set on a copy of a slice from a DataFrame\n",
      "\n",
      "See the caveats in the documentation: https://pandas.pydata.org/pandas-docs/stable/user_guide/indexing.html#returning-a-view-versus-a-copy\n",
      "  table['Buy'][index] = 'Open'\n",
<<<<<<< HEAD
      "C:\\Users\\justi\\AppData\\Local\\Temp\\ipykernel_34332\\2363322849.py:10: SettingWithCopyWarning: \n",
=======
      "/var/folders/hc/nkkc_9yd3fd9x9025zg61t2w0000gn/T/ipykernel_44949/2363322849.py:10: SettingWithCopyWarning: \n",
>>>>>>> ea21e2bd453d4d522f6775f4a9b8fafcedd2750e
      "A value is trying to be set on a copy of a slice from a DataFrame\n",
      "\n",
      "See the caveats in the documentation: https://pandas.pydata.org/pandas-docs/stable/user_guide/indexing.html#returning-a-view-versus-a-copy\n",
      "  table['Buy'][index] = 'Closed'\n",
<<<<<<< HEAD
      "C:\\Users\\justi\\AppData\\Local\\Temp\\ipykernel_34332\\2363322849.py:6: SettingWithCopyWarning: \n",
=======
      "/var/folders/hc/nkkc_9yd3fd9x9025zg61t2w0000gn/T/ipykernel_44949/2363322849.py:6: SettingWithCopyWarning: \n",
>>>>>>> ea21e2bd453d4d522f6775f4a9b8fafcedd2750e
      "A value is trying to be set on a copy of a slice from a DataFrame\n",
      "\n",
      "See the caveats in the documentation: https://pandas.pydata.org/pandas-docs/stable/user_guide/indexing.html#returning-a-view-versus-a-copy\n",
      "  table['Buy'][index] = 'Open'\n",
<<<<<<< HEAD
      "C:\\Users\\justi\\AppData\\Local\\Temp\\ipykernel_34332\\2363322849.py:12: SettingWithCopyWarning: \n",
=======
      "/var/folders/hc/nkkc_9yd3fd9x9025zg61t2w0000gn/T/ipykernel_44949/2363322849.py:12: SettingWithCopyWarning: \n",
>>>>>>> ea21e2bd453d4d522f6775f4a9b8fafcedd2750e
      "A value is trying to be set on a copy of a slice from a DataFrame\n",
      "\n",
      "See the caveats in the documentation: https://pandas.pydata.org/pandas-docs/stable/user_guide/indexing.html#returning-a-view-versus-a-copy\n",
      "  table['Buy'][index] = 'Open'\n",
<<<<<<< HEAD
      "C:\\Users\\justi\\AppData\\Local\\Temp\\ipykernel_34332\\2363322849.py:12: SettingWithCopyWarning: \n",
=======
      "/var/folders/hc/nkkc_9yd3fd9x9025zg61t2w0000gn/T/ipykernel_44949/2363322849.py:12: SettingWithCopyWarning: \n",
>>>>>>> ea21e2bd453d4d522f6775f4a9b8fafcedd2750e
      "A value is trying to be set on a copy of a slice from a DataFrame\n",
      "\n",
      "See the caveats in the documentation: https://pandas.pydata.org/pandas-docs/stable/user_guide/indexing.html#returning-a-view-versus-a-copy\n",
      "  table['Buy'][index] = 'Open'\n",
<<<<<<< HEAD
      "C:\\Users\\justi\\AppData\\Local\\Temp\\ipykernel_34332\\2363322849.py:12: SettingWithCopyWarning: \n",
=======
      "/var/folders/hc/nkkc_9yd3fd9x9025zg61t2w0000gn/T/ipykernel_44949/2363322849.py:12: SettingWithCopyWarning: \n",
>>>>>>> ea21e2bd453d4d522f6775f4a9b8fafcedd2750e
      "A value is trying to be set on a copy of a slice from a DataFrame\n",
      "\n",
      "See the caveats in the documentation: https://pandas.pydata.org/pandas-docs/stable/user_guide/indexing.html#returning-a-view-versus-a-copy\n",
      "  table['Buy'][index] = 'Open'\n",
<<<<<<< HEAD
      "C:\\Users\\justi\\AppData\\Local\\Temp\\ipykernel_34332\\2363322849.py:12: SettingWithCopyWarning: \n",
=======
      "/var/folders/hc/nkkc_9yd3fd9x9025zg61t2w0000gn/T/ipykernel_44949/2363322849.py:12: SettingWithCopyWarning: \n",
>>>>>>> ea21e2bd453d4d522f6775f4a9b8fafcedd2750e
      "A value is trying to be set on a copy of a slice from a DataFrame\n",
      "\n",
      "See the caveats in the documentation: https://pandas.pydata.org/pandas-docs/stable/user_guide/indexing.html#returning-a-view-versus-a-copy\n",
      "  table['Buy'][index] = 'Open'\n",
<<<<<<< HEAD
      "C:\\Users\\justi\\AppData\\Local\\Temp\\ipykernel_34332\\2363322849.py:12: SettingWithCopyWarning: \n",
=======
      "/var/folders/hc/nkkc_9yd3fd9x9025zg61t2w0000gn/T/ipykernel_44949/2363322849.py:12: SettingWithCopyWarning: \n",
>>>>>>> ea21e2bd453d4d522f6775f4a9b8fafcedd2750e
      "A value is trying to be set on a copy of a slice from a DataFrame\n",
      "\n",
      "See the caveats in the documentation: https://pandas.pydata.org/pandas-docs/stable/user_guide/indexing.html#returning-a-view-versus-a-copy\n",
      "  table['Buy'][index] = 'Open'\n",
<<<<<<< HEAD
      "C:\\Users\\justi\\AppData\\Local\\Temp\\ipykernel_34332\\2363322849.py:12: SettingWithCopyWarning: \n",
=======
      "/var/folders/hc/nkkc_9yd3fd9x9025zg61t2w0000gn/T/ipykernel_44949/2363322849.py:12: SettingWithCopyWarning: \n",
>>>>>>> ea21e2bd453d4d522f6775f4a9b8fafcedd2750e
      "A value is trying to be set on a copy of a slice from a DataFrame\n",
      "\n",
      "See the caveats in the documentation: https://pandas.pydata.org/pandas-docs/stable/user_guide/indexing.html#returning-a-view-versus-a-copy\n",
      "  table['Buy'][index] = 'Open'\n",
<<<<<<< HEAD
      "C:\\Users\\justi\\AppData\\Local\\Temp\\ipykernel_34332\\2363322849.py:10: SettingWithCopyWarning: \n",
=======
      "/var/folders/hc/nkkc_9yd3fd9x9025zg61t2w0000gn/T/ipykernel_44949/2363322849.py:10: SettingWithCopyWarning: \n",
>>>>>>> ea21e2bd453d4d522f6775f4a9b8fafcedd2750e
      "A value is trying to be set on a copy of a slice from a DataFrame\n",
      "\n",
      "See the caveats in the documentation: https://pandas.pydata.org/pandas-docs/stable/user_guide/indexing.html#returning-a-view-versus-a-copy\n",
      "  table['Buy'][index] = 'Closed'\n",
<<<<<<< HEAD
      "C:\\Users\\justi\\AppData\\Local\\Temp\\ipykernel_34332\\2363322849.py:6: SettingWithCopyWarning: \n",
=======
      "/var/folders/hc/nkkc_9yd3fd9x9025zg61t2w0000gn/T/ipykernel_44949/2363322849.py:6: SettingWithCopyWarning: \n",
>>>>>>> ea21e2bd453d4d522f6775f4a9b8fafcedd2750e
      "A value is trying to be set on a copy of a slice from a DataFrame\n",
      "\n",
      "See the caveats in the documentation: https://pandas.pydata.org/pandas-docs/stable/user_guide/indexing.html#returning-a-view-versus-a-copy\n",
      "  table['Buy'][index] = 'Open'\n",
<<<<<<< HEAD
      "C:\\Users\\justi\\AppData\\Local\\Temp\\ipykernel_34332\\2363322849.py:12: SettingWithCopyWarning: \n",
=======
      "/var/folders/hc/nkkc_9yd3fd9x9025zg61t2w0000gn/T/ipykernel_44949/2363322849.py:12: SettingWithCopyWarning: \n",
>>>>>>> ea21e2bd453d4d522f6775f4a9b8fafcedd2750e
      "A value is trying to be set on a copy of a slice from a DataFrame\n",
      "\n",
      "See the caveats in the documentation: https://pandas.pydata.org/pandas-docs/stable/user_guide/indexing.html#returning-a-view-versus-a-copy\n",
      "  table['Buy'][index] = 'Open'\n",
<<<<<<< HEAD
      "C:\\Users\\justi\\AppData\\Local\\Temp\\ipykernel_34332\\2363322849.py:12: SettingWithCopyWarning: \n",
=======
      "/var/folders/hc/nkkc_9yd3fd9x9025zg61t2w0000gn/T/ipykernel_44949/2363322849.py:12: SettingWithCopyWarning: \n",
>>>>>>> ea21e2bd453d4d522f6775f4a9b8fafcedd2750e
      "A value is trying to be set on a copy of a slice from a DataFrame\n",
      "\n",
      "See the caveats in the documentation: https://pandas.pydata.org/pandas-docs/stable/user_guide/indexing.html#returning-a-view-versus-a-copy\n",
      "  table['Buy'][index] = 'Open'\n",
<<<<<<< HEAD
      "C:\\Users\\justi\\AppData\\Local\\Temp\\ipykernel_34332\\2363322849.py:12: SettingWithCopyWarning: \n",
=======
      "/var/folders/hc/nkkc_9yd3fd9x9025zg61t2w0000gn/T/ipykernel_44949/2363322849.py:12: SettingWithCopyWarning: \n",
>>>>>>> ea21e2bd453d4d522f6775f4a9b8fafcedd2750e
      "A value is trying to be set on a copy of a slice from a DataFrame\n",
      "\n",
      "See the caveats in the documentation: https://pandas.pydata.org/pandas-docs/stable/user_guide/indexing.html#returning-a-view-versus-a-copy\n",
      "  table['Buy'][index] = 'Open'\n",
<<<<<<< HEAD
      "C:\\Users\\justi\\AppData\\Local\\Temp\\ipykernel_34332\\2363322849.py:12: SettingWithCopyWarning: \n",
=======
      "/var/folders/hc/nkkc_9yd3fd9x9025zg61t2w0000gn/T/ipykernel_44949/2363322849.py:12: SettingWithCopyWarning: \n",
>>>>>>> ea21e2bd453d4d522f6775f4a9b8fafcedd2750e
      "A value is trying to be set on a copy of a slice from a DataFrame\n",
      "\n",
      "See the caveats in the documentation: https://pandas.pydata.org/pandas-docs/stable/user_guide/indexing.html#returning-a-view-versus-a-copy\n",
      "  table['Buy'][index] = 'Open'\n",
<<<<<<< HEAD
      "C:\\Users\\justi\\AppData\\Local\\Temp\\ipykernel_34332\\2363322849.py:12: SettingWithCopyWarning: \n",
=======
      "/var/folders/hc/nkkc_9yd3fd9x9025zg61t2w0000gn/T/ipykernel_44949/2363322849.py:12: SettingWithCopyWarning: \n",
>>>>>>> ea21e2bd453d4d522f6775f4a9b8fafcedd2750e
      "A value is trying to be set on a copy of a slice from a DataFrame\n",
      "\n",
      "See the caveats in the documentation: https://pandas.pydata.org/pandas-docs/stable/user_guide/indexing.html#returning-a-view-versus-a-copy\n",
      "  table['Buy'][index] = 'Open'\n",
<<<<<<< HEAD
      "C:\\Users\\justi\\AppData\\Local\\Temp\\ipykernel_34332\\2363322849.py:12: SettingWithCopyWarning: \n",
=======
      "/var/folders/hc/nkkc_9yd3fd9x9025zg61t2w0000gn/T/ipykernel_44949/2363322849.py:12: SettingWithCopyWarning: \n",
>>>>>>> ea21e2bd453d4d522f6775f4a9b8fafcedd2750e
      "A value is trying to be set on a copy of a slice from a DataFrame\n",
      "\n",
      "See the caveats in the documentation: https://pandas.pydata.org/pandas-docs/stable/user_guide/indexing.html#returning-a-view-versus-a-copy\n",
      "  table['Buy'][index] = 'Open'\n",
<<<<<<< HEAD
      "C:\\Users\\justi\\AppData\\Local\\Temp\\ipykernel_34332\\2363322849.py:12: SettingWithCopyWarning: \n",
=======
      "/var/folders/hc/nkkc_9yd3fd9x9025zg61t2w0000gn/T/ipykernel_44949/2363322849.py:12: SettingWithCopyWarning: \n",
>>>>>>> ea21e2bd453d4d522f6775f4a9b8fafcedd2750e
      "A value is trying to be set on a copy of a slice from a DataFrame\n",
      "\n",
      "See the caveats in the documentation: https://pandas.pydata.org/pandas-docs/stable/user_guide/indexing.html#returning-a-view-versus-a-copy\n",
      "  table['Buy'][index] = 'Open'\n",
<<<<<<< HEAD
      "C:\\Users\\justi\\AppData\\Local\\Temp\\ipykernel_34332\\2363322849.py:12: SettingWithCopyWarning: \n",
=======
      "/var/folders/hc/nkkc_9yd3fd9x9025zg61t2w0000gn/T/ipykernel_44949/2363322849.py:12: SettingWithCopyWarning: \n",
>>>>>>> ea21e2bd453d4d522f6775f4a9b8fafcedd2750e
      "A value is trying to be set on a copy of a slice from a DataFrame\n",
      "\n",
      "See the caveats in the documentation: https://pandas.pydata.org/pandas-docs/stable/user_guide/indexing.html#returning-a-view-versus-a-copy\n",
      "  table['Buy'][index] = 'Open'\n",
<<<<<<< HEAD
      "C:\\Users\\justi\\AppData\\Local\\Temp\\ipykernel_34332\\2363322849.py:12: SettingWithCopyWarning: \n",
=======
      "/var/folders/hc/nkkc_9yd3fd9x9025zg61t2w0000gn/T/ipykernel_44949/2363322849.py:12: SettingWithCopyWarning: \n",
>>>>>>> ea21e2bd453d4d522f6775f4a9b8fafcedd2750e
      "A value is trying to be set on a copy of a slice from a DataFrame\n",
      "\n",
      "See the caveats in the documentation: https://pandas.pydata.org/pandas-docs/stable/user_guide/indexing.html#returning-a-view-versus-a-copy\n",
      "  table['Buy'][index] = 'Open'\n",
<<<<<<< HEAD
      "C:\\Users\\justi\\AppData\\Local\\Temp\\ipykernel_34332\\2363322849.py:12: SettingWithCopyWarning: \n",
=======
      "/var/folders/hc/nkkc_9yd3fd9x9025zg61t2w0000gn/T/ipykernel_44949/2363322849.py:12: SettingWithCopyWarning: \n",
>>>>>>> ea21e2bd453d4d522f6775f4a9b8fafcedd2750e
      "A value is trying to be set on a copy of a slice from a DataFrame\n",
      "\n",
      "See the caveats in the documentation: https://pandas.pydata.org/pandas-docs/stable/user_guide/indexing.html#returning-a-view-versus-a-copy\n",
      "  table['Buy'][index] = 'Open'\n",
<<<<<<< HEAD
      "C:\\Users\\justi\\AppData\\Local\\Temp\\ipykernel_34332\\2363322849.py:12: SettingWithCopyWarning: \n",
=======
      "/var/folders/hc/nkkc_9yd3fd9x9025zg61t2w0000gn/T/ipykernel_44949/2363322849.py:12: SettingWithCopyWarning: \n",
>>>>>>> ea21e2bd453d4d522f6775f4a9b8fafcedd2750e
      "A value is trying to be set on a copy of a slice from a DataFrame\n",
      "\n",
      "See the caveats in the documentation: https://pandas.pydata.org/pandas-docs/stable/user_guide/indexing.html#returning-a-view-versus-a-copy\n",
      "  table['Buy'][index] = 'Open'\n",
<<<<<<< HEAD
      "C:\\Users\\justi\\AppData\\Local\\Temp\\ipykernel_34332\\2363322849.py:12: SettingWithCopyWarning: \n",
=======
      "/var/folders/hc/nkkc_9yd3fd9x9025zg61t2w0000gn/T/ipykernel_44949/2363322849.py:12: SettingWithCopyWarning: \n",
>>>>>>> ea21e2bd453d4d522f6775f4a9b8fafcedd2750e
      "A value is trying to be set on a copy of a slice from a DataFrame\n",
      "\n",
      "See the caveats in the documentation: https://pandas.pydata.org/pandas-docs/stable/user_guide/indexing.html#returning-a-view-versus-a-copy\n",
      "  table['Buy'][index] = 'Open'\n",
<<<<<<< HEAD
      "C:\\Users\\justi\\AppData\\Local\\Temp\\ipykernel_34332\\2363322849.py:12: SettingWithCopyWarning: \n",
=======
      "/var/folders/hc/nkkc_9yd3fd9x9025zg61t2w0000gn/T/ipykernel_44949/2363322849.py:12: SettingWithCopyWarning: \n",
>>>>>>> ea21e2bd453d4d522f6775f4a9b8fafcedd2750e
      "A value is trying to be set on a copy of a slice from a DataFrame\n",
      "\n",
      "See the caveats in the documentation: https://pandas.pydata.org/pandas-docs/stable/user_guide/indexing.html#returning-a-view-versus-a-copy\n",
      "  table['Buy'][index] = 'Open'\n",
<<<<<<< HEAD
      "C:\\Users\\justi\\AppData\\Local\\Temp\\ipykernel_34332\\2363322849.py:12: SettingWithCopyWarning: \n",
=======
      "/var/folders/hc/nkkc_9yd3fd9x9025zg61t2w0000gn/T/ipykernel_44949/2363322849.py:12: SettingWithCopyWarning: \n",
>>>>>>> ea21e2bd453d4d522f6775f4a9b8fafcedd2750e
      "A value is trying to be set on a copy of a slice from a DataFrame\n",
      "\n",
      "See the caveats in the documentation: https://pandas.pydata.org/pandas-docs/stable/user_guide/indexing.html#returning-a-view-versus-a-copy\n",
      "  table['Buy'][index] = 'Open'\n",
<<<<<<< HEAD
      "C:\\Users\\justi\\AppData\\Local\\Temp\\ipykernel_34332\\2363322849.py:12: SettingWithCopyWarning: \n",
=======
      "/var/folders/hc/nkkc_9yd3fd9x9025zg61t2w0000gn/T/ipykernel_44949/2363322849.py:12: SettingWithCopyWarning: \n",
>>>>>>> ea21e2bd453d4d522f6775f4a9b8fafcedd2750e
      "A value is trying to be set on a copy of a slice from a DataFrame\n",
      "\n",
      "See the caveats in the documentation: https://pandas.pydata.org/pandas-docs/stable/user_guide/indexing.html#returning-a-view-versus-a-copy\n",
      "  table['Buy'][index] = 'Open'\n",
<<<<<<< HEAD
      "C:\\Users\\justi\\AppData\\Local\\Temp\\ipykernel_34332\\2363322849.py:12: SettingWithCopyWarning: \n",
=======
      "/var/folders/hc/nkkc_9yd3fd9x9025zg61t2w0000gn/T/ipykernel_44949/2363322849.py:12: SettingWithCopyWarning: \n",
>>>>>>> ea21e2bd453d4d522f6775f4a9b8fafcedd2750e
      "A value is trying to be set on a copy of a slice from a DataFrame\n",
      "\n",
      "See the caveats in the documentation: https://pandas.pydata.org/pandas-docs/stable/user_guide/indexing.html#returning-a-view-versus-a-copy\n",
      "  table['Buy'][index] = 'Open'\n",
<<<<<<< HEAD
      "C:\\Users\\justi\\AppData\\Local\\Temp\\ipykernel_34332\\2363322849.py:12: SettingWithCopyWarning: \n",
=======
      "/var/folders/hc/nkkc_9yd3fd9x9025zg61t2w0000gn/T/ipykernel_44949/2363322849.py:12: SettingWithCopyWarning: \n",
>>>>>>> ea21e2bd453d4d522f6775f4a9b8fafcedd2750e
      "A value is trying to be set on a copy of a slice from a DataFrame\n",
      "\n",
      "See the caveats in the documentation: https://pandas.pydata.org/pandas-docs/stable/user_guide/indexing.html#returning-a-view-versus-a-copy\n",
      "  table['Buy'][index] = 'Open'\n",
<<<<<<< HEAD
      "C:\\Users\\justi\\AppData\\Local\\Temp\\ipykernel_34332\\2363322849.py:12: SettingWithCopyWarning: \n",
=======
      "/var/folders/hc/nkkc_9yd3fd9x9025zg61t2w0000gn/T/ipykernel_44949/2363322849.py:12: SettingWithCopyWarning: \n",
>>>>>>> ea21e2bd453d4d522f6775f4a9b8fafcedd2750e
      "A value is trying to be set on a copy of a slice from a DataFrame\n",
      "\n",
      "See the caveats in the documentation: https://pandas.pydata.org/pandas-docs/stable/user_guide/indexing.html#returning-a-view-versus-a-copy\n",
      "  table['Buy'][index] = 'Open'\n",
<<<<<<< HEAD
      "C:\\Users\\justi\\AppData\\Local\\Temp\\ipykernel_34332\\2363322849.py:10: SettingWithCopyWarning: \n",
=======
      "/var/folders/hc/nkkc_9yd3fd9x9025zg61t2w0000gn/T/ipykernel_44949/2363322849.py:10: SettingWithCopyWarning: \n",
>>>>>>> ea21e2bd453d4d522f6775f4a9b8fafcedd2750e
      "A value is trying to be set on a copy of a slice from a DataFrame\n",
      "\n",
      "See the caveats in the documentation: https://pandas.pydata.org/pandas-docs/stable/user_guide/indexing.html#returning-a-view-versus-a-copy\n",
      "  table['Buy'][index] = 'Closed'\n",
<<<<<<< HEAD
      "C:\\Users\\justi\\AppData\\Local\\Temp\\ipykernel_34332\\2363322849.py:6: SettingWithCopyWarning: \n",
=======
      "/var/folders/hc/nkkc_9yd3fd9x9025zg61t2w0000gn/T/ipykernel_44949/2363322849.py:6: SettingWithCopyWarning: \n",
>>>>>>> ea21e2bd453d4d522f6775f4a9b8fafcedd2750e
      "A value is trying to be set on a copy of a slice from a DataFrame\n",
      "\n",
      "See the caveats in the documentation: https://pandas.pydata.org/pandas-docs/stable/user_guide/indexing.html#returning-a-view-versus-a-copy\n",
      "  table['Buy'][index] = 'Open'\n",
<<<<<<< HEAD
      "C:\\Users\\justi\\AppData\\Local\\Temp\\ipykernel_34332\\2363322849.py:12: SettingWithCopyWarning: \n",
=======
      "/var/folders/hc/nkkc_9yd3fd9x9025zg61t2w0000gn/T/ipykernel_44949/2363322849.py:12: SettingWithCopyWarning: \n",
>>>>>>> ea21e2bd453d4d522f6775f4a9b8fafcedd2750e
      "A value is trying to be set on a copy of a slice from a DataFrame\n",
      "\n",
      "See the caveats in the documentation: https://pandas.pydata.org/pandas-docs/stable/user_guide/indexing.html#returning-a-view-versus-a-copy\n",
      "  table['Buy'][index] = 'Open'\n",
<<<<<<< HEAD
      "C:\\Users\\justi\\AppData\\Local\\Temp\\ipykernel_34332\\2363322849.py:12: SettingWithCopyWarning: \n",
=======
      "/var/folders/hc/nkkc_9yd3fd9x9025zg61t2w0000gn/T/ipykernel_44949/2363322849.py:12: SettingWithCopyWarning: \n",
>>>>>>> ea21e2bd453d4d522f6775f4a9b8fafcedd2750e
      "A value is trying to be set on a copy of a slice from a DataFrame\n",
      "\n",
      "See the caveats in the documentation: https://pandas.pydata.org/pandas-docs/stable/user_guide/indexing.html#returning-a-view-versus-a-copy\n",
      "  table['Buy'][index] = 'Open'\n",
<<<<<<< HEAD
      "C:\\Users\\justi\\AppData\\Local\\Temp\\ipykernel_34332\\2363322849.py:10: SettingWithCopyWarning: \n",
=======
      "/var/folders/hc/nkkc_9yd3fd9x9025zg61t2w0000gn/T/ipykernel_44949/2363322849.py:10: SettingWithCopyWarning: \n",
>>>>>>> ea21e2bd453d4d522f6775f4a9b8fafcedd2750e
      "A value is trying to be set on a copy of a slice from a DataFrame\n",
      "\n",
      "See the caveats in the documentation: https://pandas.pydata.org/pandas-docs/stable/user_guide/indexing.html#returning-a-view-versus-a-copy\n",
      "  table['Buy'][index] = 'Closed'\n",
<<<<<<< HEAD
      "C:\\Users\\justi\\AppData\\Local\\Temp\\ipykernel_34332\\2363322849.py:6: SettingWithCopyWarning: \n",
=======
      "/var/folders/hc/nkkc_9yd3fd9x9025zg61t2w0000gn/T/ipykernel_44949/2363322849.py:6: SettingWithCopyWarning: \n",
>>>>>>> ea21e2bd453d4d522f6775f4a9b8fafcedd2750e
      "A value is trying to be set on a copy of a slice from a DataFrame\n",
      "\n",
      "See the caveats in the documentation: https://pandas.pydata.org/pandas-docs/stable/user_guide/indexing.html#returning-a-view-versus-a-copy\n",
      "  table['Buy'][index] = 'Open'\n",
<<<<<<< HEAD
      "C:\\Users\\justi\\AppData\\Local\\Temp\\ipykernel_34332\\2363322849.py:12: SettingWithCopyWarning: \n",
=======
      "/var/folders/hc/nkkc_9yd3fd9x9025zg61t2w0000gn/T/ipykernel_44949/2363322849.py:12: SettingWithCopyWarning: \n",
>>>>>>> ea21e2bd453d4d522f6775f4a9b8fafcedd2750e
      "A value is trying to be set on a copy of a slice from a DataFrame\n",
      "\n",
      "See the caveats in the documentation: https://pandas.pydata.org/pandas-docs/stable/user_guide/indexing.html#returning-a-view-versus-a-copy\n",
      "  table['Buy'][index] = 'Open'\n",
<<<<<<< HEAD
      "C:\\Users\\justi\\AppData\\Local\\Temp\\ipykernel_34332\\2363322849.py:12: SettingWithCopyWarning: \n",
=======
      "/var/folders/hc/nkkc_9yd3fd9x9025zg61t2w0000gn/T/ipykernel_44949/2363322849.py:12: SettingWithCopyWarning: \n",
>>>>>>> ea21e2bd453d4d522f6775f4a9b8fafcedd2750e
      "A value is trying to be set on a copy of a slice from a DataFrame\n",
      "\n",
      "See the caveats in the documentation: https://pandas.pydata.org/pandas-docs/stable/user_guide/indexing.html#returning-a-view-versus-a-copy\n",
      "  table['Buy'][index] = 'Open'\n",
<<<<<<< HEAD
      "C:\\Users\\justi\\AppData\\Local\\Temp\\ipykernel_34332\\2363322849.py:12: SettingWithCopyWarning: \n",
=======
      "/var/folders/hc/nkkc_9yd3fd9x9025zg61t2w0000gn/T/ipykernel_44949/2363322849.py:12: SettingWithCopyWarning: \n",
>>>>>>> ea21e2bd453d4d522f6775f4a9b8fafcedd2750e
      "A value is trying to be set on a copy of a slice from a DataFrame\n",
      "\n",
      "See the caveats in the documentation: https://pandas.pydata.org/pandas-docs/stable/user_guide/indexing.html#returning-a-view-versus-a-copy\n",
      "  table['Buy'][index] = 'Open'\n",
<<<<<<< HEAD
      "C:\\Users\\justi\\AppData\\Local\\Temp\\ipykernel_34332\\2363322849.py:12: SettingWithCopyWarning: \n",
=======
      "/var/folders/hc/nkkc_9yd3fd9x9025zg61t2w0000gn/T/ipykernel_44949/2363322849.py:12: SettingWithCopyWarning: \n",
>>>>>>> ea21e2bd453d4d522f6775f4a9b8fafcedd2750e
      "A value is trying to be set on a copy of a slice from a DataFrame\n",
      "\n",
      "See the caveats in the documentation: https://pandas.pydata.org/pandas-docs/stable/user_guide/indexing.html#returning-a-view-versus-a-copy\n",
      "  table['Buy'][index] = 'Open'\n",
<<<<<<< HEAD
      "C:\\Users\\justi\\AppData\\Local\\Temp\\ipykernel_34332\\2363322849.py:12: SettingWithCopyWarning: \n",
=======
      "/var/folders/hc/nkkc_9yd3fd9x9025zg61t2w0000gn/T/ipykernel_44949/2363322849.py:12: SettingWithCopyWarning: \n",
>>>>>>> ea21e2bd453d4d522f6775f4a9b8fafcedd2750e
      "A value is trying to be set on a copy of a slice from a DataFrame\n",
      "\n",
      "See the caveats in the documentation: https://pandas.pydata.org/pandas-docs/stable/user_guide/indexing.html#returning-a-view-versus-a-copy\n",
      "  table['Buy'][index] = 'Open'\n",
<<<<<<< HEAD
      "C:\\Users\\justi\\AppData\\Local\\Temp\\ipykernel_34332\\2363322849.py:12: SettingWithCopyWarning: \n",
=======
      "/var/folders/hc/nkkc_9yd3fd9x9025zg61t2w0000gn/T/ipykernel_44949/2363322849.py:12: SettingWithCopyWarning: \n",
>>>>>>> ea21e2bd453d4d522f6775f4a9b8fafcedd2750e
      "A value is trying to be set on a copy of a slice from a DataFrame\n",
      "\n",
      "See the caveats in the documentation: https://pandas.pydata.org/pandas-docs/stable/user_guide/indexing.html#returning-a-view-versus-a-copy\n",
      "  table['Buy'][index] = 'Open'\n",
<<<<<<< HEAD
      "C:\\Users\\justi\\AppData\\Local\\Temp\\ipykernel_34332\\2363322849.py:10: SettingWithCopyWarning: \n",
=======
      "/var/folders/hc/nkkc_9yd3fd9x9025zg61t2w0000gn/T/ipykernel_44949/2363322849.py:10: SettingWithCopyWarning: \n",
>>>>>>> ea21e2bd453d4d522f6775f4a9b8fafcedd2750e
      "A value is trying to be set on a copy of a slice from a DataFrame\n",
      "\n",
      "See the caveats in the documentation: https://pandas.pydata.org/pandas-docs/stable/user_guide/indexing.html#returning-a-view-versus-a-copy\n",
      "  table['Buy'][index] = 'Closed'\n",
<<<<<<< HEAD
      "C:\\Users\\justi\\AppData\\Local\\Temp\\ipykernel_34332\\2363322849.py:6: SettingWithCopyWarning: \n",
=======
      "/var/folders/hc/nkkc_9yd3fd9x9025zg61t2w0000gn/T/ipykernel_44949/2363322849.py:6: SettingWithCopyWarning: \n",
>>>>>>> ea21e2bd453d4d522f6775f4a9b8fafcedd2750e
      "A value is trying to be set on a copy of a slice from a DataFrame\n",
      "\n",
      "See the caveats in the documentation: https://pandas.pydata.org/pandas-docs/stable/user_guide/indexing.html#returning-a-view-versus-a-copy\n",
      "  table['Buy'][index] = 'Open'\n",
<<<<<<< HEAD
      "C:\\Users\\justi\\AppData\\Local\\Temp\\ipykernel_34332\\2363322849.py:10: SettingWithCopyWarning: \n",
=======
      "/var/folders/hc/nkkc_9yd3fd9x9025zg61t2w0000gn/T/ipykernel_44949/2363322849.py:10: SettingWithCopyWarning: \n",
>>>>>>> ea21e2bd453d4d522f6775f4a9b8fafcedd2750e
      "A value is trying to be set on a copy of a slice from a DataFrame\n",
      "\n",
      "See the caveats in the documentation: https://pandas.pydata.org/pandas-docs/stable/user_guide/indexing.html#returning-a-view-versus-a-copy\n",
      "  table['Buy'][index] = 'Closed'\n",
<<<<<<< HEAD
      "C:\\Users\\justi\\AppData\\Local\\Temp\\ipykernel_34332\\2363322849.py:6: SettingWithCopyWarning: \n",
=======
      "/var/folders/hc/nkkc_9yd3fd9x9025zg61t2w0000gn/T/ipykernel_44949/2363322849.py:6: SettingWithCopyWarning: \n",
>>>>>>> ea21e2bd453d4d522f6775f4a9b8fafcedd2750e
      "A value is trying to be set on a copy of a slice from a DataFrame\n",
      "\n",
      "See the caveats in the documentation: https://pandas.pydata.org/pandas-docs/stable/user_guide/indexing.html#returning-a-view-versus-a-copy\n",
      "  table['Buy'][index] = 'Open'\n",
<<<<<<< HEAD
      "C:\\Users\\justi\\AppData\\Local\\Temp\\ipykernel_34332\\2363322849.py:10: SettingWithCopyWarning: \n",
=======
      "/var/folders/hc/nkkc_9yd3fd9x9025zg61t2w0000gn/T/ipykernel_44949/2363322849.py:10: SettingWithCopyWarning: \n",
>>>>>>> ea21e2bd453d4d522f6775f4a9b8fafcedd2750e
      "A value is trying to be set on a copy of a slice from a DataFrame\n",
      "\n",
      "See the caveats in the documentation: https://pandas.pydata.org/pandas-docs/stable/user_guide/indexing.html#returning-a-view-versus-a-copy\n",
      "  table['Buy'][index] = 'Closed'\n",
<<<<<<< HEAD
      "C:\\Users\\justi\\AppData\\Local\\Temp\\ipykernel_34332\\2363322849.py:6: SettingWithCopyWarning: \n",
=======
      "/var/folders/hc/nkkc_9yd3fd9x9025zg61t2w0000gn/T/ipykernel_44949/2363322849.py:6: SettingWithCopyWarning: \n",
>>>>>>> ea21e2bd453d4d522f6775f4a9b8fafcedd2750e
      "A value is trying to be set on a copy of a slice from a DataFrame\n",
      "\n",
      "See the caveats in the documentation: https://pandas.pydata.org/pandas-docs/stable/user_guide/indexing.html#returning-a-view-versus-a-copy\n",
      "  table['Buy'][index] = 'Open'\n",
<<<<<<< HEAD
      "C:\\Users\\justi\\AppData\\Local\\Temp\\ipykernel_34332\\2363322849.py:12: SettingWithCopyWarning: \n",
=======
      "/var/folders/hc/nkkc_9yd3fd9x9025zg61t2w0000gn/T/ipykernel_44949/2363322849.py:12: SettingWithCopyWarning: \n",
>>>>>>> ea21e2bd453d4d522f6775f4a9b8fafcedd2750e
      "A value is trying to be set on a copy of a slice from a DataFrame\n",
      "\n",
      "See the caveats in the documentation: https://pandas.pydata.org/pandas-docs/stable/user_guide/indexing.html#returning-a-view-versus-a-copy\n",
      "  table['Buy'][index] = 'Open'\n",
<<<<<<< HEAD
      "C:\\Users\\justi\\AppData\\Local\\Temp\\ipykernel_34332\\2363322849.py:12: SettingWithCopyWarning: \n",
=======
      "/var/folders/hc/nkkc_9yd3fd9x9025zg61t2w0000gn/T/ipykernel_44949/2363322849.py:12: SettingWithCopyWarning: \n",
>>>>>>> ea21e2bd453d4d522f6775f4a9b8fafcedd2750e
      "A value is trying to be set on a copy of a slice from a DataFrame\n",
      "\n",
      "See the caveats in the documentation: https://pandas.pydata.org/pandas-docs/stable/user_guide/indexing.html#returning-a-view-versus-a-copy\n",
      "  table['Buy'][index] = 'Open'\n",
<<<<<<< HEAD
      "C:\\Users\\justi\\AppData\\Local\\Temp\\ipykernel_34332\\2363322849.py:12: SettingWithCopyWarning: \n",
=======
      "/var/folders/hc/nkkc_9yd3fd9x9025zg61t2w0000gn/T/ipykernel_44949/2363322849.py:12: SettingWithCopyWarning: \n",
>>>>>>> ea21e2bd453d4d522f6775f4a9b8fafcedd2750e
      "A value is trying to be set on a copy of a slice from a DataFrame\n",
      "\n",
      "See the caveats in the documentation: https://pandas.pydata.org/pandas-docs/stable/user_guide/indexing.html#returning-a-view-versus-a-copy\n",
      "  table['Buy'][index] = 'Open'\n",
<<<<<<< HEAD
      "C:\\Users\\justi\\AppData\\Local\\Temp\\ipykernel_34332\\2363322849.py:12: SettingWithCopyWarning: \n",
=======
      "/var/folders/hc/nkkc_9yd3fd9x9025zg61t2w0000gn/T/ipykernel_44949/2363322849.py:12: SettingWithCopyWarning: \n",
>>>>>>> ea21e2bd453d4d522f6775f4a9b8fafcedd2750e
      "A value is trying to be set on a copy of a slice from a DataFrame\n",
      "\n",
      "See the caveats in the documentation: https://pandas.pydata.org/pandas-docs/stable/user_guide/indexing.html#returning-a-view-versus-a-copy\n",
      "  table['Buy'][index] = 'Open'\n",
<<<<<<< HEAD
      "C:\\Users\\justi\\AppData\\Local\\Temp\\ipykernel_34332\\2363322849.py:10: SettingWithCopyWarning: \n",
=======
      "/var/folders/hc/nkkc_9yd3fd9x9025zg61t2w0000gn/T/ipykernel_44949/2363322849.py:10: SettingWithCopyWarning: \n",
>>>>>>> ea21e2bd453d4d522f6775f4a9b8fafcedd2750e
      "A value is trying to be set on a copy of a slice from a DataFrame\n",
      "\n",
      "See the caveats in the documentation: https://pandas.pydata.org/pandas-docs/stable/user_guide/indexing.html#returning-a-view-versus-a-copy\n",
      "  table['Buy'][index] = 'Closed'\n",
<<<<<<< HEAD
      "C:\\Users\\justi\\AppData\\Local\\Temp\\ipykernel_34332\\2363322849.py:6: SettingWithCopyWarning: \n",
=======
      "/var/folders/hc/nkkc_9yd3fd9x9025zg61t2w0000gn/T/ipykernel_44949/2363322849.py:6: SettingWithCopyWarning: \n",
>>>>>>> ea21e2bd453d4d522f6775f4a9b8fafcedd2750e
      "A value is trying to be set on a copy of a slice from a DataFrame\n",
      "\n",
      "See the caveats in the documentation: https://pandas.pydata.org/pandas-docs/stable/user_guide/indexing.html#returning-a-view-versus-a-copy\n",
      "  table['Buy'][index] = 'Open'\n",
<<<<<<< HEAD
      "C:\\Users\\justi\\AppData\\Local\\Temp\\ipykernel_34332\\2363322849.py:10: SettingWithCopyWarning: \n",
=======
      "/var/folders/hc/nkkc_9yd3fd9x9025zg61t2w0000gn/T/ipykernel_44949/2363322849.py:10: SettingWithCopyWarning: \n",
>>>>>>> ea21e2bd453d4d522f6775f4a9b8fafcedd2750e
      "A value is trying to be set on a copy of a slice from a DataFrame\n",
      "\n",
      "See the caveats in the documentation: https://pandas.pydata.org/pandas-docs/stable/user_guide/indexing.html#returning-a-view-versus-a-copy\n",
      "  table['Buy'][index] = 'Closed'\n",
<<<<<<< HEAD
      "C:\\Users\\justi\\AppData\\Local\\Temp\\ipykernel_34332\\2363322849.py:6: SettingWithCopyWarning: \n",
=======
      "/var/folders/hc/nkkc_9yd3fd9x9025zg61t2w0000gn/T/ipykernel_44949/2363322849.py:6: SettingWithCopyWarning: \n",
>>>>>>> ea21e2bd453d4d522f6775f4a9b8fafcedd2750e
      "A value is trying to be set on a copy of a slice from a DataFrame\n",
      "\n",
      "See the caveats in the documentation: https://pandas.pydata.org/pandas-docs/stable/user_guide/indexing.html#returning-a-view-versus-a-copy\n",
      "  table['Buy'][index] = 'Open'\n",
<<<<<<< HEAD
      "C:\\Users\\justi\\AppData\\Local\\Temp\\ipykernel_34332\\2363322849.py:12: SettingWithCopyWarning: \n",
=======
      "/var/folders/hc/nkkc_9yd3fd9x9025zg61t2w0000gn/T/ipykernel_44949/2363322849.py:12: SettingWithCopyWarning: \n",
>>>>>>> ea21e2bd453d4d522f6775f4a9b8fafcedd2750e
      "A value is trying to be set on a copy of a slice from a DataFrame\n",
      "\n",
      "See the caveats in the documentation: https://pandas.pydata.org/pandas-docs/stable/user_guide/indexing.html#returning-a-view-versus-a-copy\n",
      "  table['Buy'][index] = 'Open'\n",
<<<<<<< HEAD
      "C:\\Users\\justi\\AppData\\Local\\Temp\\ipykernel_34332\\2363322849.py:12: SettingWithCopyWarning: \n",
=======
      "/var/folders/hc/nkkc_9yd3fd9x9025zg61t2w0000gn/T/ipykernel_44949/2363322849.py:12: SettingWithCopyWarning: \n",
>>>>>>> ea21e2bd453d4d522f6775f4a9b8fafcedd2750e
      "A value is trying to be set on a copy of a slice from a DataFrame\n",
      "\n",
      "See the caveats in the documentation: https://pandas.pydata.org/pandas-docs/stable/user_guide/indexing.html#returning-a-view-versus-a-copy\n",
      "  table['Buy'][index] = 'Open'\n",
<<<<<<< HEAD
      "C:\\Users\\justi\\AppData\\Local\\Temp\\ipykernel_34332\\2363322849.py:10: SettingWithCopyWarning: \n",
=======
      "/var/folders/hc/nkkc_9yd3fd9x9025zg61t2w0000gn/T/ipykernel_44949/2363322849.py:10: SettingWithCopyWarning: \n",
>>>>>>> ea21e2bd453d4d522f6775f4a9b8fafcedd2750e
      "A value is trying to be set on a copy of a slice from a DataFrame\n",
      "\n",
      "See the caveats in the documentation: https://pandas.pydata.org/pandas-docs/stable/user_guide/indexing.html#returning-a-view-versus-a-copy\n",
      "  table['Buy'][index] = 'Closed'\n",
<<<<<<< HEAD
      "C:\\Users\\justi\\AppData\\Local\\Temp\\ipykernel_34332\\2363322849.py:6: SettingWithCopyWarning: \n",
=======
      "/var/folders/hc/nkkc_9yd3fd9x9025zg61t2w0000gn/T/ipykernel_44949/2363322849.py:6: SettingWithCopyWarning: \n",
>>>>>>> ea21e2bd453d4d522f6775f4a9b8fafcedd2750e
      "A value is trying to be set on a copy of a slice from a DataFrame\n",
      "\n",
      "See the caveats in the documentation: https://pandas.pydata.org/pandas-docs/stable/user_guide/indexing.html#returning-a-view-versus-a-copy\n",
      "  table['Buy'][index] = 'Open'\n",
<<<<<<< HEAD
      "C:\\Users\\justi\\AppData\\Local\\Temp\\ipykernel_34332\\2363322849.py:10: SettingWithCopyWarning: \n",
=======
      "/var/folders/hc/nkkc_9yd3fd9x9025zg61t2w0000gn/T/ipykernel_44949/2363322849.py:10: SettingWithCopyWarning: \n",
>>>>>>> ea21e2bd453d4d522f6775f4a9b8fafcedd2750e
      "A value is trying to be set on a copy of a slice from a DataFrame\n",
      "\n",
      "See the caveats in the documentation: https://pandas.pydata.org/pandas-docs/stable/user_guide/indexing.html#returning-a-view-versus-a-copy\n",
      "  table['Buy'][index] = 'Closed'\n",
<<<<<<< HEAD
      "C:\\Users\\justi\\AppData\\Local\\Temp\\ipykernel_34332\\2363322849.py:6: SettingWithCopyWarning: \n",
=======
      "/var/folders/hc/nkkc_9yd3fd9x9025zg61t2w0000gn/T/ipykernel_44949/2363322849.py:6: SettingWithCopyWarning: \n",
>>>>>>> ea21e2bd453d4d522f6775f4a9b8fafcedd2750e
      "A value is trying to be set on a copy of a slice from a DataFrame\n",
      "\n",
      "See the caveats in the documentation: https://pandas.pydata.org/pandas-docs/stable/user_guide/indexing.html#returning-a-view-versus-a-copy\n",
      "  table['Buy'][index] = 'Open'\n",
<<<<<<< HEAD
      "C:\\Users\\justi\\AppData\\Local\\Temp\\ipykernel_34332\\2363322849.py:10: SettingWithCopyWarning: \n",
=======
      "/var/folders/hc/nkkc_9yd3fd9x9025zg61t2w0000gn/T/ipykernel_44949/2363322849.py:10: SettingWithCopyWarning: \n",
>>>>>>> ea21e2bd453d4d522f6775f4a9b8fafcedd2750e
      "A value is trying to be set on a copy of a slice from a DataFrame\n",
      "\n",
      "See the caveats in the documentation: https://pandas.pydata.org/pandas-docs/stable/user_guide/indexing.html#returning-a-view-versus-a-copy\n",
      "  table['Buy'][index] = 'Closed'\n",
<<<<<<< HEAD
      "C:\\Users\\justi\\AppData\\Local\\Temp\\ipykernel_34332\\2363322849.py:6: SettingWithCopyWarning: \n",
=======
      "/var/folders/hc/nkkc_9yd3fd9x9025zg61t2w0000gn/T/ipykernel_44949/2363322849.py:6: SettingWithCopyWarning: \n",
>>>>>>> ea21e2bd453d4d522f6775f4a9b8fafcedd2750e
      "A value is trying to be set on a copy of a slice from a DataFrame\n",
      "\n",
      "See the caveats in the documentation: https://pandas.pydata.org/pandas-docs/stable/user_guide/indexing.html#returning-a-view-versus-a-copy\n",
      "  table['Buy'][index] = 'Open'\n",
<<<<<<< HEAD
      "C:\\Users\\justi\\AppData\\Local\\Temp\\ipykernel_34332\\2363322849.py:12: SettingWithCopyWarning: \n",
=======
      "/var/folders/hc/nkkc_9yd3fd9x9025zg61t2w0000gn/T/ipykernel_44949/2363322849.py:12: SettingWithCopyWarning: \n",
>>>>>>> ea21e2bd453d4d522f6775f4a9b8fafcedd2750e
      "A value is trying to be set on a copy of a slice from a DataFrame\n",
      "\n",
      "See the caveats in the documentation: https://pandas.pydata.org/pandas-docs/stable/user_guide/indexing.html#returning-a-view-versus-a-copy\n",
      "  table['Buy'][index] = 'Open'\n",
<<<<<<< HEAD
      "C:\\Users\\justi\\AppData\\Local\\Temp\\ipykernel_34332\\2363322849.py:10: SettingWithCopyWarning: \n",
=======
      "/var/folders/hc/nkkc_9yd3fd9x9025zg61t2w0000gn/T/ipykernel_44949/2363322849.py:10: SettingWithCopyWarning: \n",
>>>>>>> ea21e2bd453d4d522f6775f4a9b8fafcedd2750e
      "A value is trying to be set on a copy of a slice from a DataFrame\n",
      "\n",
      "See the caveats in the documentation: https://pandas.pydata.org/pandas-docs/stable/user_guide/indexing.html#returning-a-view-versus-a-copy\n",
      "  table['Buy'][index] = 'Closed'\n",
<<<<<<< HEAD
      "C:\\Users\\justi\\AppData\\Local\\Temp\\ipykernel_34332\\2363322849.py:6: SettingWithCopyWarning: \n",
=======
      "/var/folders/hc/nkkc_9yd3fd9x9025zg61t2w0000gn/T/ipykernel_44949/2363322849.py:6: SettingWithCopyWarning: \n",
>>>>>>> ea21e2bd453d4d522f6775f4a9b8fafcedd2750e
      "A value is trying to be set on a copy of a slice from a DataFrame\n",
      "\n",
      "See the caveats in the documentation: https://pandas.pydata.org/pandas-docs/stable/user_guide/indexing.html#returning-a-view-versus-a-copy\n",
      "  table['Buy'][index] = 'Open'\n",
<<<<<<< HEAD
      "C:\\Users\\justi\\AppData\\Local\\Temp\\ipykernel_34332\\2363322849.py:12: SettingWithCopyWarning: \n",
=======
      "/var/folders/hc/nkkc_9yd3fd9x9025zg61t2w0000gn/T/ipykernel_44949/2363322849.py:12: SettingWithCopyWarning: \n",
>>>>>>> ea21e2bd453d4d522f6775f4a9b8fafcedd2750e
      "A value is trying to be set on a copy of a slice from a DataFrame\n",
      "\n",
      "See the caveats in the documentation: https://pandas.pydata.org/pandas-docs/stable/user_guide/indexing.html#returning-a-view-versus-a-copy\n",
      "  table['Buy'][index] = 'Open'\n",
<<<<<<< HEAD
      "C:\\Users\\justi\\AppData\\Local\\Temp\\ipykernel_34332\\2363322849.py:10: SettingWithCopyWarning: \n",
=======
      "/var/folders/hc/nkkc_9yd3fd9x9025zg61t2w0000gn/T/ipykernel_44949/2363322849.py:10: SettingWithCopyWarning: \n",
>>>>>>> ea21e2bd453d4d522f6775f4a9b8fafcedd2750e
      "A value is trying to be set on a copy of a slice from a DataFrame\n",
      "\n",
      "See the caveats in the documentation: https://pandas.pydata.org/pandas-docs/stable/user_guide/indexing.html#returning-a-view-versus-a-copy\n",
      "  table['Buy'][index] = 'Closed'\n",
<<<<<<< HEAD
      "C:\\Users\\justi\\AppData\\Local\\Temp\\ipykernel_34332\\2363322849.py:6: SettingWithCopyWarning: \n",
=======
      "/var/folders/hc/nkkc_9yd3fd9x9025zg61t2w0000gn/T/ipykernel_44949/2363322849.py:6: SettingWithCopyWarning: \n",
>>>>>>> ea21e2bd453d4d522f6775f4a9b8fafcedd2750e
      "A value is trying to be set on a copy of a slice from a DataFrame\n",
      "\n",
      "See the caveats in the documentation: https://pandas.pydata.org/pandas-docs/stable/user_guide/indexing.html#returning-a-view-versus-a-copy\n",
      "  table['Buy'][index] = 'Open'\n",
<<<<<<< HEAD
      "C:\\Users\\justi\\AppData\\Local\\Temp\\ipykernel_34332\\2363322849.py:10: SettingWithCopyWarning: \n",
=======
      "/var/folders/hc/nkkc_9yd3fd9x9025zg61t2w0000gn/T/ipykernel_44949/2363322849.py:10: SettingWithCopyWarning: \n",
>>>>>>> ea21e2bd453d4d522f6775f4a9b8fafcedd2750e
      "A value is trying to be set on a copy of a slice from a DataFrame\n",
      "\n",
      "See the caveats in the documentation: https://pandas.pydata.org/pandas-docs/stable/user_guide/indexing.html#returning-a-view-versus-a-copy\n",
      "  table['Buy'][index] = 'Closed'\n",
<<<<<<< HEAD
      "C:\\Users\\justi\\AppData\\Local\\Temp\\ipykernel_34332\\2363322849.py:6: SettingWithCopyWarning: \n",
=======
      "/var/folders/hc/nkkc_9yd3fd9x9025zg61t2w0000gn/T/ipykernel_44949/2363322849.py:6: SettingWithCopyWarning: \n",
>>>>>>> ea21e2bd453d4d522f6775f4a9b8fafcedd2750e
      "A value is trying to be set on a copy of a slice from a DataFrame\n",
      "\n",
      "See the caveats in the documentation: https://pandas.pydata.org/pandas-docs/stable/user_guide/indexing.html#returning-a-view-versus-a-copy\n",
      "  table['Buy'][index] = 'Open'\n",
<<<<<<< HEAD
      "C:\\Users\\justi\\AppData\\Local\\Temp\\ipykernel_34332\\2363322849.py:12: SettingWithCopyWarning: \n",
=======
      "/var/folders/hc/nkkc_9yd3fd9x9025zg61t2w0000gn/T/ipykernel_44949/2363322849.py:12: SettingWithCopyWarning: \n",
>>>>>>> ea21e2bd453d4d522f6775f4a9b8fafcedd2750e
      "A value is trying to be set on a copy of a slice from a DataFrame\n",
      "\n",
      "See the caveats in the documentation: https://pandas.pydata.org/pandas-docs/stable/user_guide/indexing.html#returning-a-view-versus-a-copy\n",
      "  table['Buy'][index] = 'Open'\n",
<<<<<<< HEAD
      "C:\\Users\\justi\\AppData\\Local\\Temp\\ipykernel_34332\\2363322849.py:12: SettingWithCopyWarning: \n",
=======
      "/var/folders/hc/nkkc_9yd3fd9x9025zg61t2w0000gn/T/ipykernel_44949/2363322849.py:12: SettingWithCopyWarning: \n",
>>>>>>> ea21e2bd453d4d522f6775f4a9b8fafcedd2750e
      "A value is trying to be set on a copy of a slice from a DataFrame\n",
      "\n",
      "See the caveats in the documentation: https://pandas.pydata.org/pandas-docs/stable/user_guide/indexing.html#returning-a-view-versus-a-copy\n",
      "  table['Buy'][index] = 'Open'\n",
<<<<<<< HEAD
      "C:\\Users\\justi\\AppData\\Local\\Temp\\ipykernel_34332\\2363322849.py:12: SettingWithCopyWarning: \n",
=======
      "/var/folders/hc/nkkc_9yd3fd9x9025zg61t2w0000gn/T/ipykernel_44949/2363322849.py:12: SettingWithCopyWarning: \n",
>>>>>>> ea21e2bd453d4d522f6775f4a9b8fafcedd2750e
      "A value is trying to be set on a copy of a slice from a DataFrame\n",
      "\n",
      "See the caveats in the documentation: https://pandas.pydata.org/pandas-docs/stable/user_guide/indexing.html#returning-a-view-versus-a-copy\n",
      "  table['Buy'][index] = 'Open'\n",
<<<<<<< HEAD
      "C:\\Users\\justi\\AppData\\Local\\Temp\\ipykernel_34332\\2363322849.py:12: SettingWithCopyWarning: \n",
=======
      "/var/folders/hc/nkkc_9yd3fd9x9025zg61t2w0000gn/T/ipykernel_44949/2363322849.py:12: SettingWithCopyWarning: \n",
>>>>>>> ea21e2bd453d4d522f6775f4a9b8fafcedd2750e
      "A value is trying to be set on a copy of a slice from a DataFrame\n",
      "\n",
      "See the caveats in the documentation: https://pandas.pydata.org/pandas-docs/stable/user_guide/indexing.html#returning-a-view-versus-a-copy\n",
      "  table['Buy'][index] = 'Open'\n",
<<<<<<< HEAD
      "C:\\Users\\justi\\AppData\\Local\\Temp\\ipykernel_34332\\2363322849.py:12: SettingWithCopyWarning: \n",
=======
      "/var/folders/hc/nkkc_9yd3fd9x9025zg61t2w0000gn/T/ipykernel_44949/2363322849.py:12: SettingWithCopyWarning: \n",
>>>>>>> ea21e2bd453d4d522f6775f4a9b8fafcedd2750e
      "A value is trying to be set on a copy of a slice from a DataFrame\n",
      "\n",
      "See the caveats in the documentation: https://pandas.pydata.org/pandas-docs/stable/user_guide/indexing.html#returning-a-view-versus-a-copy\n",
      "  table['Buy'][index] = 'Open'\n",
<<<<<<< HEAD
      "C:\\Users\\justi\\AppData\\Local\\Temp\\ipykernel_34332\\2363322849.py:12: SettingWithCopyWarning: \n",
=======
      "/var/folders/hc/nkkc_9yd3fd9x9025zg61t2w0000gn/T/ipykernel_44949/2363322849.py:12: SettingWithCopyWarning: \n",
>>>>>>> ea21e2bd453d4d522f6775f4a9b8fafcedd2750e
      "A value is trying to be set on a copy of a slice from a DataFrame\n",
      "\n",
      "See the caveats in the documentation: https://pandas.pydata.org/pandas-docs/stable/user_guide/indexing.html#returning-a-view-versus-a-copy\n",
      "  table['Buy'][index] = 'Open'\n",
<<<<<<< HEAD
      "C:\\Users\\justi\\AppData\\Local\\Temp\\ipykernel_34332\\2363322849.py:12: SettingWithCopyWarning: \n",
=======
      "/var/folders/hc/nkkc_9yd3fd9x9025zg61t2w0000gn/T/ipykernel_44949/2363322849.py:12: SettingWithCopyWarning: \n",
>>>>>>> ea21e2bd453d4d522f6775f4a9b8fafcedd2750e
      "A value is trying to be set on a copy of a slice from a DataFrame\n",
      "\n",
      "See the caveats in the documentation: https://pandas.pydata.org/pandas-docs/stable/user_guide/indexing.html#returning-a-view-versus-a-copy\n",
      "  table['Buy'][index] = 'Open'\n",
<<<<<<< HEAD
      "C:\\Users\\justi\\AppData\\Local\\Temp\\ipykernel_34332\\2363322849.py:12: SettingWithCopyWarning: \n",
=======
      "/var/folders/hc/nkkc_9yd3fd9x9025zg61t2w0000gn/T/ipykernel_44949/2363322849.py:12: SettingWithCopyWarning: \n",
>>>>>>> ea21e2bd453d4d522f6775f4a9b8fafcedd2750e
      "A value is trying to be set on a copy of a slice from a DataFrame\n",
      "\n",
      "See the caveats in the documentation: https://pandas.pydata.org/pandas-docs/stable/user_guide/indexing.html#returning-a-view-versus-a-copy\n",
      "  table['Buy'][index] = 'Open'\n",
<<<<<<< HEAD
      "C:\\Users\\justi\\AppData\\Local\\Temp\\ipykernel_34332\\2363322849.py:10: SettingWithCopyWarning: \n",
=======
      "/var/folders/hc/nkkc_9yd3fd9x9025zg61t2w0000gn/T/ipykernel_44949/2363322849.py:10: SettingWithCopyWarning: \n",
>>>>>>> ea21e2bd453d4d522f6775f4a9b8fafcedd2750e
      "A value is trying to be set on a copy of a slice from a DataFrame\n",
      "\n",
      "See the caveats in the documentation: https://pandas.pydata.org/pandas-docs/stable/user_guide/indexing.html#returning-a-view-versus-a-copy\n",
      "  table['Buy'][index] = 'Closed'\n",
<<<<<<< HEAD
      "C:\\Users\\justi\\AppData\\Local\\Temp\\ipykernel_34332\\2363322849.py:6: SettingWithCopyWarning: \n",
=======
      "/var/folders/hc/nkkc_9yd3fd9x9025zg61t2w0000gn/T/ipykernel_44949/2363322849.py:6: SettingWithCopyWarning: \n",
>>>>>>> ea21e2bd453d4d522f6775f4a9b8fafcedd2750e
      "A value is trying to be set on a copy of a slice from a DataFrame\n",
      "\n",
      "See the caveats in the documentation: https://pandas.pydata.org/pandas-docs/stable/user_guide/indexing.html#returning-a-view-versus-a-copy\n",
      "  table['Buy'][index] = 'Open'\n",
<<<<<<< HEAD
      "C:\\Users\\justi\\AppData\\Local\\Temp\\ipykernel_34332\\2363322849.py:12: SettingWithCopyWarning: \n",
=======
      "/var/folders/hc/nkkc_9yd3fd9x9025zg61t2w0000gn/T/ipykernel_44949/2363322849.py:12: SettingWithCopyWarning: \n",
>>>>>>> ea21e2bd453d4d522f6775f4a9b8fafcedd2750e
      "A value is trying to be set on a copy of a slice from a DataFrame\n",
      "\n",
      "See the caveats in the documentation: https://pandas.pydata.org/pandas-docs/stable/user_guide/indexing.html#returning-a-view-versus-a-copy\n",
      "  table['Buy'][index] = 'Open'\n",
<<<<<<< HEAD
      "C:\\Users\\justi\\AppData\\Local\\Temp\\ipykernel_34332\\2363322849.py:12: SettingWithCopyWarning: \n",
=======
      "/var/folders/hc/nkkc_9yd3fd9x9025zg61t2w0000gn/T/ipykernel_44949/2363322849.py:12: SettingWithCopyWarning: \n",
>>>>>>> ea21e2bd453d4d522f6775f4a9b8fafcedd2750e
      "A value is trying to be set on a copy of a slice from a DataFrame\n",
      "\n",
      "See the caveats in the documentation: https://pandas.pydata.org/pandas-docs/stable/user_guide/indexing.html#returning-a-view-versus-a-copy\n",
      "  table['Buy'][index] = 'Open'\n",
<<<<<<< HEAD
      "C:\\Users\\justi\\AppData\\Local\\Temp\\ipykernel_34332\\2363322849.py:12: SettingWithCopyWarning: \n",
=======
      "/var/folders/hc/nkkc_9yd3fd9x9025zg61t2w0000gn/T/ipykernel_44949/2363322849.py:12: SettingWithCopyWarning: \n",
>>>>>>> ea21e2bd453d4d522f6775f4a9b8fafcedd2750e
      "A value is trying to be set on a copy of a slice from a DataFrame\n",
      "\n",
      "See the caveats in the documentation: https://pandas.pydata.org/pandas-docs/stable/user_guide/indexing.html#returning-a-view-versus-a-copy\n",
      "  table['Buy'][index] = 'Open'\n",
<<<<<<< HEAD
      "C:\\Users\\justi\\AppData\\Local\\Temp\\ipykernel_34332\\2363322849.py:12: SettingWithCopyWarning: \n",
=======
      "/var/folders/hc/nkkc_9yd3fd9x9025zg61t2w0000gn/T/ipykernel_44949/2363322849.py:12: SettingWithCopyWarning: \n",
>>>>>>> ea21e2bd453d4d522f6775f4a9b8fafcedd2750e
      "A value is trying to be set on a copy of a slice from a DataFrame\n",
      "\n",
      "See the caveats in the documentation: https://pandas.pydata.org/pandas-docs/stable/user_guide/indexing.html#returning-a-view-versus-a-copy\n",
      "  table['Buy'][index] = 'Open'\n",
<<<<<<< HEAD
      "C:\\Users\\justi\\AppData\\Local\\Temp\\ipykernel_34332\\2363322849.py:12: SettingWithCopyWarning: \n",
=======
      "/var/folders/hc/nkkc_9yd3fd9x9025zg61t2w0000gn/T/ipykernel_44949/2363322849.py:12: SettingWithCopyWarning: \n",
>>>>>>> ea21e2bd453d4d522f6775f4a9b8fafcedd2750e
      "A value is trying to be set on a copy of a slice from a DataFrame\n",
      "\n",
      "See the caveats in the documentation: https://pandas.pydata.org/pandas-docs/stable/user_guide/indexing.html#returning-a-view-versus-a-copy\n",
      "  table['Buy'][index] = 'Open'\n",
<<<<<<< HEAD
      "C:\\Users\\justi\\AppData\\Local\\Temp\\ipykernel_34332\\2363322849.py:12: SettingWithCopyWarning: \n",
=======
      "/var/folders/hc/nkkc_9yd3fd9x9025zg61t2w0000gn/T/ipykernel_44949/2363322849.py:12: SettingWithCopyWarning: \n",
>>>>>>> ea21e2bd453d4d522f6775f4a9b8fafcedd2750e
      "A value is trying to be set on a copy of a slice from a DataFrame\n",
      "\n",
      "See the caveats in the documentation: https://pandas.pydata.org/pandas-docs/stable/user_guide/indexing.html#returning-a-view-versus-a-copy\n",
      "  table['Buy'][index] = 'Open'\n",
<<<<<<< HEAD
      "C:\\Users\\justi\\AppData\\Local\\Temp\\ipykernel_34332\\2363322849.py:12: SettingWithCopyWarning: \n",
=======
      "/var/folders/hc/nkkc_9yd3fd9x9025zg61t2w0000gn/T/ipykernel_44949/2363322849.py:12: SettingWithCopyWarning: \n",
>>>>>>> ea21e2bd453d4d522f6775f4a9b8fafcedd2750e
      "A value is trying to be set on a copy of a slice from a DataFrame\n",
      "\n",
      "See the caveats in the documentation: https://pandas.pydata.org/pandas-docs/stable/user_guide/indexing.html#returning-a-view-versus-a-copy\n",
      "  table['Buy'][index] = 'Open'\n",
<<<<<<< HEAD
      "C:\\Users\\justi\\AppData\\Local\\Temp\\ipykernel_34332\\2363322849.py:12: SettingWithCopyWarning: \n",
=======
      "/var/folders/hc/nkkc_9yd3fd9x9025zg61t2w0000gn/T/ipykernel_44949/2363322849.py:12: SettingWithCopyWarning: \n",
>>>>>>> ea21e2bd453d4d522f6775f4a9b8fafcedd2750e
      "A value is trying to be set on a copy of a slice from a DataFrame\n",
      "\n",
      "See the caveats in the documentation: https://pandas.pydata.org/pandas-docs/stable/user_guide/indexing.html#returning-a-view-versus-a-copy\n",
      "  table['Buy'][index] = 'Open'\n",
<<<<<<< HEAD
      "C:\\Users\\justi\\AppData\\Local\\Temp\\ipykernel_34332\\2363322849.py:12: SettingWithCopyWarning: \n",
=======
      "/var/folders/hc/nkkc_9yd3fd9x9025zg61t2w0000gn/T/ipykernel_44949/2363322849.py:12: SettingWithCopyWarning: \n",
>>>>>>> ea21e2bd453d4d522f6775f4a9b8fafcedd2750e
      "A value is trying to be set on a copy of a slice from a DataFrame\n",
      "\n",
      "See the caveats in the documentation: https://pandas.pydata.org/pandas-docs/stable/user_guide/indexing.html#returning-a-view-versus-a-copy\n",
      "  table['Buy'][index] = 'Open'\n",
<<<<<<< HEAD
      "C:\\Users\\justi\\AppData\\Local\\Temp\\ipykernel_34332\\2363322849.py:12: SettingWithCopyWarning: \n",
=======
      "/var/folders/hc/nkkc_9yd3fd9x9025zg61t2w0000gn/T/ipykernel_44949/2363322849.py:12: SettingWithCopyWarning: \n",
>>>>>>> ea21e2bd453d4d522f6775f4a9b8fafcedd2750e
      "A value is trying to be set on a copy of a slice from a DataFrame\n",
      "\n",
      "See the caveats in the documentation: https://pandas.pydata.org/pandas-docs/stable/user_guide/indexing.html#returning-a-view-versus-a-copy\n",
      "  table['Buy'][index] = 'Open'\n",
<<<<<<< HEAD
      "C:\\Users\\justi\\AppData\\Local\\Temp\\ipykernel_34332\\2363322849.py:12: SettingWithCopyWarning: \n",
=======
      "/var/folders/hc/nkkc_9yd3fd9x9025zg61t2w0000gn/T/ipykernel_44949/2363322849.py:12: SettingWithCopyWarning: \n",
>>>>>>> ea21e2bd453d4d522f6775f4a9b8fafcedd2750e
      "A value is trying to be set on a copy of a slice from a DataFrame\n",
      "\n",
      "See the caveats in the documentation: https://pandas.pydata.org/pandas-docs/stable/user_guide/indexing.html#returning-a-view-versus-a-copy\n",
      "  table['Buy'][index] = 'Open'\n",
<<<<<<< HEAD
      "C:\\Users\\justi\\AppData\\Local\\Temp\\ipykernel_34332\\2363322849.py:12: SettingWithCopyWarning: \n",
=======
      "/var/folders/hc/nkkc_9yd3fd9x9025zg61t2w0000gn/T/ipykernel_44949/2363322849.py:12: SettingWithCopyWarning: \n",
>>>>>>> ea21e2bd453d4d522f6775f4a9b8fafcedd2750e
      "A value is trying to be set on a copy of a slice from a DataFrame\n",
      "\n",
      "See the caveats in the documentation: https://pandas.pydata.org/pandas-docs/stable/user_guide/indexing.html#returning-a-view-versus-a-copy\n",
      "  table['Buy'][index] = 'Open'\n",
<<<<<<< HEAD
      "C:\\Users\\justi\\AppData\\Local\\Temp\\ipykernel_34332\\2363322849.py:12: SettingWithCopyWarning: \n",
=======
      "/var/folders/hc/nkkc_9yd3fd9x9025zg61t2w0000gn/T/ipykernel_44949/2363322849.py:12: SettingWithCopyWarning: \n",
>>>>>>> ea21e2bd453d4d522f6775f4a9b8fafcedd2750e
      "A value is trying to be set on a copy of a slice from a DataFrame\n",
      "\n",
      "See the caveats in the documentation: https://pandas.pydata.org/pandas-docs/stable/user_guide/indexing.html#returning-a-view-versus-a-copy\n",
      "  table['Buy'][index] = 'Open'\n",
<<<<<<< HEAD
      "C:\\Users\\justi\\AppData\\Local\\Temp\\ipykernel_34332\\2363322849.py:12: SettingWithCopyWarning: \n",
=======
      "/var/folders/hc/nkkc_9yd3fd9x9025zg61t2w0000gn/T/ipykernel_44949/2363322849.py:12: SettingWithCopyWarning: \n",
>>>>>>> ea21e2bd453d4d522f6775f4a9b8fafcedd2750e
      "A value is trying to be set on a copy of a slice from a DataFrame\n",
      "\n",
      "See the caveats in the documentation: https://pandas.pydata.org/pandas-docs/stable/user_guide/indexing.html#returning-a-view-versus-a-copy\n",
      "  table['Buy'][index] = 'Open'\n",
<<<<<<< HEAD
      "C:\\Users\\justi\\AppData\\Local\\Temp\\ipykernel_34332\\2363322849.py:12: SettingWithCopyWarning: \n",
=======
      "/var/folders/hc/nkkc_9yd3fd9x9025zg61t2w0000gn/T/ipykernel_44949/2363322849.py:12: SettingWithCopyWarning: \n",
>>>>>>> ea21e2bd453d4d522f6775f4a9b8fafcedd2750e
      "A value is trying to be set on a copy of a slice from a DataFrame\n",
      "\n",
      "See the caveats in the documentation: https://pandas.pydata.org/pandas-docs/stable/user_guide/indexing.html#returning-a-view-versus-a-copy\n",
      "  table['Buy'][index] = 'Open'\n",
<<<<<<< HEAD
      "C:\\Users\\justi\\AppData\\Local\\Temp\\ipykernel_34332\\2363322849.py:12: SettingWithCopyWarning: \n",
=======
      "/var/folders/hc/nkkc_9yd3fd9x9025zg61t2w0000gn/T/ipykernel_44949/2363322849.py:12: SettingWithCopyWarning: \n",
>>>>>>> ea21e2bd453d4d522f6775f4a9b8fafcedd2750e
      "A value is trying to be set on a copy of a slice from a DataFrame\n",
      "\n",
      "See the caveats in the documentation: https://pandas.pydata.org/pandas-docs/stable/user_guide/indexing.html#returning-a-view-versus-a-copy\n",
      "  table['Buy'][index] = 'Open'\n",
<<<<<<< HEAD
      "C:\\Users\\justi\\AppData\\Local\\Temp\\ipykernel_34332\\2363322849.py:12: SettingWithCopyWarning: \n",
=======
      "/var/folders/hc/nkkc_9yd3fd9x9025zg61t2w0000gn/T/ipykernel_44949/2363322849.py:12: SettingWithCopyWarning: \n",
>>>>>>> ea21e2bd453d4d522f6775f4a9b8fafcedd2750e
      "A value is trying to be set on a copy of a slice from a DataFrame\n",
      "\n",
      "See the caveats in the documentation: https://pandas.pydata.org/pandas-docs/stable/user_guide/indexing.html#returning-a-view-versus-a-copy\n",
      "  table['Buy'][index] = 'Open'\n",
<<<<<<< HEAD
      "C:\\Users\\justi\\AppData\\Local\\Temp\\ipykernel_34332\\2363322849.py:12: SettingWithCopyWarning: \n",
=======
      "/var/folders/hc/nkkc_9yd3fd9x9025zg61t2w0000gn/T/ipykernel_44949/2363322849.py:12: SettingWithCopyWarning: \n",
>>>>>>> ea21e2bd453d4d522f6775f4a9b8fafcedd2750e
      "A value is trying to be set on a copy of a slice from a DataFrame\n",
      "\n",
      "See the caveats in the documentation: https://pandas.pydata.org/pandas-docs/stable/user_guide/indexing.html#returning-a-view-versus-a-copy\n",
      "  table['Buy'][index] = 'Open'\n",
<<<<<<< HEAD
      "C:\\Users\\justi\\AppData\\Local\\Temp\\ipykernel_34332\\2363322849.py:12: SettingWithCopyWarning: \n",
=======
      "/var/folders/hc/nkkc_9yd3fd9x9025zg61t2w0000gn/T/ipykernel_44949/2363322849.py:12: SettingWithCopyWarning: \n",
>>>>>>> ea21e2bd453d4d522f6775f4a9b8fafcedd2750e
      "A value is trying to be set on a copy of a slice from a DataFrame\n",
      "\n",
      "See the caveats in the documentation: https://pandas.pydata.org/pandas-docs/stable/user_guide/indexing.html#returning-a-view-versus-a-copy\n",
      "  table['Buy'][index] = 'Open'\n",
<<<<<<< HEAD
      "C:\\Users\\justi\\AppData\\Local\\Temp\\ipykernel_34332\\2363322849.py:10: SettingWithCopyWarning: \n",
=======
      "/var/folders/hc/nkkc_9yd3fd9x9025zg61t2w0000gn/T/ipykernel_44949/2363322849.py:10: SettingWithCopyWarning: \n",
>>>>>>> ea21e2bd453d4d522f6775f4a9b8fafcedd2750e
      "A value is trying to be set on a copy of a slice from a DataFrame\n",
      "\n",
      "See the caveats in the documentation: https://pandas.pydata.org/pandas-docs/stable/user_guide/indexing.html#returning-a-view-versus-a-copy\n",
      "  table['Buy'][index] = 'Closed'\n",
<<<<<<< HEAD
      "C:\\Users\\justi\\AppData\\Local\\Temp\\ipykernel_34332\\2363322849.py:6: SettingWithCopyWarning: \n",
=======
      "/var/folders/hc/nkkc_9yd3fd9x9025zg61t2w0000gn/T/ipykernel_44949/2363322849.py:6: SettingWithCopyWarning: \n",
>>>>>>> ea21e2bd453d4d522f6775f4a9b8fafcedd2750e
      "A value is trying to be set on a copy of a slice from a DataFrame\n",
      "\n",
      "See the caveats in the documentation: https://pandas.pydata.org/pandas-docs/stable/user_guide/indexing.html#returning-a-view-versus-a-copy\n",
      "  table['Buy'][index] = 'Open'\n",
<<<<<<< HEAD
      "C:\\Users\\justi\\AppData\\Local\\Temp\\ipykernel_34332\\2363322849.py:12: SettingWithCopyWarning: \n",
=======
      "/var/folders/hc/nkkc_9yd3fd9x9025zg61t2w0000gn/T/ipykernel_44949/2363322849.py:12: SettingWithCopyWarning: \n",
>>>>>>> ea21e2bd453d4d522f6775f4a9b8fafcedd2750e
      "A value is trying to be set on a copy of a slice from a DataFrame\n",
      "\n",
      "See the caveats in the documentation: https://pandas.pydata.org/pandas-docs/stable/user_guide/indexing.html#returning-a-view-versus-a-copy\n",
      "  table['Buy'][index] = 'Open'\n",
<<<<<<< HEAD
      "C:\\Users\\justi\\AppData\\Local\\Temp\\ipykernel_34332\\2363322849.py:12: SettingWithCopyWarning: \n",
=======
      "/var/folders/hc/nkkc_9yd3fd9x9025zg61t2w0000gn/T/ipykernel_44949/2363322849.py:12: SettingWithCopyWarning: \n",
>>>>>>> ea21e2bd453d4d522f6775f4a9b8fafcedd2750e
      "A value is trying to be set on a copy of a slice from a DataFrame\n",
      "\n",
      "See the caveats in the documentation: https://pandas.pydata.org/pandas-docs/stable/user_guide/indexing.html#returning-a-view-versus-a-copy\n",
      "  table['Buy'][index] = 'Open'\n",
<<<<<<< HEAD
      "C:\\Users\\justi\\AppData\\Local\\Temp\\ipykernel_34332\\2363322849.py:12: SettingWithCopyWarning: \n",
=======
      "/var/folders/hc/nkkc_9yd3fd9x9025zg61t2w0000gn/T/ipykernel_44949/2363322849.py:12: SettingWithCopyWarning: \n",
>>>>>>> ea21e2bd453d4d522f6775f4a9b8fafcedd2750e
      "A value is trying to be set on a copy of a slice from a DataFrame\n",
      "\n",
      "See the caveats in the documentation: https://pandas.pydata.org/pandas-docs/stable/user_guide/indexing.html#returning-a-view-versus-a-copy\n",
      "  table['Buy'][index] = 'Open'\n",
<<<<<<< HEAD
      "C:\\Users\\justi\\AppData\\Local\\Temp\\ipykernel_34332\\2363322849.py:12: SettingWithCopyWarning: \n",
=======
      "/var/folders/hc/nkkc_9yd3fd9x9025zg61t2w0000gn/T/ipykernel_44949/2363322849.py:12: SettingWithCopyWarning: \n",
>>>>>>> ea21e2bd453d4d522f6775f4a9b8fafcedd2750e
      "A value is trying to be set on a copy of a slice from a DataFrame\n",
      "\n",
      "See the caveats in the documentation: https://pandas.pydata.org/pandas-docs/stable/user_guide/indexing.html#returning-a-view-versus-a-copy\n",
      "  table['Buy'][index] = 'Open'\n",
<<<<<<< HEAD
      "C:\\Users\\justi\\AppData\\Local\\Temp\\ipykernel_34332\\2363322849.py:12: SettingWithCopyWarning: \n",
=======
      "/var/folders/hc/nkkc_9yd3fd9x9025zg61t2w0000gn/T/ipykernel_44949/2363322849.py:12: SettingWithCopyWarning: \n",
>>>>>>> ea21e2bd453d4d522f6775f4a9b8fafcedd2750e
      "A value is trying to be set on a copy of a slice from a DataFrame\n",
      "\n",
      "See the caveats in the documentation: https://pandas.pydata.org/pandas-docs/stable/user_guide/indexing.html#returning-a-view-versus-a-copy\n",
      "  table['Buy'][index] = 'Open'\n",
<<<<<<< HEAD
      "C:\\Users\\justi\\AppData\\Local\\Temp\\ipykernel_34332\\2363322849.py:12: SettingWithCopyWarning: \n",
=======
      "/var/folders/hc/nkkc_9yd3fd9x9025zg61t2w0000gn/T/ipykernel_44949/2363322849.py:12: SettingWithCopyWarning: \n",
>>>>>>> ea21e2bd453d4d522f6775f4a9b8fafcedd2750e
      "A value is trying to be set on a copy of a slice from a DataFrame\n",
      "\n",
      "See the caveats in the documentation: https://pandas.pydata.org/pandas-docs/stable/user_guide/indexing.html#returning-a-view-versus-a-copy\n",
      "  table['Buy'][index] = 'Open'\n",
<<<<<<< HEAD
      "C:\\Users\\justi\\AppData\\Local\\Temp\\ipykernel_34332\\2363322849.py:12: SettingWithCopyWarning: \n",
=======
      "/var/folders/hc/nkkc_9yd3fd9x9025zg61t2w0000gn/T/ipykernel_44949/2363322849.py:12: SettingWithCopyWarning: \n",
>>>>>>> ea21e2bd453d4d522f6775f4a9b8fafcedd2750e
      "A value is trying to be set on a copy of a slice from a DataFrame\n",
      "\n",
      "See the caveats in the documentation: https://pandas.pydata.org/pandas-docs/stable/user_guide/indexing.html#returning-a-view-versus-a-copy\n",
      "  table['Buy'][index] = 'Open'\n",
<<<<<<< HEAD
      "C:\\Users\\justi\\AppData\\Local\\Temp\\ipykernel_34332\\2363322849.py:12: SettingWithCopyWarning: \n",
=======
      "/var/folders/hc/nkkc_9yd3fd9x9025zg61t2w0000gn/T/ipykernel_44949/2363322849.py:12: SettingWithCopyWarning: \n",
>>>>>>> ea21e2bd453d4d522f6775f4a9b8fafcedd2750e
      "A value is trying to be set on a copy of a slice from a DataFrame\n",
      "\n",
      "See the caveats in the documentation: https://pandas.pydata.org/pandas-docs/stable/user_guide/indexing.html#returning-a-view-versus-a-copy\n",
      "  table['Buy'][index] = 'Open'\n",
<<<<<<< HEAD
      "C:\\Users\\justi\\AppData\\Local\\Temp\\ipykernel_34332\\2363322849.py:12: SettingWithCopyWarning: \n",
=======
      "/var/folders/hc/nkkc_9yd3fd9x9025zg61t2w0000gn/T/ipykernel_44949/2363322849.py:12: SettingWithCopyWarning: \n",
>>>>>>> ea21e2bd453d4d522f6775f4a9b8fafcedd2750e
      "A value is trying to be set on a copy of a slice from a DataFrame\n",
      "\n",
      "See the caveats in the documentation: https://pandas.pydata.org/pandas-docs/stable/user_guide/indexing.html#returning-a-view-versus-a-copy\n",
      "  table['Buy'][index] = 'Open'\n",
<<<<<<< HEAD
      "C:\\Users\\justi\\AppData\\Local\\Temp\\ipykernel_34332\\2363322849.py:12: SettingWithCopyWarning: \n",
=======
      "/var/folders/hc/nkkc_9yd3fd9x9025zg61t2w0000gn/T/ipykernel_44949/2363322849.py:12: SettingWithCopyWarning: \n",
>>>>>>> ea21e2bd453d4d522f6775f4a9b8fafcedd2750e
      "A value is trying to be set on a copy of a slice from a DataFrame\n",
      "\n",
      "See the caveats in the documentation: https://pandas.pydata.org/pandas-docs/stable/user_guide/indexing.html#returning-a-view-versus-a-copy\n",
      "  table['Buy'][index] = 'Open'\n",
<<<<<<< HEAD
      "C:\\Users\\justi\\AppData\\Local\\Temp\\ipykernel_34332\\2363322849.py:12: SettingWithCopyWarning: \n",
=======
      "/var/folders/hc/nkkc_9yd3fd9x9025zg61t2w0000gn/T/ipykernel_44949/2363322849.py:12: SettingWithCopyWarning: \n",
>>>>>>> ea21e2bd453d4d522f6775f4a9b8fafcedd2750e
      "A value is trying to be set on a copy of a slice from a DataFrame\n",
      "\n",
      "See the caveats in the documentation: https://pandas.pydata.org/pandas-docs/stable/user_guide/indexing.html#returning-a-view-versus-a-copy\n",
      "  table['Buy'][index] = 'Open'\n",
<<<<<<< HEAD
      "C:\\Users\\justi\\AppData\\Local\\Temp\\ipykernel_34332\\2363322849.py:12: SettingWithCopyWarning: \n",
=======
      "/var/folders/hc/nkkc_9yd3fd9x9025zg61t2w0000gn/T/ipykernel_44949/2363322849.py:12: SettingWithCopyWarning: \n",
>>>>>>> ea21e2bd453d4d522f6775f4a9b8fafcedd2750e
      "A value is trying to be set on a copy of a slice from a DataFrame\n",
      "\n",
      "See the caveats in the documentation: https://pandas.pydata.org/pandas-docs/stable/user_guide/indexing.html#returning-a-view-versus-a-copy\n",
      "  table['Buy'][index] = 'Open'\n",
<<<<<<< HEAD
      "C:\\Users\\justi\\AppData\\Local\\Temp\\ipykernel_34332\\2363322849.py:12: SettingWithCopyWarning: \n",
=======
      "/var/folders/hc/nkkc_9yd3fd9x9025zg61t2w0000gn/T/ipykernel_44949/2363322849.py:12: SettingWithCopyWarning: \n",
>>>>>>> ea21e2bd453d4d522f6775f4a9b8fafcedd2750e
      "A value is trying to be set on a copy of a slice from a DataFrame\n",
      "\n",
      "See the caveats in the documentation: https://pandas.pydata.org/pandas-docs/stable/user_guide/indexing.html#returning-a-view-versus-a-copy\n",
      "  table['Buy'][index] = 'Open'\n",
<<<<<<< HEAD
      "C:\\Users\\justi\\AppData\\Local\\Temp\\ipykernel_34332\\2363322849.py:12: SettingWithCopyWarning: \n",
=======
      "/var/folders/hc/nkkc_9yd3fd9x9025zg61t2w0000gn/T/ipykernel_44949/2363322849.py:12: SettingWithCopyWarning: \n",
>>>>>>> ea21e2bd453d4d522f6775f4a9b8fafcedd2750e
      "A value is trying to be set on a copy of a slice from a DataFrame\n",
      "\n",
      "See the caveats in the documentation: https://pandas.pydata.org/pandas-docs/stable/user_guide/indexing.html#returning-a-view-versus-a-copy\n",
      "  table['Buy'][index] = 'Open'\n",
<<<<<<< HEAD
      "C:\\Users\\justi\\AppData\\Local\\Temp\\ipykernel_34332\\2363322849.py:12: SettingWithCopyWarning: \n",
=======
      "/var/folders/hc/nkkc_9yd3fd9x9025zg61t2w0000gn/T/ipykernel_44949/2363322849.py:12: SettingWithCopyWarning: \n",
>>>>>>> ea21e2bd453d4d522f6775f4a9b8fafcedd2750e
      "A value is trying to be set on a copy of a slice from a DataFrame\n",
      "\n",
      "See the caveats in the documentation: https://pandas.pydata.org/pandas-docs/stable/user_guide/indexing.html#returning-a-view-versus-a-copy\n",
      "  table['Buy'][index] = 'Open'\n",
<<<<<<< HEAD
      "C:\\Users\\justi\\AppData\\Local\\Temp\\ipykernel_34332\\2363322849.py:12: SettingWithCopyWarning: \n",
=======
      "/var/folders/hc/nkkc_9yd3fd9x9025zg61t2w0000gn/T/ipykernel_44949/2363322849.py:12: SettingWithCopyWarning: \n",
>>>>>>> ea21e2bd453d4d522f6775f4a9b8fafcedd2750e
      "A value is trying to be set on a copy of a slice from a DataFrame\n",
      "\n",
      "See the caveats in the documentation: https://pandas.pydata.org/pandas-docs/stable/user_guide/indexing.html#returning-a-view-versus-a-copy\n",
      "  table['Buy'][index] = 'Open'\n",
<<<<<<< HEAD
      "C:\\Users\\justi\\AppData\\Local\\Temp\\ipykernel_34332\\2363322849.py:12: SettingWithCopyWarning: \n",
=======
      "/var/folders/hc/nkkc_9yd3fd9x9025zg61t2w0000gn/T/ipykernel_44949/2363322849.py:12: SettingWithCopyWarning: \n",
>>>>>>> ea21e2bd453d4d522f6775f4a9b8fafcedd2750e
      "A value is trying to be set on a copy of a slice from a DataFrame\n",
      "\n",
      "See the caveats in the documentation: https://pandas.pydata.org/pandas-docs/stable/user_guide/indexing.html#returning-a-view-versus-a-copy\n",
      "  table['Buy'][index] = 'Open'\n",
<<<<<<< HEAD
      "C:\\Users\\justi\\AppData\\Local\\Temp\\ipykernel_34332\\2363322849.py:12: SettingWithCopyWarning: \n",
=======
      "/var/folders/hc/nkkc_9yd3fd9x9025zg61t2w0000gn/T/ipykernel_44949/2363322849.py:12: SettingWithCopyWarning: \n",
>>>>>>> ea21e2bd453d4d522f6775f4a9b8fafcedd2750e
      "A value is trying to be set on a copy of a slice from a DataFrame\n",
      "\n",
      "See the caveats in the documentation: https://pandas.pydata.org/pandas-docs/stable/user_guide/indexing.html#returning-a-view-versus-a-copy\n",
      "  table['Buy'][index] = 'Open'\n",
<<<<<<< HEAD
      "C:\\Users\\justi\\AppData\\Local\\Temp\\ipykernel_34332\\2363322849.py:12: SettingWithCopyWarning: \n",
=======
      "/var/folders/hc/nkkc_9yd3fd9x9025zg61t2w0000gn/T/ipykernel_44949/2363322849.py:12: SettingWithCopyWarning: \n",
>>>>>>> ea21e2bd453d4d522f6775f4a9b8fafcedd2750e
      "A value is trying to be set on a copy of a slice from a DataFrame\n",
      "\n",
      "See the caveats in the documentation: https://pandas.pydata.org/pandas-docs/stable/user_guide/indexing.html#returning-a-view-versus-a-copy\n",
      "  table['Buy'][index] = 'Open'\n",
<<<<<<< HEAD
      "C:\\Users\\justi\\AppData\\Local\\Temp\\ipykernel_34332\\2363322849.py:12: SettingWithCopyWarning: \n",
=======
      "/var/folders/hc/nkkc_9yd3fd9x9025zg61t2w0000gn/T/ipykernel_44949/2363322849.py:12: SettingWithCopyWarning: \n",
>>>>>>> ea21e2bd453d4d522f6775f4a9b8fafcedd2750e
      "A value is trying to be set on a copy of a slice from a DataFrame\n",
      "\n",
      "See the caveats in the documentation: https://pandas.pydata.org/pandas-docs/stable/user_guide/indexing.html#returning-a-view-versus-a-copy\n",
      "  table['Buy'][index] = 'Open'\n",
<<<<<<< HEAD
      "C:\\Users\\justi\\AppData\\Local\\Temp\\ipykernel_34332\\2363322849.py:12: SettingWithCopyWarning: \n",
=======
      "/var/folders/hc/nkkc_9yd3fd9x9025zg61t2w0000gn/T/ipykernel_44949/2363322849.py:12: SettingWithCopyWarning: \n",
>>>>>>> ea21e2bd453d4d522f6775f4a9b8fafcedd2750e
      "A value is trying to be set on a copy of a slice from a DataFrame\n",
      "\n",
      "See the caveats in the documentation: https://pandas.pydata.org/pandas-docs/stable/user_guide/indexing.html#returning-a-view-versus-a-copy\n",
      "  table['Buy'][index] = 'Open'\n",
<<<<<<< HEAD
      "C:\\Users\\justi\\AppData\\Local\\Temp\\ipykernel_34332\\2363322849.py:12: SettingWithCopyWarning: \n",
=======
      "/var/folders/hc/nkkc_9yd3fd9x9025zg61t2w0000gn/T/ipykernel_44949/2363322849.py:12: SettingWithCopyWarning: \n",
>>>>>>> ea21e2bd453d4d522f6775f4a9b8fafcedd2750e
      "A value is trying to be set on a copy of a slice from a DataFrame\n",
      "\n",
      "See the caveats in the documentation: https://pandas.pydata.org/pandas-docs/stable/user_guide/indexing.html#returning-a-view-versus-a-copy\n",
      "  table['Buy'][index] = 'Open'\n",
<<<<<<< HEAD
      "C:\\Users\\justi\\AppData\\Local\\Temp\\ipykernel_34332\\2363322849.py:12: SettingWithCopyWarning: \n",
=======
      "/var/folders/hc/nkkc_9yd3fd9x9025zg61t2w0000gn/T/ipykernel_44949/2363322849.py:12: SettingWithCopyWarning: \n",
>>>>>>> ea21e2bd453d4d522f6775f4a9b8fafcedd2750e
      "A value is trying to be set on a copy of a slice from a DataFrame\n",
      "\n",
      "See the caveats in the documentation: https://pandas.pydata.org/pandas-docs/stable/user_guide/indexing.html#returning-a-view-versus-a-copy\n",
      "  table['Buy'][index] = 'Open'\n",
<<<<<<< HEAD
      "C:\\Users\\justi\\AppData\\Local\\Temp\\ipykernel_34332\\2363322849.py:10: SettingWithCopyWarning: \n",
=======
      "/var/folders/hc/nkkc_9yd3fd9x9025zg61t2w0000gn/T/ipykernel_44949/2363322849.py:10: SettingWithCopyWarning: \n",
>>>>>>> ea21e2bd453d4d522f6775f4a9b8fafcedd2750e
      "A value is trying to be set on a copy of a slice from a DataFrame\n",
      "\n",
      "See the caveats in the documentation: https://pandas.pydata.org/pandas-docs/stable/user_guide/indexing.html#returning-a-view-versus-a-copy\n",
      "  table['Buy'][index] = 'Closed'\n",
<<<<<<< HEAD
      "C:\\Users\\justi\\AppData\\Local\\Temp\\ipykernel_34332\\2363322849.py:6: SettingWithCopyWarning: \n",
=======
      "/var/folders/hc/nkkc_9yd3fd9x9025zg61t2w0000gn/T/ipykernel_44949/2363322849.py:6: SettingWithCopyWarning: \n",
>>>>>>> ea21e2bd453d4d522f6775f4a9b8fafcedd2750e
      "A value is trying to be set on a copy of a slice from a DataFrame\n",
      "\n",
      "See the caveats in the documentation: https://pandas.pydata.org/pandas-docs/stable/user_guide/indexing.html#returning-a-view-versus-a-copy\n",
      "  table['Buy'][index] = 'Open'\n",
<<<<<<< HEAD
      "C:\\Users\\justi\\AppData\\Local\\Temp\\ipykernel_34332\\2363322849.py:12: SettingWithCopyWarning: \n",
=======
      "/var/folders/hc/nkkc_9yd3fd9x9025zg61t2w0000gn/T/ipykernel_44949/2363322849.py:12: SettingWithCopyWarning: \n",
>>>>>>> ea21e2bd453d4d522f6775f4a9b8fafcedd2750e
      "A value is trying to be set on a copy of a slice from a DataFrame\n",
      "\n",
      "See the caveats in the documentation: https://pandas.pydata.org/pandas-docs/stable/user_guide/indexing.html#returning-a-view-versus-a-copy\n",
      "  table['Buy'][index] = 'Open'\n",
<<<<<<< HEAD
      "C:\\Users\\justi\\AppData\\Local\\Temp\\ipykernel_34332\\2363322849.py:10: SettingWithCopyWarning: \n",
=======
      "/var/folders/hc/nkkc_9yd3fd9x9025zg61t2w0000gn/T/ipykernel_44949/2363322849.py:10: SettingWithCopyWarning: \n",
>>>>>>> ea21e2bd453d4d522f6775f4a9b8fafcedd2750e
      "A value is trying to be set on a copy of a slice from a DataFrame\n",
      "\n",
      "See the caveats in the documentation: https://pandas.pydata.org/pandas-docs/stable/user_guide/indexing.html#returning-a-view-versus-a-copy\n",
      "  table['Buy'][index] = 'Closed'\n",
<<<<<<< HEAD
      "C:\\Users\\justi\\AppData\\Local\\Temp\\ipykernel_34332\\2363322849.py:6: SettingWithCopyWarning: \n",
=======
      "/var/folders/hc/nkkc_9yd3fd9x9025zg61t2w0000gn/T/ipykernel_44949/2363322849.py:6: SettingWithCopyWarning: \n",
>>>>>>> ea21e2bd453d4d522f6775f4a9b8fafcedd2750e
      "A value is trying to be set on a copy of a slice from a DataFrame\n",
      "\n",
      "See the caveats in the documentation: https://pandas.pydata.org/pandas-docs/stable/user_guide/indexing.html#returning-a-view-versus-a-copy\n",
      "  table['Buy'][index] = 'Open'\n",
<<<<<<< HEAD
      "C:\\Users\\justi\\AppData\\Local\\Temp\\ipykernel_34332\\2363322849.py:10: SettingWithCopyWarning: \n",
=======
      "/var/folders/hc/nkkc_9yd3fd9x9025zg61t2w0000gn/T/ipykernel_44949/2363322849.py:10: SettingWithCopyWarning: \n",
>>>>>>> ea21e2bd453d4d522f6775f4a9b8fafcedd2750e
      "A value is trying to be set on a copy of a slice from a DataFrame\n",
      "\n",
      "See the caveats in the documentation: https://pandas.pydata.org/pandas-docs/stable/user_guide/indexing.html#returning-a-view-versus-a-copy\n",
      "  table['Buy'][index] = 'Closed'\n",
<<<<<<< HEAD
      "C:\\Users\\justi\\AppData\\Local\\Temp\\ipykernel_34332\\2363322849.py:6: SettingWithCopyWarning: \n",
=======
      "/var/folders/hc/nkkc_9yd3fd9x9025zg61t2w0000gn/T/ipykernel_44949/2363322849.py:6: SettingWithCopyWarning: \n",
>>>>>>> ea21e2bd453d4d522f6775f4a9b8fafcedd2750e
      "A value is trying to be set on a copy of a slice from a DataFrame\n",
      "\n",
      "See the caveats in the documentation: https://pandas.pydata.org/pandas-docs/stable/user_guide/indexing.html#returning-a-view-versus-a-copy\n",
      "  table['Buy'][index] = 'Open'\n",
<<<<<<< HEAD
      "C:\\Users\\justi\\AppData\\Local\\Temp\\ipykernel_34332\\2363322849.py:12: SettingWithCopyWarning: \n",
=======
      "/var/folders/hc/nkkc_9yd3fd9x9025zg61t2w0000gn/T/ipykernel_44949/2363322849.py:12: SettingWithCopyWarning: \n",
>>>>>>> ea21e2bd453d4d522f6775f4a9b8fafcedd2750e
      "A value is trying to be set on a copy of a slice from a DataFrame\n",
      "\n",
      "See the caveats in the documentation: https://pandas.pydata.org/pandas-docs/stable/user_guide/indexing.html#returning-a-view-versus-a-copy\n",
      "  table['Buy'][index] = 'Open'\n",
<<<<<<< HEAD
      "C:\\Users\\justi\\AppData\\Local\\Temp\\ipykernel_34332\\2363322849.py:12: SettingWithCopyWarning: \n",
=======
      "/var/folders/hc/nkkc_9yd3fd9x9025zg61t2w0000gn/T/ipykernel_44949/2363322849.py:12: SettingWithCopyWarning: \n",
>>>>>>> ea21e2bd453d4d522f6775f4a9b8fafcedd2750e
      "A value is trying to be set on a copy of a slice from a DataFrame\n",
      "\n",
      "See the caveats in the documentation: https://pandas.pydata.org/pandas-docs/stable/user_guide/indexing.html#returning-a-view-versus-a-copy\n",
      "  table['Buy'][index] = 'Open'\n",
<<<<<<< HEAD
      "C:\\Users\\justi\\AppData\\Local\\Temp\\ipykernel_34332\\2363322849.py:12: SettingWithCopyWarning: \n",
=======
      "/var/folders/hc/nkkc_9yd3fd9x9025zg61t2w0000gn/T/ipykernel_44949/2363322849.py:12: SettingWithCopyWarning: \n",
>>>>>>> ea21e2bd453d4d522f6775f4a9b8fafcedd2750e
      "A value is trying to be set on a copy of a slice from a DataFrame\n",
      "\n",
      "See the caveats in the documentation: https://pandas.pydata.org/pandas-docs/stable/user_guide/indexing.html#returning-a-view-versus-a-copy\n",
      "  table['Buy'][index] = 'Open'\n",
<<<<<<< HEAD
      "C:\\Users\\justi\\AppData\\Local\\Temp\\ipykernel_34332\\2363322849.py:12: SettingWithCopyWarning: \n",
=======
      "/var/folders/hc/nkkc_9yd3fd9x9025zg61t2w0000gn/T/ipykernel_44949/2363322849.py:12: SettingWithCopyWarning: \n",
>>>>>>> ea21e2bd453d4d522f6775f4a9b8fafcedd2750e
      "A value is trying to be set on a copy of a slice from a DataFrame\n",
      "\n",
      "See the caveats in the documentation: https://pandas.pydata.org/pandas-docs/stable/user_guide/indexing.html#returning-a-view-versus-a-copy\n",
      "  table['Buy'][index] = 'Open'\n",
<<<<<<< HEAD
      "C:\\Users\\justi\\AppData\\Local\\Temp\\ipykernel_34332\\2363322849.py:12: SettingWithCopyWarning: \n",
=======
      "/var/folders/hc/nkkc_9yd3fd9x9025zg61t2w0000gn/T/ipykernel_44949/2363322849.py:12: SettingWithCopyWarning: \n",
>>>>>>> ea21e2bd453d4d522f6775f4a9b8fafcedd2750e
      "A value is trying to be set on a copy of a slice from a DataFrame\n",
      "\n",
      "See the caveats in the documentation: https://pandas.pydata.org/pandas-docs/stable/user_guide/indexing.html#returning-a-view-versus-a-copy\n",
      "  table['Buy'][index] = 'Open'\n",
<<<<<<< HEAD
      "C:\\Users\\justi\\AppData\\Local\\Temp\\ipykernel_34332\\2363322849.py:12: SettingWithCopyWarning: \n",
=======
      "/var/folders/hc/nkkc_9yd3fd9x9025zg61t2w0000gn/T/ipykernel_44949/2363322849.py:12: SettingWithCopyWarning: \n",
>>>>>>> ea21e2bd453d4d522f6775f4a9b8fafcedd2750e
      "A value is trying to be set on a copy of a slice from a DataFrame\n",
      "\n",
      "See the caveats in the documentation: https://pandas.pydata.org/pandas-docs/stable/user_guide/indexing.html#returning-a-view-versus-a-copy\n",
      "  table['Buy'][index] = 'Open'\n",
<<<<<<< HEAD
      "C:\\Users\\justi\\AppData\\Local\\Temp\\ipykernel_34332\\2363322849.py:12: SettingWithCopyWarning: \n",
=======
      "/var/folders/hc/nkkc_9yd3fd9x9025zg61t2w0000gn/T/ipykernel_44949/2363322849.py:12: SettingWithCopyWarning: \n",
>>>>>>> ea21e2bd453d4d522f6775f4a9b8fafcedd2750e
      "A value is trying to be set on a copy of a slice from a DataFrame\n",
      "\n",
      "See the caveats in the documentation: https://pandas.pydata.org/pandas-docs/stable/user_guide/indexing.html#returning-a-view-versus-a-copy\n",
      "  table['Buy'][index] = 'Open'\n",
<<<<<<< HEAD
      "C:\\Users\\justi\\AppData\\Local\\Temp\\ipykernel_34332\\2363322849.py:10: SettingWithCopyWarning: \n",
=======
      "/var/folders/hc/nkkc_9yd3fd9x9025zg61t2w0000gn/T/ipykernel_44949/2363322849.py:10: SettingWithCopyWarning: \n",
>>>>>>> ea21e2bd453d4d522f6775f4a9b8fafcedd2750e
      "A value is trying to be set on a copy of a slice from a DataFrame\n",
      "\n",
      "See the caveats in the documentation: https://pandas.pydata.org/pandas-docs/stable/user_guide/indexing.html#returning-a-view-versus-a-copy\n",
      "  table['Buy'][index] = 'Closed'\n",
<<<<<<< HEAD
      "C:\\Users\\justi\\AppData\\Local\\Temp\\ipykernel_34332\\2363322849.py:6: SettingWithCopyWarning: \n",
=======
      "/var/folders/hc/nkkc_9yd3fd9x9025zg61t2w0000gn/T/ipykernel_44949/2363322849.py:6: SettingWithCopyWarning: \n",
>>>>>>> ea21e2bd453d4d522f6775f4a9b8fafcedd2750e
      "A value is trying to be set on a copy of a slice from a DataFrame\n",
      "\n",
      "See the caveats in the documentation: https://pandas.pydata.org/pandas-docs/stable/user_guide/indexing.html#returning-a-view-versus-a-copy\n",
      "  table['Buy'][index] = 'Open'\n",
<<<<<<< HEAD
      "C:\\Users\\justi\\AppData\\Local\\Temp\\ipykernel_34332\\2363322849.py:12: SettingWithCopyWarning: \n",
=======
      "/var/folders/hc/nkkc_9yd3fd9x9025zg61t2w0000gn/T/ipykernel_44949/2363322849.py:12: SettingWithCopyWarning: \n",
>>>>>>> ea21e2bd453d4d522f6775f4a9b8fafcedd2750e
      "A value is trying to be set on a copy of a slice from a DataFrame\n",
      "\n",
      "See the caveats in the documentation: https://pandas.pydata.org/pandas-docs/stable/user_guide/indexing.html#returning-a-view-versus-a-copy\n",
      "  table['Buy'][index] = 'Open'\n",
<<<<<<< HEAD
      "C:\\Users\\justi\\AppData\\Local\\Temp\\ipykernel_34332\\2363322849.py:10: SettingWithCopyWarning: \n",
=======
      "/var/folders/hc/nkkc_9yd3fd9x9025zg61t2w0000gn/T/ipykernel_44949/2363322849.py:10: SettingWithCopyWarning: \n",
>>>>>>> ea21e2bd453d4d522f6775f4a9b8fafcedd2750e
      "A value is trying to be set on a copy of a slice from a DataFrame\n",
      "\n",
      "See the caveats in the documentation: https://pandas.pydata.org/pandas-docs/stable/user_guide/indexing.html#returning-a-view-versus-a-copy\n",
      "  table['Buy'][index] = 'Closed'\n",
<<<<<<< HEAD
      "C:\\Users\\justi\\AppData\\Local\\Temp\\ipykernel_34332\\2363322849.py:6: SettingWithCopyWarning: \n",
=======
      "/var/folders/hc/nkkc_9yd3fd9x9025zg61t2w0000gn/T/ipykernel_44949/2363322849.py:6: SettingWithCopyWarning: \n",
>>>>>>> ea21e2bd453d4d522f6775f4a9b8fafcedd2750e
      "A value is trying to be set on a copy of a slice from a DataFrame\n",
      "\n",
      "See the caveats in the documentation: https://pandas.pydata.org/pandas-docs/stable/user_guide/indexing.html#returning-a-view-versus-a-copy\n",
      "  table['Buy'][index] = 'Open'\n",
<<<<<<< HEAD
      "C:\\Users\\justi\\AppData\\Local\\Temp\\ipykernel_34332\\2363322849.py:10: SettingWithCopyWarning: \n",
=======
      "/var/folders/hc/nkkc_9yd3fd9x9025zg61t2w0000gn/T/ipykernel_44949/2363322849.py:10: SettingWithCopyWarning: \n",
>>>>>>> ea21e2bd453d4d522f6775f4a9b8fafcedd2750e
      "A value is trying to be set on a copy of a slice from a DataFrame\n",
      "\n",
      "See the caveats in the documentation: https://pandas.pydata.org/pandas-docs/stable/user_guide/indexing.html#returning-a-view-versus-a-copy\n",
      "  table['Buy'][index] = 'Closed'\n"
     ]
    }
   ],
   "source": [
    "eur_usd_df['Buy'] = algo(eur_usd_df)\n",
    "cad_usd_df['Buy'] = algo(cad_usd_df)\n",
    "jpy_usd_df['Buy'] = algo(jpy_usd_df)"
   ]
  },
  {
   "cell_type": "code",
   "execution_count": 17,
   "metadata": {},
   "outputs": [
    {
     "data": {
      "text/html": [
       "<div>\n",
       "<style scoped>\n",
       "    .dataframe tbody tr th:only-of-type {\n",
       "        vertical-align: middle;\n",
       "    }\n",
       "\n",
       "    .dataframe tbody tr th {\n",
       "        vertical-align: top;\n",
       "    }\n",
       "\n",
       "    .dataframe thead th {\n",
       "        text-align: right;\n",
       "    }\n",
       "</style>\n",
       "<table border=\"1\" class=\"dataframe\">\n",
       "  <thead>\n",
       "    <tr style=\"text-align: right;\">\n",
       "      <th></th>\n",
       "      <th>Date</th>\n",
       "      <th>Open</th>\n",
       "      <th>High</th>\n",
       "      <th>Low</th>\n",
       "      <th>Close</th>\n",
       "      <th>MA5</th>\n",
       "      <th>MA8</th>\n",
       "      <th>MA13</th>\n",
       "      <th>Buy</th>\n",
       "      <th>Profit</th>\n",
       "    </tr>\n",
       "  </thead>\n",
       "  <tbody>\n",
       "    <tr>\n",
       "      <th>37</th>\n",
       "      <td>11/11/24</td>\n",
       "      <td>1.0724</td>\n",
       "      <td>1.0730</td>\n",
       "      <td>1.0629</td>\n",
       "      <td>1.0655</td>\n",
       "      <td>1.05712</td>\n",
       "      <td>1.055900</td>\n",
       "      <td>1.053923</td>\n",
       "      <td>Open</td>\n",
       "      <td>0</td>\n",
       "    </tr>\n",
       "    <tr>\n",
       "      <th>38</th>\n",
       "      <td>11/08/24</td>\n",
       "      <td>1.0805</td>\n",
       "      <td>1.0810</td>\n",
       "      <td>1.0688</td>\n",
       "      <td>1.0719</td>\n",
       "      <td>1.05826</td>\n",
       "      <td>1.058162</td>\n",
       "      <td>1.054700</td>\n",
       "      <td>Open</td>\n",
       "      <td>0</td>\n",
       "    </tr>\n",
       "    <tr>\n",
       "      <th>39</th>\n",
       "      <td>11/07/24</td>\n",
       "      <td>1.0730</td>\n",
       "      <td>1.0828</td>\n",
       "      <td>1.0713</td>\n",
       "      <td>1.0803</td>\n",
       "      <td>1.06184</td>\n",
       "      <td>1.060325</td>\n",
       "      <td>1.055854</td>\n",
       "      <td>Open</td>\n",
       "      <td>0</td>\n",
       "    </tr>\n",
       "    <tr>\n",
       "      <th>40</th>\n",
       "      <td>11/06/24</td>\n",
       "      <td>1.0931</td>\n",
       "      <td>1.0940</td>\n",
       "      <td>1.0683</td>\n",
       "      <td>1.0731</td>\n",
       "      <td>1.06728</td>\n",
       "      <td>1.062912</td>\n",
       "      <td>1.058254</td>\n",
       "      <td>Open</td>\n",
       "      <td>0</td>\n",
       "    </tr>\n",
       "    <tr>\n",
       "      <th>41</th>\n",
       "      <td>11/05/24</td>\n",
       "      <td>1.0879</td>\n",
       "      <td>1.0938</td>\n",
       "      <td>1.0873</td>\n",
       "      <td>1.0932</td>\n",
       "      <td>1.07062</td>\n",
       "      <td>1.064575</td>\n",
       "      <td>1.060054</td>\n",
       "      <td>Open</td>\n",
       "      <td>0</td>\n",
       "    </tr>\n",
       "    <tr>\n",
       "      <th>42</th>\n",
       "      <td>11/04/24</td>\n",
       "      <td>1.0881</td>\n",
       "      <td>1.0917</td>\n",
       "      <td>1.0870</td>\n",
       "      <td>1.0878</td>\n",
       "      <td>1.07680</td>\n",
       "      <td>1.069475</td>\n",
       "      <td>1.063938</td>\n",
       "      <td>Open</td>\n",
       "      <td>0</td>\n",
       "    </tr>\n",
       "    <tr>\n",
       "      <th>43</th>\n",
       "      <td>11/01/24</td>\n",
       "      <td>1.0883</td>\n",
       "      <td>1.0908</td>\n",
       "      <td>1.0832</td>\n",
       "      <td>1.0835</td>\n",
       "      <td>1.08126</td>\n",
       "      <td>1.073813</td>\n",
       "      <td>1.067046</td>\n",
       "      <td>Open</td>\n",
       "      <td>0</td>\n",
       "    </tr>\n",
       "    <tr>\n",
       "      <th>44</th>\n",
       "      <td>10/31/24</td>\n",
       "      <td>1.0857</td>\n",
       "      <td>1.0891</td>\n",
       "      <td>1.0843</td>\n",
       "      <td>1.0884</td>\n",
       "      <td>1.08358</td>\n",
       "      <td>1.077200</td>\n",
       "      <td>1.069269</td>\n",
       "      <td>Open</td>\n",
       "      <td>0</td>\n",
       "    </tr>\n",
       "    <tr>\n",
       "      <th>45</th>\n",
       "      <td>10/30/24</td>\n",
       "      <td>1.0818</td>\n",
       "      <td>1.0874</td>\n",
       "      <td>1.0798</td>\n",
       "      <td>1.0857</td>\n",
       "      <td>1.08520</td>\n",
       "      <td>1.080462</td>\n",
       "      <td>1.071485</td>\n",
       "      <td>Open</td>\n",
       "      <td>0</td>\n",
       "    </tr>\n",
       "    <tr>\n",
       "      <th>46</th>\n",
       "      <td>10/29/24</td>\n",
       "      <td>1.0813</td>\n",
       "      <td>1.0828</td>\n",
       "      <td>1.0770</td>\n",
       "      <td>1.0819</td>\n",
       "      <td>1.08772</td>\n",
       "      <td>1.082987</td>\n",
       "      <td>1.073477</td>\n",
       "      <td>Open</td>\n",
       "      <td>0</td>\n",
       "    </tr>\n",
       "    <tr>\n",
       "      <th>47</th>\n",
       "      <td>10/28/24</td>\n",
       "      <td>1.0803</td>\n",
       "      <td>1.0829</td>\n",
       "      <td>1.0781</td>\n",
       "      <td>1.0814</td>\n",
       "      <td>1.08546</td>\n",
       "      <td>1.084237</td>\n",
       "      <td>1.075623</td>\n",
       "      <td>Open</td>\n",
       "      <td>0</td>\n",
       "    </tr>\n",
       "    <tr>\n",
       "      <th>48</th>\n",
       "      <td>10/25/24</td>\n",
       "      <td>1.0830</td>\n",
       "      <td>1.0841</td>\n",
       "      <td>1.0794</td>\n",
       "      <td>1.0796</td>\n",
       "      <td>1.08418</td>\n",
       "      <td>1.084375</td>\n",
       "      <td>1.077800</td>\n",
       "      <td>Open</td>\n",
       "      <td>0</td>\n",
       "    </tr>\n",
       "    <tr>\n",
       "      <th>49</th>\n",
       "      <td>10/24/24</td>\n",
       "      <td>1.0784</td>\n",
       "      <td>1.0833</td>\n",
       "      <td>1.0772</td>\n",
       "      <td>1.0828</td>\n",
       "      <td>1.08340</td>\n",
       "      <td>1.085187</td>\n",
       "      <td>1.079585</td>\n",
       "      <td>Open</td>\n",
       "      <td>0</td>\n",
       "    </tr>\n",
       "    <tr>\n",
       "      <th>50</th>\n",
       "      <td>10/23/24</td>\n",
       "      <td>1.0798</td>\n",
       "      <td>1.0809</td>\n",
       "      <td>1.0761</td>\n",
       "      <td>1.0782</td>\n",
       "      <td>1.08228</td>\n",
       "      <td>1.083887</td>\n",
       "      <td>1.081162</td>\n",
       "      <td>Closed</td>\n",
       "      <td>0</td>\n",
       "    </tr>\n",
       "    <tr>\n",
       "      <th>51</th>\n",
       "      <td>10/22/24</td>\n",
       "      <td>1.0816</td>\n",
       "      <td>1.0849</td>\n",
       "      <td>1.0793</td>\n",
       "      <td>1.0800</td>\n",
       "      <td>1.08078</td>\n",
       "      <td>1.082688</td>\n",
       "      <td>1.082138</td>\n",
       "      <td>Closed</td>\n",
       "      <td>0</td>\n",
       "    </tr>\n",
       "    <tr>\n",
       "      <th>52</th>\n",
       "      <td>10/21/24</td>\n",
       "      <td>1.0877</td>\n",
       "      <td>1.0877</td>\n",
       "      <td>1.0811</td>\n",
       "      <td>1.0817</td>\n",
       "      <td>1.08040</td>\n",
       "      <td>1.082250</td>\n",
       "      <td>1.082762</td>\n",
       "      <td>Closed</td>\n",
       "      <td>0</td>\n",
       "    </tr>\n",
       "    <tr>\n",
       "      <th>53</th>\n",
       "      <td>10/18/24</td>\n",
       "      <td>1.0828</td>\n",
       "      <td>1.0872</td>\n",
       "      <td>1.0825</td>\n",
       "      <td>1.0869</td>\n",
       "      <td>1.08046</td>\n",
       "      <td>1.081412</td>\n",
       "      <td>1.082869</td>\n",
       "      <td>Closed</td>\n",
       "      <td>0</td>\n",
       "    </tr>\n",
       "    <tr>\n",
       "      <th>54</th>\n",
       "      <td>10/17/24</td>\n",
       "      <td>1.0862</td>\n",
       "      <td>1.0876</td>\n",
       "      <td>1.0813</td>\n",
       "      <td>1.0832</td>\n",
       "      <td>1.08192</td>\n",
       "      <td>1.081562</td>\n",
       "      <td>1.083931</td>\n",
       "      <td>Closed</td>\n",
       "      <td>0</td>\n",
       "    </tr>\n",
       "    <tr>\n",
       "      <th>55</th>\n",
       "      <td>10/16/24</td>\n",
       "      <td>1.0893</td>\n",
       "      <td>1.0926</td>\n",
       "      <td>1.0854</td>\n",
       "      <td>1.0861</td>\n",
       "      <td>1.08200</td>\n",
       "      <td>1.081725</td>\n",
       "      <td>1.083162</td>\n",
       "      <td>Closed</td>\n",
       "      <td>0</td>\n",
       "    </tr>\n",
       "    <tr>\n",
       "      <th>56</th>\n",
       "      <td>10/15/24</td>\n",
       "      <td>1.0908</td>\n",
       "      <td>1.0946</td>\n",
       "      <td>1.0882</td>\n",
       "      <td>1.0892</td>\n",
       "      <td>1.08358</td>\n",
       "      <td>1.082313</td>\n",
       "      <td>1.083031</td>\n",
       "      <td>Closed</td>\n",
       "      <td>0</td>\n",
       "    </tr>\n",
       "    <tr>\n",
       "      <th>57</th>\n",
       "      <td>10/14/24</td>\n",
       "      <td>1.0952</td>\n",
       "      <td>1.0952</td>\n",
       "      <td>1.0890</td>\n",
       "      <td>1.0911</td>\n",
       "      <td>1.08542</td>\n",
       "      <td>1.083512</td>\n",
       "      <td>1.083469</td>\n",
       "      <td>Open</td>\n",
       "      <td>0</td>\n",
       "    </tr>\n",
       "    <tr>\n",
       "      <th>58</th>\n",
       "      <td>10/11/24</td>\n",
       "      <td>1.0934</td>\n",
       "      <td>1.0956</td>\n",
       "      <td>1.0923</td>\n",
       "      <td>1.0938</td>\n",
       "      <td>1.08730</td>\n",
       "      <td>1.084550</td>\n",
       "      <td>1.083677</td>\n",
       "      <td>Open</td>\n",
       "      <td>0</td>\n",
       "    </tr>\n",
       "    <tr>\n",
       "      <th>59</th>\n",
       "      <td>10/10/24</td>\n",
       "      <td>1.0939</td>\n",
       "      <td>1.0957</td>\n",
       "      <td>1.0900</td>\n",
       "      <td>1.0938</td>\n",
       "      <td>1.08868</td>\n",
       "      <td>1.086500</td>\n",
       "      <td>1.084300</td>\n",
       "      <td>Open</td>\n",
       "      <td>0</td>\n",
       "    </tr>\n",
       "  </tbody>\n",
       "</table>\n",
       "</div>"
      ],
      "text/plain": [
       "        Date    Open    High     Low   Close      MA5       MA8      MA13  \\\n",
       "37  11/11/24  1.0724  1.0730  1.0629  1.0655  1.05712  1.055900  1.053923   \n",
       "38  11/08/24  1.0805  1.0810  1.0688  1.0719  1.05826  1.058162  1.054700   \n",
       "39  11/07/24  1.0730  1.0828  1.0713  1.0803  1.06184  1.060325  1.055854   \n",
       "40  11/06/24  1.0931  1.0940  1.0683  1.0731  1.06728  1.062912  1.058254   \n",
       "41  11/05/24  1.0879  1.0938  1.0873  1.0932  1.07062  1.064575  1.060054   \n",
       "42  11/04/24  1.0881  1.0917  1.0870  1.0878  1.07680  1.069475  1.063938   \n",
       "43  11/01/24  1.0883  1.0908  1.0832  1.0835  1.08126  1.073813  1.067046   \n",
       "44  10/31/24  1.0857  1.0891  1.0843  1.0884  1.08358  1.077200  1.069269   \n",
       "45  10/30/24  1.0818  1.0874  1.0798  1.0857  1.08520  1.080462  1.071485   \n",
       "46  10/29/24  1.0813  1.0828  1.0770  1.0819  1.08772  1.082987  1.073477   \n",
       "47  10/28/24  1.0803  1.0829  1.0781  1.0814  1.08546  1.084237  1.075623   \n",
       "48  10/25/24  1.0830  1.0841  1.0794  1.0796  1.08418  1.084375  1.077800   \n",
       "49  10/24/24  1.0784  1.0833  1.0772  1.0828  1.08340  1.085187  1.079585   \n",
       "50  10/23/24  1.0798  1.0809  1.0761  1.0782  1.08228  1.083887  1.081162   \n",
       "51  10/22/24  1.0816  1.0849  1.0793  1.0800  1.08078  1.082688  1.082138   \n",
       "52  10/21/24  1.0877  1.0877  1.0811  1.0817  1.08040  1.082250  1.082762   \n",
       "53  10/18/24  1.0828  1.0872  1.0825  1.0869  1.08046  1.081412  1.082869   \n",
       "54  10/17/24  1.0862  1.0876  1.0813  1.0832  1.08192  1.081562  1.083931   \n",
       "55  10/16/24  1.0893  1.0926  1.0854  1.0861  1.08200  1.081725  1.083162   \n",
       "56  10/15/24  1.0908  1.0946  1.0882  1.0892  1.08358  1.082313  1.083031   \n",
       "57  10/14/24  1.0952  1.0952  1.0890  1.0911  1.08542  1.083512  1.083469   \n",
       "58  10/11/24  1.0934  1.0956  1.0923  1.0938  1.08730  1.084550  1.083677   \n",
       "59  10/10/24  1.0939  1.0957  1.0900  1.0938  1.08868  1.086500  1.084300   \n",
       "\n",
       "       Buy  Profit  \n",
       "37    Open       0  \n",
       "38    Open       0  \n",
       "39    Open       0  \n",
       "40    Open       0  \n",
       "41    Open       0  \n",
       "42    Open       0  \n",
       "43    Open       0  \n",
       "44    Open       0  \n",
       "45    Open       0  \n",
       "46    Open       0  \n",
       "47    Open       0  \n",
       "48    Open       0  \n",
       "49    Open       0  \n",
       "50  Closed       0  \n",
       "51  Closed       0  \n",
       "52  Closed       0  \n",
       "53  Closed       0  \n",
       "54  Closed       0  \n",
       "55  Closed       0  \n",
       "56  Closed       0  \n",
       "57    Open       0  \n",
       "58    Open       0  \n",
       "59    Open       0  "
      ]
     },
     "execution_count": 17,
     "metadata": {},
     "output_type": "execute_result"
    }
   ],
   "source": [
    "eur_usd_df[37:60]"
   ]
  },
  {
   "cell_type": "code",
   "execution_count": 18,
   "metadata": {},
   "outputs": [
    {
     "name": "stdout",
     "output_type": "stream",
     "text": [
      "1.0359\n",
      "1.0355\n",
      "1.0408\n",
      "1.0428\n",
      "1.0425\n",
      "1.0411\n",
      "1.04\n",
      "1.0407\n",
      "1.043\n",
      "1.0362\n",
      "1.0355\n",
      "1.0493\n",
      "1.0514\n",
      "1.0502\n",
      "1.0467\n",
      "1.0497\n",
      "1.053\n",
      "1.0555\n",
      "1.0569\n",
      "1.059\n",
      "1.0512\n",
      "1.051\n",
      "1.0498\n",
      "1.0579\n",
      "1.0554\n",
      "1.0569\n",
      "1.0491\n",
      "1.0497\n",
      "1.0427\n",
      "1.0474\n",
      "1.0546\n",
      "1.0596\n",
      "1.0598\n",
      "1.054\n",
      "1.0531\n",
      "1.0564\n",
      "1.0623\n",
      "1.0655\n",
      "1.0719\n",
      "1.0803\n",
      "1.0731\n",
      "1.0932\n",
      "1.0878\n",
      "1.0835\n",
      "1.0884\n",
      "1.0857\n",
      "1.0819\n",
      "1.0814\n",
      "1.0796\n",
      "1.0828\n",
      "1.0782\n",
      "1.08\n",
      "1.0817\n",
      "1.0869\n",
      "1.0832\n",
      "1.0861\n",
      "1.0892\n",
      "1.0911\n",
      "1.0938\n",
      "1.0938\n",
      "1.094\n",
      "1.0981\n",
      "1.0976\n",
      "1.0977\n",
      "1.1033\n",
      "1.1044\n",
      "1.1067\n",
      "1.1137\n",
      "1.1165\n",
      "1.1178\n",
      "1.1134\n",
      "1.118\n",
      "1.1113\n",
      "1.1164\n",
      "1.116\n",
      "1.1119\n",
      "1.1115\n",
      "1.1135\n",
      "1.1076\n",
      "1.1077\n",
      "1.1014\n",
      "1.1019\n",
      "1.1037\n",
      "1.1085\n",
      "1.1113\n",
      "1.1083\n",
      "1.1043\n",
      "1.1073\n",
      "1.105\n",
      "1.1079\n",
      "1.1119\n",
      "1.1185\n",
      "1.1162\n",
      "1.1194\n",
      "1.1113\n",
      "1.1151\n",
      "1.1131\n",
      "1.1086\n",
      "1.1029\n",
      "1.0971\n",
      "1.1014\n",
      "1.0995\n",
      "1.0933\n",
      "1.0917\n",
      "1.0918\n",
      "1.0922\n",
      "1.0932\n",
      "1.0953\n",
      "1.0913\n",
      "1.0793\n",
      "1.0825\n",
      "1.0817\n",
      "1.082\n",
      "1.0857\n",
      "1.0845\n",
      "1.0841\n",
      "1.0855\n",
      "1.0892\n",
      "1.0884\n",
      "1.0897\n",
      "1.0939\n",
      "1.0899\n",
      "1.0896\n",
      "1.0908\n",
      "1.0869\n",
      "1.083\n",
      "1.0813\n",
      "1.0825\n",
      "1.0839\n",
      "1.0813\n",
      "1.079\n",
      "1.0747\n",
      "1.074\n",
      "1.0716\n",
      "1.0704\n",
      "1.068\n",
      "1.0716\n",
      "1.0736\n",
      "1.0695\n",
      "1.0701\n",
      "1.0745\n",
      "1.0741\n",
      "1.0735\n",
      "1.0704\n",
      "1.0736\n",
      "1.0809\n",
      "1.074\n",
      "1.0767\n",
      "1.0817\n",
      "1.0889\n",
      "1.0871\n",
      "1.0881\n",
      "1.0904\n",
      "1.0848\n",
      "1.0834\n",
      "1.0802\n",
      "1.0857\n",
      "1.0858\n",
      "1.0844\n",
      "1.0816\n",
      "1.0824\n",
      "1.0855\n",
      "1.0857\n",
      "1.0871\n",
      "1.0869\n",
      "1.0884\n",
      "1.0819\n",
      "1.079\n",
      "1.0773\n",
      "1.0782\n",
      "1.075\n",
      "1.0756\n",
      "1.0769\n",
      "1.0763\n",
      "1.0727\n",
      "1.0715\n",
      "1.0667\n",
      "1.0721\n",
      "1.0693\n",
      "1.0731\n",
      "1.07\n",
      "1.0702\n",
      "1.0655\n",
      "1.0657\n",
      "1.0643\n",
      "1.0674\n",
      "1.0618\n",
      "1.0624\n",
      "1.0641\n",
      "1.0728\n",
      "1.0744\n",
      "1.0857\n",
      "1.0861\n",
      "1.0839\n",
      "1.0837\n",
      "1.0836\n",
      "1.077\n",
      "1.0743\n",
      "1.0797\n",
      "1.0788\n",
      "1.0828\n",
      "1.0831\n",
      "1.0838\n",
      "1.081\n",
      "1.0861\n",
      "1.0922\n",
      "1.0868\n",
      "1.0872\n",
      "1.089\n",
      "1.0882\n",
      "1.095\n",
      "1.093\n",
      "1.0926\n",
      "1.094\n",
      "1.095\n",
      "1.0898\n",
      "1.0858\n",
      "1.0856\n",
      "1.084\n",
      "1.0807\n",
      "1.0839\n",
      "1.0845\n",
      "1.0854\n",
      "1.0822\n",
      "1.0824\n",
      "1.0818\n",
      "1.0809\n",
      "1.078\n",
      "1.0778\n",
      "1.0773\n",
      "1.0729\n",
      "1.0709\n",
      "1.0773\n",
      "1.0783\n",
      "1.0778\n",
      "1.0774\n",
      "1.0755\n",
      "1.0743\n",
      "1.0788\n",
      "1.0872\n",
      "1.0819\n",
      "1.0845\n",
      "1.0834\n",
      "1.0855\n",
      "1.0849\n",
      "1.0886\n",
      "1.0855\n",
      "1.0884\n",
      "1.0897\n",
      "1.0877\n",
      "1.0883\n",
      "1.0878\n",
      "1.0953\n",
      "1.0951\n",
      "1.0972\n",
      "1.0975\n",
      "1.0933\n",
      "1.0952\n",
      "1.0939\n",
      "1.0946\n",
      "1.0922\n",
      "1.094\n",
      "1.1047\n"
     ]
    }
   ],
   "source": [
    "for index, row in eur_usd_df.iterrows():\n",
    "    print(row[' Close'])"
   ]
  },
  {
   "cell_type": "code",
   "execution_count": 19,
   "metadata": {},
   "outputs": [],
   "source": [
    "def profit(table):\n",
    "    open_price = 0\n",
    "    closed_price = 0\n",
    "\n",
    "    for index, row in table.iterrows():\n",
    "        if (index>12):\n",
    "            if ((table['Buy'][index] == 'Closed') & (table['Buy'][index - 1] == 'Closed')): # we're in a closed postion\n",
    "                table['Profit'][index] = 0\n",
    "            elif ((table['Buy'][index] == 'Closed') & (table['Buy'][index - 1] == 'Open')): # we just closed a postition\n",
    "                closed_price = table[' Close'][index]\n",
    "                table['Profit'][index] = closed_price - open_price\n",
    "            elif ((table['Buy'][index] == 'Open') & (table['Buy'][index - 1] == 'Open')): # we're in an open postion\n",
    "                table['Profit'][index] = 0\n",
    "            elif ((table['Buy'][index] == 'Open') & (table['Buy'][index - 1] == 'Closed')): # we just opend a postion\n",
    "                open_price = table[' Close'][index]\n",
    "    return table['Profit']"
   ]
  },
  {
   "cell_type": "code",
   "execution_count": 20,
   "metadata": {},
   "outputs": [
    {
     "name": "stderr",
     "output_type": "stream",
     "text": [
<<<<<<< HEAD
      "C:\\Users\\justi\\AppData\\Local\\Temp\\ipykernel_34332\\1159866060.py:13: SettingWithCopyWarning: \n",
=======
      "/var/folders/hc/nkkc_9yd3fd9x9025zg61t2w0000gn/T/ipykernel_44949/1159866060.py:13: SettingWithCopyWarning: \n",
>>>>>>> ea21e2bd453d4d522f6775f4a9b8fafcedd2750e
      "A value is trying to be set on a copy of a slice from a DataFrame\n",
      "\n",
      "See the caveats in the documentation: https://pandas.pydata.org/pandas-docs/stable/user_guide/indexing.html#returning-a-view-versus-a-copy\n",
      "  table['Profit'][index] = 0\n",
<<<<<<< HEAD
      "C:\\Users\\justi\\AppData\\Local\\Temp\\ipykernel_34332\\1159866060.py:13: SettingWithCopyWarning: \n",
=======
      "/var/folders/hc/nkkc_9yd3fd9x9025zg61t2w0000gn/T/ipykernel_44949/1159866060.py:13: SettingWithCopyWarning: \n",
>>>>>>> ea21e2bd453d4d522f6775f4a9b8fafcedd2750e
      "A value is trying to be set on a copy of a slice from a DataFrame\n",
      "\n",
      "See the caveats in the documentation: https://pandas.pydata.org/pandas-docs/stable/user_guide/indexing.html#returning-a-view-versus-a-copy\n",
      "  table['Profit'][index] = 0\n",
<<<<<<< HEAD
      "C:\\Users\\justi\\AppData\\Local\\Temp\\ipykernel_34332\\1159866060.py:13: SettingWithCopyWarning: \n",
=======
      "/var/folders/hc/nkkc_9yd3fd9x9025zg61t2w0000gn/T/ipykernel_44949/1159866060.py:13: SettingWithCopyWarning: \n",
>>>>>>> ea21e2bd453d4d522f6775f4a9b8fafcedd2750e
      "A value is trying to be set on a copy of a slice from a DataFrame\n",
      "\n",
      "See the caveats in the documentation: https://pandas.pydata.org/pandas-docs/stable/user_guide/indexing.html#returning-a-view-versus-a-copy\n",
      "  table['Profit'][index] = 0\n",
<<<<<<< HEAD
      "C:\\Users\\justi\\AppData\\Local\\Temp\\ipykernel_34332\\1159866060.py:13: SettingWithCopyWarning: \n",
=======
      "/var/folders/hc/nkkc_9yd3fd9x9025zg61t2w0000gn/T/ipykernel_44949/1159866060.py:13: SettingWithCopyWarning: \n",
>>>>>>> ea21e2bd453d4d522f6775f4a9b8fafcedd2750e
      "A value is trying to be set on a copy of a slice from a DataFrame\n",
      "\n",
      "See the caveats in the documentation: https://pandas.pydata.org/pandas-docs/stable/user_guide/indexing.html#returning-a-view-versus-a-copy\n",
      "  table['Profit'][index] = 0\n",
<<<<<<< HEAD
      "C:\\Users\\justi\\AppData\\Local\\Temp\\ipykernel_34332\\1159866060.py:13: SettingWithCopyWarning: \n",
=======
      "/var/folders/hc/nkkc_9yd3fd9x9025zg61t2w0000gn/T/ipykernel_44949/1159866060.py:13: SettingWithCopyWarning: \n",
>>>>>>> ea21e2bd453d4d522f6775f4a9b8fafcedd2750e
      "A value is trying to be set on a copy of a slice from a DataFrame\n",
      "\n",
      "See the caveats in the documentation: https://pandas.pydata.org/pandas-docs/stable/user_guide/indexing.html#returning-a-view-versus-a-copy\n",
      "  table['Profit'][index] = 0\n",
<<<<<<< HEAD
      "C:\\Users\\justi\\AppData\\Local\\Temp\\ipykernel_34332\\1159866060.py:13: SettingWithCopyWarning: \n",
=======
      "/var/folders/hc/nkkc_9yd3fd9x9025zg61t2w0000gn/T/ipykernel_44949/1159866060.py:13: SettingWithCopyWarning: \n",
>>>>>>> ea21e2bd453d4d522f6775f4a9b8fafcedd2750e
      "A value is trying to be set on a copy of a slice from a DataFrame\n",
      "\n",
      "See the caveats in the documentation: https://pandas.pydata.org/pandas-docs/stable/user_guide/indexing.html#returning-a-view-versus-a-copy\n",
      "  table['Profit'][index] = 0\n",
<<<<<<< HEAD
      "C:\\Users\\justi\\AppData\\Local\\Temp\\ipykernel_34332\\1159866060.py:13: SettingWithCopyWarning: \n",
=======
      "/var/folders/hc/nkkc_9yd3fd9x9025zg61t2w0000gn/T/ipykernel_44949/1159866060.py:13: SettingWithCopyWarning: \n",
>>>>>>> ea21e2bd453d4d522f6775f4a9b8fafcedd2750e
      "A value is trying to be set on a copy of a slice from a DataFrame\n",
      "\n",
      "See the caveats in the documentation: https://pandas.pydata.org/pandas-docs/stable/user_guide/indexing.html#returning-a-view-versus-a-copy\n",
      "  table['Profit'][index] = 0\n",
<<<<<<< HEAD
      "C:\\Users\\justi\\AppData\\Local\\Temp\\ipykernel_34332\\1159866060.py:13: SettingWithCopyWarning: \n",
=======
      "/var/folders/hc/nkkc_9yd3fd9x9025zg61t2w0000gn/T/ipykernel_44949/1159866060.py:13: SettingWithCopyWarning: \n",
>>>>>>> ea21e2bd453d4d522f6775f4a9b8fafcedd2750e
      "A value is trying to be set on a copy of a slice from a DataFrame\n",
      "\n",
      "See the caveats in the documentation: https://pandas.pydata.org/pandas-docs/stable/user_guide/indexing.html#returning-a-view-versus-a-copy\n",
      "  table['Profit'][index] = 0\n",
<<<<<<< HEAD
      "C:\\Users\\justi\\AppData\\Local\\Temp\\ipykernel_34332\\1159866060.py:13: SettingWithCopyWarning: \n",
=======
      "/var/folders/hc/nkkc_9yd3fd9x9025zg61t2w0000gn/T/ipykernel_44949/1159866060.py:13: SettingWithCopyWarning: \n",
>>>>>>> ea21e2bd453d4d522f6775f4a9b8fafcedd2750e
      "A value is trying to be set on a copy of a slice from a DataFrame\n",
      "\n",
      "See the caveats in the documentation: https://pandas.pydata.org/pandas-docs/stable/user_guide/indexing.html#returning-a-view-versus-a-copy\n",
      "  table['Profit'][index] = 0\n",
<<<<<<< HEAD
      "C:\\Users\\justi\\AppData\\Local\\Temp\\ipykernel_34332\\1159866060.py:13: SettingWithCopyWarning: \n",
=======
      "/var/folders/hc/nkkc_9yd3fd9x9025zg61t2w0000gn/T/ipykernel_44949/1159866060.py:13: SettingWithCopyWarning: \n",
>>>>>>> ea21e2bd453d4d522f6775f4a9b8fafcedd2750e
      "A value is trying to be set on a copy of a slice from a DataFrame\n",
      "\n",
      "See the caveats in the documentation: https://pandas.pydata.org/pandas-docs/stable/user_guide/indexing.html#returning-a-view-versus-a-copy\n",
      "  table['Profit'][index] = 0\n",
<<<<<<< HEAD
      "C:\\Users\\justi\\AppData\\Local\\Temp\\ipykernel_34332\\1159866060.py:13: SettingWithCopyWarning: \n",
=======
      "/var/folders/hc/nkkc_9yd3fd9x9025zg61t2w0000gn/T/ipykernel_44949/1159866060.py:13: SettingWithCopyWarning: \n",
>>>>>>> ea21e2bd453d4d522f6775f4a9b8fafcedd2750e
      "A value is trying to be set on a copy of a slice from a DataFrame\n",
      "\n",
      "See the caveats in the documentation: https://pandas.pydata.org/pandas-docs/stable/user_guide/indexing.html#returning-a-view-versus-a-copy\n",
      "  table['Profit'][index] = 0\n",
<<<<<<< HEAD
      "C:\\Users\\justi\\AppData\\Local\\Temp\\ipykernel_34332\\1159866060.py:13: SettingWithCopyWarning: \n",
=======
      "/var/folders/hc/nkkc_9yd3fd9x9025zg61t2w0000gn/T/ipykernel_44949/1159866060.py:13: SettingWithCopyWarning: \n",
>>>>>>> ea21e2bd453d4d522f6775f4a9b8fafcedd2750e
      "A value is trying to be set on a copy of a slice from a DataFrame\n",
      "\n",
      "See the caveats in the documentation: https://pandas.pydata.org/pandas-docs/stable/user_guide/indexing.html#returning-a-view-versus-a-copy\n",
      "  table['Profit'][index] = 0\n",
<<<<<<< HEAD
      "C:\\Users\\justi\\AppData\\Local\\Temp\\ipykernel_34332\\1159866060.py:11: SettingWithCopyWarning: \n",
=======
      "/var/folders/hc/nkkc_9yd3fd9x9025zg61t2w0000gn/T/ipykernel_44949/1159866060.py:11: SettingWithCopyWarning: \n",
>>>>>>> ea21e2bd453d4d522f6775f4a9b8fafcedd2750e
      "A value is trying to be set on a copy of a slice from a DataFrame\n",
      "\n",
      "See the caveats in the documentation: https://pandas.pydata.org/pandas-docs/stable/user_guide/indexing.html#returning-a-view-versus-a-copy\n",
      "  table['Profit'][index] = closed_price - open_price\n",
<<<<<<< HEAD
      "C:\\Users\\justi\\AppData\\Local\\Temp\\ipykernel_34332\\1159866060.py:11: FutureWarning: Setting an item of incompatible dtype is deprecated and will raise in a future error of pandas. Value '-0.001100000000000101' has dtype incompatible with int64, please explicitly cast to a compatible dtype first.\n",
      "  table['Profit'][index] = closed_price - open_price\n",
      "C:\\Users\\justi\\AppData\\Local\\Temp\\ipykernel_34332\\1159866060.py:8: SettingWithCopyWarning: \n",
=======
      "/var/folders/hc/nkkc_9yd3fd9x9025zg61t2w0000gn/T/ipykernel_44949/1159866060.py:11: FutureWarning: Setting an item of incompatible dtype is deprecated and will raise in a future error of pandas. Value '-0.001100000000000101' has dtype incompatible with int64, please explicitly cast to a compatible dtype first.\n",
      "  table['Profit'][index] = closed_price - open_price\n",
      "/var/folders/hc/nkkc_9yd3fd9x9025zg61t2w0000gn/T/ipykernel_44949/1159866060.py:8: SettingWithCopyWarning: \n",
>>>>>>> ea21e2bd453d4d522f6775f4a9b8fafcedd2750e
      "A value is trying to be set on a copy of a slice from a DataFrame\n",
      "\n",
      "See the caveats in the documentation: https://pandas.pydata.org/pandas-docs/stable/user_guide/indexing.html#returning-a-view-versus-a-copy\n",
      "  table['Profit'][index] = 0\n",
<<<<<<< HEAD
      "C:\\Users\\justi\\AppData\\Local\\Temp\\ipykernel_34332\\1159866060.py:8: SettingWithCopyWarning: \n",
=======
      "/var/folders/hc/nkkc_9yd3fd9x9025zg61t2w0000gn/T/ipykernel_44949/1159866060.py:8: SettingWithCopyWarning: \n",
>>>>>>> ea21e2bd453d4d522f6775f4a9b8fafcedd2750e
      "A value is trying to be set on a copy of a slice from a DataFrame\n",
      "\n",
      "See the caveats in the documentation: https://pandas.pydata.org/pandas-docs/stable/user_guide/indexing.html#returning-a-view-versus-a-copy\n",
      "  table['Profit'][index] = 0\n",
<<<<<<< HEAD
      "C:\\Users\\justi\\AppData\\Local\\Temp\\ipykernel_34332\\1159866060.py:8: SettingWithCopyWarning: \n",
=======
      "/var/folders/hc/nkkc_9yd3fd9x9025zg61t2w0000gn/T/ipykernel_44949/1159866060.py:8: SettingWithCopyWarning: \n",
>>>>>>> ea21e2bd453d4d522f6775f4a9b8fafcedd2750e
      "A value is trying to be set on a copy of a slice from a DataFrame\n",
      "\n",
      "See the caveats in the documentation: https://pandas.pydata.org/pandas-docs/stable/user_guide/indexing.html#returning-a-view-versus-a-copy\n",
      "  table['Profit'][index] = 0\n",
<<<<<<< HEAD
      "C:\\Users\\justi\\AppData\\Local\\Temp\\ipykernel_34332\\1159866060.py:8: SettingWithCopyWarning: \n",
=======
      "/var/folders/hc/nkkc_9yd3fd9x9025zg61t2w0000gn/T/ipykernel_44949/1159866060.py:8: SettingWithCopyWarning: \n",
>>>>>>> ea21e2bd453d4d522f6775f4a9b8fafcedd2750e
      "A value is trying to be set on a copy of a slice from a DataFrame\n",
      "\n",
      "See the caveats in the documentation: https://pandas.pydata.org/pandas-docs/stable/user_guide/indexing.html#returning-a-view-versus-a-copy\n",
      "  table['Profit'][index] = 0\n",
<<<<<<< HEAD
      "C:\\Users\\justi\\AppData\\Local\\Temp\\ipykernel_34332\\1159866060.py:8: SettingWithCopyWarning: \n",
=======
      "/var/folders/hc/nkkc_9yd3fd9x9025zg61t2w0000gn/T/ipykernel_44949/1159866060.py:8: SettingWithCopyWarning: \n",
>>>>>>> ea21e2bd453d4d522f6775f4a9b8fafcedd2750e
      "A value is trying to be set on a copy of a slice from a DataFrame\n",
      "\n",
      "See the caveats in the documentation: https://pandas.pydata.org/pandas-docs/stable/user_guide/indexing.html#returning-a-view-versus-a-copy\n",
      "  table['Profit'][index] = 0\n",
<<<<<<< HEAD
      "C:\\Users\\justi\\AppData\\Local\\Temp\\ipykernel_34332\\1159866060.py:8: SettingWithCopyWarning: \n",
=======
      "/var/folders/hc/nkkc_9yd3fd9x9025zg61t2w0000gn/T/ipykernel_44949/1159866060.py:8: SettingWithCopyWarning: \n",
>>>>>>> ea21e2bd453d4d522f6775f4a9b8fafcedd2750e
      "A value is trying to be set on a copy of a slice from a DataFrame\n",
      "\n",
      "See the caveats in the documentation: https://pandas.pydata.org/pandas-docs/stable/user_guide/indexing.html#returning-a-view-versus-a-copy\n",
      "  table['Profit'][index] = 0\n",
<<<<<<< HEAD
      "C:\\Users\\justi\\AppData\\Local\\Temp\\ipykernel_34332\\1159866060.py:8: SettingWithCopyWarning: \n",
=======
      "/var/folders/hc/nkkc_9yd3fd9x9025zg61t2w0000gn/T/ipykernel_44949/1159866060.py:8: SettingWithCopyWarning: \n",
>>>>>>> ea21e2bd453d4d522f6775f4a9b8fafcedd2750e
      "A value is trying to be set on a copy of a slice from a DataFrame\n",
      "\n",
      "See the caveats in the documentation: https://pandas.pydata.org/pandas-docs/stable/user_guide/indexing.html#returning-a-view-versus-a-copy\n",
      "  table['Profit'][index] = 0\n",
<<<<<<< HEAD
      "C:\\Users\\justi\\AppData\\Local\\Temp\\ipykernel_34332\\1159866060.py:8: SettingWithCopyWarning: \n",
=======
      "/var/folders/hc/nkkc_9yd3fd9x9025zg61t2w0000gn/T/ipykernel_44949/1159866060.py:8: SettingWithCopyWarning: \n",
>>>>>>> ea21e2bd453d4d522f6775f4a9b8fafcedd2750e
      "A value is trying to be set on a copy of a slice from a DataFrame\n",
      "\n",
      "See the caveats in the documentation: https://pandas.pydata.org/pandas-docs/stable/user_guide/indexing.html#returning-a-view-versus-a-copy\n",
      "  table['Profit'][index] = 0\n",
<<<<<<< HEAD
      "C:\\Users\\justi\\AppData\\Local\\Temp\\ipykernel_34332\\1159866060.py:8: SettingWithCopyWarning: \n",
=======
      "/var/folders/hc/nkkc_9yd3fd9x9025zg61t2w0000gn/T/ipykernel_44949/1159866060.py:8: SettingWithCopyWarning: \n",
>>>>>>> ea21e2bd453d4d522f6775f4a9b8fafcedd2750e
      "A value is trying to be set on a copy of a slice from a DataFrame\n",
      "\n",
      "See the caveats in the documentation: https://pandas.pydata.org/pandas-docs/stable/user_guide/indexing.html#returning-a-view-versus-a-copy\n",
      "  table['Profit'][index] = 0\n",
<<<<<<< HEAD
      "C:\\Users\\justi\\AppData\\Local\\Temp\\ipykernel_34332\\1159866060.py:8: SettingWithCopyWarning: \n",
=======
      "/var/folders/hc/nkkc_9yd3fd9x9025zg61t2w0000gn/T/ipykernel_44949/1159866060.py:8: SettingWithCopyWarning: \n",
>>>>>>> ea21e2bd453d4d522f6775f4a9b8fafcedd2750e
      "A value is trying to be set on a copy of a slice from a DataFrame\n",
      "\n",
      "See the caveats in the documentation: https://pandas.pydata.org/pandas-docs/stable/user_guide/indexing.html#returning-a-view-versus-a-copy\n",
      "  table['Profit'][index] = 0\n",
<<<<<<< HEAD
      "C:\\Users\\justi\\AppData\\Local\\Temp\\ipykernel_34332\\1159866060.py:8: SettingWithCopyWarning: \n",
=======
      "/var/folders/hc/nkkc_9yd3fd9x9025zg61t2w0000gn/T/ipykernel_44949/1159866060.py:8: SettingWithCopyWarning: \n",
>>>>>>> ea21e2bd453d4d522f6775f4a9b8fafcedd2750e
      "A value is trying to be set on a copy of a slice from a DataFrame\n",
      "\n",
      "See the caveats in the documentation: https://pandas.pydata.org/pandas-docs/stable/user_guide/indexing.html#returning-a-view-versus-a-copy\n",
      "  table['Profit'][index] = 0\n",
<<<<<<< HEAD
      "C:\\Users\\justi\\AppData\\Local\\Temp\\ipykernel_34332\\1159866060.py:8: SettingWithCopyWarning: \n",
=======
      "/var/folders/hc/nkkc_9yd3fd9x9025zg61t2w0000gn/T/ipykernel_44949/1159866060.py:8: SettingWithCopyWarning: \n",
>>>>>>> ea21e2bd453d4d522f6775f4a9b8fafcedd2750e
      "A value is trying to be set on a copy of a slice from a DataFrame\n",
      "\n",
      "See the caveats in the documentation: https://pandas.pydata.org/pandas-docs/stable/user_guide/indexing.html#returning-a-view-versus-a-copy\n",
      "  table['Profit'][index] = 0\n",
<<<<<<< HEAD
      "C:\\Users\\justi\\AppData\\Local\\Temp\\ipykernel_34332\\1159866060.py:8: SettingWithCopyWarning: \n",
=======
      "/var/folders/hc/nkkc_9yd3fd9x9025zg61t2w0000gn/T/ipykernel_44949/1159866060.py:8: SettingWithCopyWarning: \n",
>>>>>>> ea21e2bd453d4d522f6775f4a9b8fafcedd2750e
      "A value is trying to be set on a copy of a slice from a DataFrame\n",
      "\n",
      "See the caveats in the documentation: https://pandas.pydata.org/pandas-docs/stable/user_guide/indexing.html#returning-a-view-versus-a-copy\n",
      "  table['Profit'][index] = 0\n",
<<<<<<< HEAD
      "C:\\Users\\justi\\AppData\\Local\\Temp\\ipykernel_34332\\1159866060.py:8: SettingWithCopyWarning: \n",
=======
      "/var/folders/hc/nkkc_9yd3fd9x9025zg61t2w0000gn/T/ipykernel_44949/1159866060.py:8: SettingWithCopyWarning: \n",
>>>>>>> ea21e2bd453d4d522f6775f4a9b8fafcedd2750e
      "A value is trying to be set on a copy of a slice from a DataFrame\n",
      "\n",
      "See the caveats in the documentation: https://pandas.pydata.org/pandas-docs/stable/user_guide/indexing.html#returning-a-view-versus-a-copy\n",
      "  table['Profit'][index] = 0\n",
<<<<<<< HEAD
      "C:\\Users\\justi\\AppData\\Local\\Temp\\ipykernel_34332\\1159866060.py:8: SettingWithCopyWarning: \n",
=======
      "/var/folders/hc/nkkc_9yd3fd9x9025zg61t2w0000gn/T/ipykernel_44949/1159866060.py:8: SettingWithCopyWarning: \n",
>>>>>>> ea21e2bd453d4d522f6775f4a9b8fafcedd2750e
      "A value is trying to be set on a copy of a slice from a DataFrame\n",
      "\n",
      "See the caveats in the documentation: https://pandas.pydata.org/pandas-docs/stable/user_guide/indexing.html#returning-a-view-versus-a-copy\n",
      "  table['Profit'][index] = 0\n",
<<<<<<< HEAD
      "C:\\Users\\justi\\AppData\\Local\\Temp\\ipykernel_34332\\1159866060.py:8: SettingWithCopyWarning: \n",
=======
      "/var/folders/hc/nkkc_9yd3fd9x9025zg61t2w0000gn/T/ipykernel_44949/1159866060.py:8: SettingWithCopyWarning: \n",
>>>>>>> ea21e2bd453d4d522f6775f4a9b8fafcedd2750e
      "A value is trying to be set on a copy of a slice from a DataFrame\n",
      "\n",
      "See the caveats in the documentation: https://pandas.pydata.org/pandas-docs/stable/user_guide/indexing.html#returning-a-view-versus-a-copy\n",
      "  table['Profit'][index] = 0\n",
<<<<<<< HEAD
      "C:\\Users\\justi\\AppData\\Local\\Temp\\ipykernel_34332\\1159866060.py:8: SettingWithCopyWarning: \n",
=======
      "/var/folders/hc/nkkc_9yd3fd9x9025zg61t2w0000gn/T/ipykernel_44949/1159866060.py:8: SettingWithCopyWarning: \n",
>>>>>>> ea21e2bd453d4d522f6775f4a9b8fafcedd2750e
      "A value is trying to be set on a copy of a slice from a DataFrame\n",
      "\n",
      "See the caveats in the documentation: https://pandas.pydata.org/pandas-docs/stable/user_guide/indexing.html#returning-a-view-versus-a-copy\n",
      "  table['Profit'][index] = 0\n",
<<<<<<< HEAD
      "C:\\Users\\justi\\AppData\\Local\\Temp\\ipykernel_34332\\1159866060.py:8: SettingWithCopyWarning: \n",
=======
      "/var/folders/hc/nkkc_9yd3fd9x9025zg61t2w0000gn/T/ipykernel_44949/1159866060.py:8: SettingWithCopyWarning: \n",
>>>>>>> ea21e2bd453d4d522f6775f4a9b8fafcedd2750e
      "A value is trying to be set on a copy of a slice from a DataFrame\n",
      "\n",
      "See the caveats in the documentation: https://pandas.pydata.org/pandas-docs/stable/user_guide/indexing.html#returning-a-view-versus-a-copy\n",
      "  table['Profit'][index] = 0\n",
<<<<<<< HEAD
      "C:\\Users\\justi\\AppData\\Local\\Temp\\ipykernel_34332\\1159866060.py:8: SettingWithCopyWarning: \n",
=======
      "/var/folders/hc/nkkc_9yd3fd9x9025zg61t2w0000gn/T/ipykernel_44949/1159866060.py:8: SettingWithCopyWarning: \n",
>>>>>>> ea21e2bd453d4d522f6775f4a9b8fafcedd2750e
      "A value is trying to be set on a copy of a slice from a DataFrame\n",
      "\n",
      "See the caveats in the documentation: https://pandas.pydata.org/pandas-docs/stable/user_guide/indexing.html#returning-a-view-versus-a-copy\n",
      "  table['Profit'][index] = 0\n",
<<<<<<< HEAD
      "C:\\Users\\justi\\AppData\\Local\\Temp\\ipykernel_34332\\1159866060.py:8: SettingWithCopyWarning: \n",
=======
      "/var/folders/hc/nkkc_9yd3fd9x9025zg61t2w0000gn/T/ipykernel_44949/1159866060.py:8: SettingWithCopyWarning: \n",
>>>>>>> ea21e2bd453d4d522f6775f4a9b8fafcedd2750e
      "A value is trying to be set on a copy of a slice from a DataFrame\n",
      "\n",
      "See the caveats in the documentation: https://pandas.pydata.org/pandas-docs/stable/user_guide/indexing.html#returning-a-view-versus-a-copy\n",
      "  table['Profit'][index] = 0\n",
<<<<<<< HEAD
      "C:\\Users\\justi\\AppData\\Local\\Temp\\ipykernel_34332\\1159866060.py:8: SettingWithCopyWarning: \n",
=======
      "/var/folders/hc/nkkc_9yd3fd9x9025zg61t2w0000gn/T/ipykernel_44949/1159866060.py:8: SettingWithCopyWarning: \n",
>>>>>>> ea21e2bd453d4d522f6775f4a9b8fafcedd2750e
      "A value is trying to be set on a copy of a slice from a DataFrame\n",
      "\n",
      "See the caveats in the documentation: https://pandas.pydata.org/pandas-docs/stable/user_guide/indexing.html#returning-a-view-versus-a-copy\n",
      "  table['Profit'][index] = 0\n",
<<<<<<< HEAD
      "C:\\Users\\justi\\AppData\\Local\\Temp\\ipykernel_34332\\1159866060.py:8: SettingWithCopyWarning: \n",
=======
      "/var/folders/hc/nkkc_9yd3fd9x9025zg61t2w0000gn/T/ipykernel_44949/1159866060.py:8: SettingWithCopyWarning: \n",
>>>>>>> ea21e2bd453d4d522f6775f4a9b8fafcedd2750e
      "A value is trying to be set on a copy of a slice from a DataFrame\n",
      "\n",
      "See the caveats in the documentation: https://pandas.pydata.org/pandas-docs/stable/user_guide/indexing.html#returning-a-view-versus-a-copy\n",
      "  table['Profit'][index] = 0\n",
<<<<<<< HEAD
      "C:\\Users\\justi\\AppData\\Local\\Temp\\ipykernel_34332\\1159866060.py:8: SettingWithCopyWarning: \n",
=======
      "/var/folders/hc/nkkc_9yd3fd9x9025zg61t2w0000gn/T/ipykernel_44949/1159866060.py:8: SettingWithCopyWarning: \n",
>>>>>>> ea21e2bd453d4d522f6775f4a9b8fafcedd2750e
      "A value is trying to be set on a copy of a slice from a DataFrame\n",
      "\n",
      "See the caveats in the documentation: https://pandas.pydata.org/pandas-docs/stable/user_guide/indexing.html#returning-a-view-versus-a-copy\n",
      "  table['Profit'][index] = 0\n",
<<<<<<< HEAD
      "C:\\Users\\justi\\AppData\\Local\\Temp\\ipykernel_34332\\1159866060.py:8: SettingWithCopyWarning: \n",
=======
      "/var/folders/hc/nkkc_9yd3fd9x9025zg61t2w0000gn/T/ipykernel_44949/1159866060.py:8: SettingWithCopyWarning: \n",
>>>>>>> ea21e2bd453d4d522f6775f4a9b8fafcedd2750e
      "A value is trying to be set on a copy of a slice from a DataFrame\n",
      "\n",
      "See the caveats in the documentation: https://pandas.pydata.org/pandas-docs/stable/user_guide/indexing.html#returning-a-view-versus-a-copy\n",
      "  table['Profit'][index] = 0\n",
<<<<<<< HEAD
      "C:\\Users\\justi\\AppData\\Local\\Temp\\ipykernel_34332\\1159866060.py:8: SettingWithCopyWarning: \n",
=======
      "/var/folders/hc/nkkc_9yd3fd9x9025zg61t2w0000gn/T/ipykernel_44949/1159866060.py:8: SettingWithCopyWarning: \n",
>>>>>>> ea21e2bd453d4d522f6775f4a9b8fafcedd2750e
      "A value is trying to be set on a copy of a slice from a DataFrame\n",
      "\n",
      "See the caveats in the documentation: https://pandas.pydata.org/pandas-docs/stable/user_guide/indexing.html#returning-a-view-versus-a-copy\n",
      "  table['Profit'][index] = 0\n",
<<<<<<< HEAD
      "C:\\Users\\justi\\AppData\\Local\\Temp\\ipykernel_34332\\1159866060.py:8: SettingWithCopyWarning: \n",
=======
      "/var/folders/hc/nkkc_9yd3fd9x9025zg61t2w0000gn/T/ipykernel_44949/1159866060.py:8: SettingWithCopyWarning: \n",
>>>>>>> ea21e2bd453d4d522f6775f4a9b8fafcedd2750e
      "A value is trying to be set on a copy of a slice from a DataFrame\n",
      "\n",
      "See the caveats in the documentation: https://pandas.pydata.org/pandas-docs/stable/user_guide/indexing.html#returning-a-view-versus-a-copy\n",
      "  table['Profit'][index] = 0\n",
<<<<<<< HEAD
      "C:\\Users\\justi\\AppData\\Local\\Temp\\ipykernel_34332\\1159866060.py:8: SettingWithCopyWarning: \n",
=======
      "/var/folders/hc/nkkc_9yd3fd9x9025zg61t2w0000gn/T/ipykernel_44949/1159866060.py:8: SettingWithCopyWarning: \n",
>>>>>>> ea21e2bd453d4d522f6775f4a9b8fafcedd2750e
      "A value is trying to be set on a copy of a slice from a DataFrame\n",
      "\n",
      "See the caveats in the documentation: https://pandas.pydata.org/pandas-docs/stable/user_guide/indexing.html#returning-a-view-versus-a-copy\n",
      "  table['Profit'][index] = 0\n",
<<<<<<< HEAD
      "C:\\Users\\justi\\AppData\\Local\\Temp\\ipykernel_34332\\1159866060.py:8: SettingWithCopyWarning: \n",
=======
      "/var/folders/hc/nkkc_9yd3fd9x9025zg61t2w0000gn/T/ipykernel_44949/1159866060.py:8: SettingWithCopyWarning: \n",
>>>>>>> ea21e2bd453d4d522f6775f4a9b8fafcedd2750e
      "A value is trying to be set on a copy of a slice from a DataFrame\n",
      "\n",
      "See the caveats in the documentation: https://pandas.pydata.org/pandas-docs/stable/user_guide/indexing.html#returning-a-view-versus-a-copy\n",
      "  table['Profit'][index] = 0\n",
<<<<<<< HEAD
      "C:\\Users\\justi\\AppData\\Local\\Temp\\ipykernel_34332\\1159866060.py:8: SettingWithCopyWarning: \n",
=======
      "/var/folders/hc/nkkc_9yd3fd9x9025zg61t2w0000gn/T/ipykernel_44949/1159866060.py:8: SettingWithCopyWarning: \n",
>>>>>>> ea21e2bd453d4d522f6775f4a9b8fafcedd2750e
      "A value is trying to be set on a copy of a slice from a DataFrame\n",
      "\n",
      "See the caveats in the documentation: https://pandas.pydata.org/pandas-docs/stable/user_guide/indexing.html#returning-a-view-versus-a-copy\n",
      "  table['Profit'][index] = 0\n",
<<<<<<< HEAD
      "C:\\Users\\justi\\AppData\\Local\\Temp\\ipykernel_34332\\1159866060.py:8: SettingWithCopyWarning: \n",
=======
      "/var/folders/hc/nkkc_9yd3fd9x9025zg61t2w0000gn/T/ipykernel_44949/1159866060.py:8: SettingWithCopyWarning: \n",
>>>>>>> ea21e2bd453d4d522f6775f4a9b8fafcedd2750e
      "A value is trying to be set on a copy of a slice from a DataFrame\n",
      "\n",
      "See the caveats in the documentation: https://pandas.pydata.org/pandas-docs/stable/user_guide/indexing.html#returning-a-view-versus-a-copy\n",
      "  table['Profit'][index] = 0\n",
<<<<<<< HEAD
      "C:\\Users\\justi\\AppData\\Local\\Temp\\ipykernel_34332\\1159866060.py:8: SettingWithCopyWarning: \n",
=======
      "/var/folders/hc/nkkc_9yd3fd9x9025zg61t2w0000gn/T/ipykernel_44949/1159866060.py:8: SettingWithCopyWarning: \n",
>>>>>>> ea21e2bd453d4d522f6775f4a9b8fafcedd2750e
      "A value is trying to be set on a copy of a slice from a DataFrame\n",
      "\n",
      "See the caveats in the documentation: https://pandas.pydata.org/pandas-docs/stable/user_guide/indexing.html#returning-a-view-versus-a-copy\n",
      "  table['Profit'][index] = 0\n",
<<<<<<< HEAD
      "C:\\Users\\justi\\AppData\\Local\\Temp\\ipykernel_34332\\1159866060.py:8: SettingWithCopyWarning: \n",
=======
      "/var/folders/hc/nkkc_9yd3fd9x9025zg61t2w0000gn/T/ipykernel_44949/1159866060.py:8: SettingWithCopyWarning: \n",
>>>>>>> ea21e2bd453d4d522f6775f4a9b8fafcedd2750e
      "A value is trying to be set on a copy of a slice from a DataFrame\n",
      "\n",
      "See the caveats in the documentation: https://pandas.pydata.org/pandas-docs/stable/user_guide/indexing.html#returning-a-view-versus-a-copy\n",
      "  table['Profit'][index] = 0\n",
<<<<<<< HEAD
      "C:\\Users\\justi\\AppData\\Local\\Temp\\ipykernel_34332\\1159866060.py:8: SettingWithCopyWarning: \n",
=======
      "/var/folders/hc/nkkc_9yd3fd9x9025zg61t2w0000gn/T/ipykernel_44949/1159866060.py:8: SettingWithCopyWarning: \n",
>>>>>>> ea21e2bd453d4d522f6775f4a9b8fafcedd2750e
      "A value is trying to be set on a copy of a slice from a DataFrame\n",
      "\n",
      "See the caveats in the documentation: https://pandas.pydata.org/pandas-docs/stable/user_guide/indexing.html#returning-a-view-versus-a-copy\n",
      "  table['Profit'][index] = 0\n",
<<<<<<< HEAD
      "C:\\Users\\justi\\AppData\\Local\\Temp\\ipykernel_34332\\1159866060.py:8: SettingWithCopyWarning: \n",
=======
      "/var/folders/hc/nkkc_9yd3fd9x9025zg61t2w0000gn/T/ipykernel_44949/1159866060.py:8: SettingWithCopyWarning: \n",
>>>>>>> ea21e2bd453d4d522f6775f4a9b8fafcedd2750e
      "A value is trying to be set on a copy of a slice from a DataFrame\n",
      "\n",
      "See the caveats in the documentation: https://pandas.pydata.org/pandas-docs/stable/user_guide/indexing.html#returning-a-view-versus-a-copy\n",
      "  table['Profit'][index] = 0\n",
<<<<<<< HEAD
      "C:\\Users\\justi\\AppData\\Local\\Temp\\ipykernel_34332\\1159866060.py:8: SettingWithCopyWarning: \n",
=======
      "/var/folders/hc/nkkc_9yd3fd9x9025zg61t2w0000gn/T/ipykernel_44949/1159866060.py:8: SettingWithCopyWarning: \n",
>>>>>>> ea21e2bd453d4d522f6775f4a9b8fafcedd2750e
      "A value is trying to be set on a copy of a slice from a DataFrame\n",
      "\n",
      "See the caveats in the documentation: https://pandas.pydata.org/pandas-docs/stable/user_guide/indexing.html#returning-a-view-versus-a-copy\n",
      "  table['Profit'][index] = 0\n",
<<<<<<< HEAD
      "C:\\Users\\justi\\AppData\\Local\\Temp\\ipykernel_34332\\1159866060.py:8: SettingWithCopyWarning: \n",
=======
      "/var/folders/hc/nkkc_9yd3fd9x9025zg61t2w0000gn/T/ipykernel_44949/1159866060.py:8: SettingWithCopyWarning: \n",
>>>>>>> ea21e2bd453d4d522f6775f4a9b8fafcedd2750e
      "A value is trying to be set on a copy of a slice from a DataFrame\n",
      "\n",
      "See the caveats in the documentation: https://pandas.pydata.org/pandas-docs/stable/user_guide/indexing.html#returning-a-view-versus-a-copy\n",
      "  table['Profit'][index] = 0\n",
<<<<<<< HEAD
      "C:\\Users\\justi\\AppData\\Local\\Temp\\ipykernel_34332\\1159866060.py:8: SettingWithCopyWarning: \n",
=======
      "/var/folders/hc/nkkc_9yd3fd9x9025zg61t2w0000gn/T/ipykernel_44949/1159866060.py:8: SettingWithCopyWarning: \n",
>>>>>>> ea21e2bd453d4d522f6775f4a9b8fafcedd2750e
      "A value is trying to be set on a copy of a slice from a DataFrame\n",
      "\n",
      "See the caveats in the documentation: https://pandas.pydata.org/pandas-docs/stable/user_guide/indexing.html#returning-a-view-versus-a-copy\n",
      "  table['Profit'][index] = 0\n",
<<<<<<< HEAD
      "C:\\Users\\justi\\AppData\\Local\\Temp\\ipykernel_34332\\1159866060.py:8: SettingWithCopyWarning: \n",
=======
      "/var/folders/hc/nkkc_9yd3fd9x9025zg61t2w0000gn/T/ipykernel_44949/1159866060.py:8: SettingWithCopyWarning: \n",
>>>>>>> ea21e2bd453d4d522f6775f4a9b8fafcedd2750e
      "A value is trying to be set on a copy of a slice from a DataFrame\n",
      "\n",
      "See the caveats in the documentation: https://pandas.pydata.org/pandas-docs/stable/user_guide/indexing.html#returning-a-view-versus-a-copy\n",
      "  table['Profit'][index] = 0\n",
<<<<<<< HEAD
      "C:\\Users\\justi\\AppData\\Local\\Temp\\ipykernel_34332\\1159866060.py:8: SettingWithCopyWarning: \n",
=======
      "/var/folders/hc/nkkc_9yd3fd9x9025zg61t2w0000gn/T/ipykernel_44949/1159866060.py:8: SettingWithCopyWarning: \n",
>>>>>>> ea21e2bd453d4d522f6775f4a9b8fafcedd2750e
      "A value is trying to be set on a copy of a slice from a DataFrame\n",
      "\n",
      "See the caveats in the documentation: https://pandas.pydata.org/pandas-docs/stable/user_guide/indexing.html#returning-a-view-versus-a-copy\n",
      "  table['Profit'][index] = 0\n",
<<<<<<< HEAD
      "C:\\Users\\justi\\AppData\\Local\\Temp\\ipykernel_34332\\1159866060.py:8: SettingWithCopyWarning: \n",
=======
      "/var/folders/hc/nkkc_9yd3fd9x9025zg61t2w0000gn/T/ipykernel_44949/1159866060.py:8: SettingWithCopyWarning: \n",
>>>>>>> ea21e2bd453d4d522f6775f4a9b8fafcedd2750e
      "A value is trying to be set on a copy of a slice from a DataFrame\n",
      "\n",
      "See the caveats in the documentation: https://pandas.pydata.org/pandas-docs/stable/user_guide/indexing.html#returning-a-view-versus-a-copy\n",
      "  table['Profit'][index] = 0\n",
<<<<<<< HEAD
      "C:\\Users\\justi\\AppData\\Local\\Temp\\ipykernel_34332\\1159866060.py:8: SettingWithCopyWarning: \n",
=======
      "/var/folders/hc/nkkc_9yd3fd9x9025zg61t2w0000gn/T/ipykernel_44949/1159866060.py:8: SettingWithCopyWarning: \n",
>>>>>>> ea21e2bd453d4d522f6775f4a9b8fafcedd2750e
      "A value is trying to be set on a copy of a slice from a DataFrame\n",
      "\n",
      "See the caveats in the documentation: https://pandas.pydata.org/pandas-docs/stable/user_guide/indexing.html#returning-a-view-versus-a-copy\n",
      "  table['Profit'][index] = 0\n",
<<<<<<< HEAD
      "C:\\Users\\justi\\AppData\\Local\\Temp\\ipykernel_34332\\1159866060.py:8: SettingWithCopyWarning: \n",
=======
      "/var/folders/hc/nkkc_9yd3fd9x9025zg61t2w0000gn/T/ipykernel_44949/1159866060.py:8: SettingWithCopyWarning: \n",
>>>>>>> ea21e2bd453d4d522f6775f4a9b8fafcedd2750e
      "A value is trying to be set on a copy of a slice from a DataFrame\n",
      "\n",
      "See the caveats in the documentation: https://pandas.pydata.org/pandas-docs/stable/user_guide/indexing.html#returning-a-view-versus-a-copy\n",
      "  table['Profit'][index] = 0\n",
<<<<<<< HEAD
      "C:\\Users\\justi\\AppData\\Local\\Temp\\ipykernel_34332\\1159866060.py:8: SettingWithCopyWarning: \n",
=======
      "/var/folders/hc/nkkc_9yd3fd9x9025zg61t2w0000gn/T/ipykernel_44949/1159866060.py:8: SettingWithCopyWarning: \n",
>>>>>>> ea21e2bd453d4d522f6775f4a9b8fafcedd2750e
      "A value is trying to be set on a copy of a slice from a DataFrame\n",
      "\n",
      "See the caveats in the documentation: https://pandas.pydata.org/pandas-docs/stable/user_guide/indexing.html#returning-a-view-versus-a-copy\n",
      "  table['Profit'][index] = 0\n",
<<<<<<< HEAD
      "C:\\Users\\justi\\AppData\\Local\\Temp\\ipykernel_34332\\1159866060.py:8: SettingWithCopyWarning: \n",
=======
      "/var/folders/hc/nkkc_9yd3fd9x9025zg61t2w0000gn/T/ipykernel_44949/1159866060.py:8: SettingWithCopyWarning: \n",
>>>>>>> ea21e2bd453d4d522f6775f4a9b8fafcedd2750e
      "A value is trying to be set on a copy of a slice from a DataFrame\n",
      "\n",
      "See the caveats in the documentation: https://pandas.pydata.org/pandas-docs/stable/user_guide/indexing.html#returning-a-view-versus-a-copy\n",
      "  table['Profit'][index] = 0\n",
<<<<<<< HEAD
      "C:\\Users\\justi\\AppData\\Local\\Temp\\ipykernel_34332\\1159866060.py:8: SettingWithCopyWarning: \n",
=======
      "/var/folders/hc/nkkc_9yd3fd9x9025zg61t2w0000gn/T/ipykernel_44949/1159866060.py:8: SettingWithCopyWarning: \n",
>>>>>>> ea21e2bd453d4d522f6775f4a9b8fafcedd2750e
      "A value is trying to be set on a copy of a slice from a DataFrame\n",
      "\n",
      "See the caveats in the documentation: https://pandas.pydata.org/pandas-docs/stable/user_guide/indexing.html#returning-a-view-versus-a-copy\n",
      "  table['Profit'][index] = 0\n",
<<<<<<< HEAD
      "C:\\Users\\justi\\AppData\\Local\\Temp\\ipykernel_34332\\1159866060.py:8: SettingWithCopyWarning: \n",
=======
      "/var/folders/hc/nkkc_9yd3fd9x9025zg61t2w0000gn/T/ipykernel_44949/1159866060.py:8: SettingWithCopyWarning: \n",
>>>>>>> ea21e2bd453d4d522f6775f4a9b8fafcedd2750e
      "A value is trying to be set on a copy of a slice from a DataFrame\n",
      "\n",
      "See the caveats in the documentation: https://pandas.pydata.org/pandas-docs/stable/user_guide/indexing.html#returning-a-view-versus-a-copy\n",
      "  table['Profit'][index] = 0\n",
<<<<<<< HEAD
      "C:\\Users\\justi\\AppData\\Local\\Temp\\ipykernel_34332\\1159866060.py:8: SettingWithCopyWarning: \n",
=======
      "/var/folders/hc/nkkc_9yd3fd9x9025zg61t2w0000gn/T/ipykernel_44949/1159866060.py:8: SettingWithCopyWarning: \n",
>>>>>>> ea21e2bd453d4d522f6775f4a9b8fafcedd2750e
      "A value is trying to be set on a copy of a slice from a DataFrame\n",
      "\n",
      "See the caveats in the documentation: https://pandas.pydata.org/pandas-docs/stable/user_guide/indexing.html#returning-a-view-versus-a-copy\n",
      "  table['Profit'][index] = 0\n",
<<<<<<< HEAD
      "C:\\Users\\justi\\AppData\\Local\\Temp\\ipykernel_34332\\1159866060.py:8: SettingWithCopyWarning: \n",
=======
      "/var/folders/hc/nkkc_9yd3fd9x9025zg61t2w0000gn/T/ipykernel_44949/1159866060.py:8: SettingWithCopyWarning: \n",
>>>>>>> ea21e2bd453d4d522f6775f4a9b8fafcedd2750e
      "A value is trying to be set on a copy of a slice from a DataFrame\n",
      "\n",
      "See the caveats in the documentation: https://pandas.pydata.org/pandas-docs/stable/user_guide/indexing.html#returning-a-view-versus-a-copy\n",
      "  table['Profit'][index] = 0\n",
<<<<<<< HEAD
      "C:\\Users\\justi\\AppData\\Local\\Temp\\ipykernel_34332\\1159866060.py:8: SettingWithCopyWarning: \n",
=======
      "/var/folders/hc/nkkc_9yd3fd9x9025zg61t2w0000gn/T/ipykernel_44949/1159866060.py:8: SettingWithCopyWarning: \n",
>>>>>>> ea21e2bd453d4d522f6775f4a9b8fafcedd2750e
      "A value is trying to be set on a copy of a slice from a DataFrame\n",
      "\n",
      "See the caveats in the documentation: https://pandas.pydata.org/pandas-docs/stable/user_guide/indexing.html#returning-a-view-versus-a-copy\n",
      "  table['Profit'][index] = 0\n",
<<<<<<< HEAD
      "C:\\Users\\justi\\AppData\\Local\\Temp\\ipykernel_34332\\1159866060.py:8: SettingWithCopyWarning: \n",
=======
      "/var/folders/hc/nkkc_9yd3fd9x9025zg61t2w0000gn/T/ipykernel_44949/1159866060.py:8: SettingWithCopyWarning: \n",
>>>>>>> ea21e2bd453d4d522f6775f4a9b8fafcedd2750e
      "A value is trying to be set on a copy of a slice from a DataFrame\n",
      "\n",
      "See the caveats in the documentation: https://pandas.pydata.org/pandas-docs/stable/user_guide/indexing.html#returning-a-view-versus-a-copy\n",
      "  table['Profit'][index] = 0\n",
<<<<<<< HEAD
      "C:\\Users\\justi\\AppData\\Local\\Temp\\ipykernel_34332\\1159866060.py:8: SettingWithCopyWarning: \n",
=======
      "/var/folders/hc/nkkc_9yd3fd9x9025zg61t2w0000gn/T/ipykernel_44949/1159866060.py:8: SettingWithCopyWarning: \n",
>>>>>>> ea21e2bd453d4d522f6775f4a9b8fafcedd2750e
      "A value is trying to be set on a copy of a slice from a DataFrame\n",
      "\n",
      "See the caveats in the documentation: https://pandas.pydata.org/pandas-docs/stable/user_guide/indexing.html#returning-a-view-versus-a-copy\n",
      "  table['Profit'][index] = 0\n",
<<<<<<< HEAD
      "C:\\Users\\justi\\AppData\\Local\\Temp\\ipykernel_34332\\1159866060.py:8: SettingWithCopyWarning: \n",
=======
      "/var/folders/hc/nkkc_9yd3fd9x9025zg61t2w0000gn/T/ipykernel_44949/1159866060.py:8: SettingWithCopyWarning: \n",
>>>>>>> ea21e2bd453d4d522f6775f4a9b8fafcedd2750e
      "A value is trying to be set on a copy of a slice from a DataFrame\n",
      "\n",
      "See the caveats in the documentation: https://pandas.pydata.org/pandas-docs/stable/user_guide/indexing.html#returning-a-view-versus-a-copy\n",
      "  table['Profit'][index] = 0\n",
<<<<<<< HEAD
      "C:\\Users\\justi\\AppData\\Local\\Temp\\ipykernel_34332\\1159866060.py:8: SettingWithCopyWarning: \n",
=======
      "/var/folders/hc/nkkc_9yd3fd9x9025zg61t2w0000gn/T/ipykernel_44949/1159866060.py:8: SettingWithCopyWarning: \n",
>>>>>>> ea21e2bd453d4d522f6775f4a9b8fafcedd2750e
      "A value is trying to be set on a copy of a slice from a DataFrame\n",
      "\n",
      "See the caveats in the documentation: https://pandas.pydata.org/pandas-docs/stable/user_guide/indexing.html#returning-a-view-versus-a-copy\n",
      "  table['Profit'][index] = 0\n",
<<<<<<< HEAD
      "C:\\Users\\justi\\AppData\\Local\\Temp\\ipykernel_34332\\1159866060.py:8: SettingWithCopyWarning: \n",
=======
      "/var/folders/hc/nkkc_9yd3fd9x9025zg61t2w0000gn/T/ipykernel_44949/1159866060.py:8: SettingWithCopyWarning: \n",
>>>>>>> ea21e2bd453d4d522f6775f4a9b8fafcedd2750e
      "A value is trying to be set on a copy of a slice from a DataFrame\n",
      "\n",
      "See the caveats in the documentation: https://pandas.pydata.org/pandas-docs/stable/user_guide/indexing.html#returning-a-view-versus-a-copy\n",
      "  table['Profit'][index] = 0\n",
<<<<<<< HEAD
      "C:\\Users\\justi\\AppData\\Local\\Temp\\ipykernel_34332\\1159866060.py:8: SettingWithCopyWarning: \n",
=======
      "/var/folders/hc/nkkc_9yd3fd9x9025zg61t2w0000gn/T/ipykernel_44949/1159866060.py:8: SettingWithCopyWarning: \n",
>>>>>>> ea21e2bd453d4d522f6775f4a9b8fafcedd2750e
      "A value is trying to be set on a copy of a slice from a DataFrame\n",
      "\n",
      "See the caveats in the documentation: https://pandas.pydata.org/pandas-docs/stable/user_guide/indexing.html#returning-a-view-versus-a-copy\n",
      "  table['Profit'][index] = 0\n",
<<<<<<< HEAD
      "C:\\Users\\justi\\AppData\\Local\\Temp\\ipykernel_34332\\1159866060.py:8: SettingWithCopyWarning: \n",
=======
      "/var/folders/hc/nkkc_9yd3fd9x9025zg61t2w0000gn/T/ipykernel_44949/1159866060.py:8: SettingWithCopyWarning: \n",
>>>>>>> ea21e2bd453d4d522f6775f4a9b8fafcedd2750e
      "A value is trying to be set on a copy of a slice from a DataFrame\n",
      "\n",
      "See the caveats in the documentation: https://pandas.pydata.org/pandas-docs/stable/user_guide/indexing.html#returning-a-view-versus-a-copy\n",
      "  table['Profit'][index] = 0\n",
<<<<<<< HEAD
      "C:\\Users\\justi\\AppData\\Local\\Temp\\ipykernel_34332\\1159866060.py:8: SettingWithCopyWarning: \n",
=======
      "/var/folders/hc/nkkc_9yd3fd9x9025zg61t2w0000gn/T/ipykernel_44949/1159866060.py:8: SettingWithCopyWarning: \n",
>>>>>>> ea21e2bd453d4d522f6775f4a9b8fafcedd2750e
      "A value is trying to be set on a copy of a slice from a DataFrame\n",
      "\n",
      "See the caveats in the documentation: https://pandas.pydata.org/pandas-docs/stable/user_guide/indexing.html#returning-a-view-versus-a-copy\n",
      "  table['Profit'][index] = 0\n",
<<<<<<< HEAD
      "C:\\Users\\justi\\AppData\\Local\\Temp\\ipykernel_34332\\1159866060.py:8: SettingWithCopyWarning: \n",
=======
      "/var/folders/hc/nkkc_9yd3fd9x9025zg61t2w0000gn/T/ipykernel_44949/1159866060.py:8: SettingWithCopyWarning: \n",
>>>>>>> ea21e2bd453d4d522f6775f4a9b8fafcedd2750e
      "A value is trying to be set on a copy of a slice from a DataFrame\n",
      "\n",
      "See the caveats in the documentation: https://pandas.pydata.org/pandas-docs/stable/user_guide/indexing.html#returning-a-view-versus-a-copy\n",
      "  table['Profit'][index] = 0\n",
<<<<<<< HEAD
      "C:\\Users\\justi\\AppData\\Local\\Temp\\ipykernel_34332\\1159866060.py:8: SettingWithCopyWarning: \n",
=======
      "/var/folders/hc/nkkc_9yd3fd9x9025zg61t2w0000gn/T/ipykernel_44949/1159866060.py:8: SettingWithCopyWarning: \n",
>>>>>>> ea21e2bd453d4d522f6775f4a9b8fafcedd2750e
      "A value is trying to be set on a copy of a slice from a DataFrame\n",
      "\n",
      "See the caveats in the documentation: https://pandas.pydata.org/pandas-docs/stable/user_guide/indexing.html#returning-a-view-versus-a-copy\n",
      "  table['Profit'][index] = 0\n",
<<<<<<< HEAD
      "C:\\Users\\justi\\AppData\\Local\\Temp\\ipykernel_34332\\1159866060.py:8: SettingWithCopyWarning: \n",
=======
      "/var/folders/hc/nkkc_9yd3fd9x9025zg61t2w0000gn/T/ipykernel_44949/1159866060.py:8: SettingWithCopyWarning: \n",
>>>>>>> ea21e2bd453d4d522f6775f4a9b8fafcedd2750e
      "A value is trying to be set on a copy of a slice from a DataFrame\n",
      "\n",
      "See the caveats in the documentation: https://pandas.pydata.org/pandas-docs/stable/user_guide/indexing.html#returning-a-view-versus-a-copy\n",
      "  table['Profit'][index] = 0\n",
<<<<<<< HEAD
      "C:\\Users\\justi\\AppData\\Local\\Temp\\ipykernel_34332\\1159866060.py:8: SettingWithCopyWarning: \n",
=======
      "/var/folders/hc/nkkc_9yd3fd9x9025zg61t2w0000gn/T/ipykernel_44949/1159866060.py:8: SettingWithCopyWarning: \n",
>>>>>>> ea21e2bd453d4d522f6775f4a9b8fafcedd2750e
      "A value is trying to be set on a copy of a slice from a DataFrame\n",
      "\n",
      "See the caveats in the documentation: https://pandas.pydata.org/pandas-docs/stable/user_guide/indexing.html#returning-a-view-versus-a-copy\n",
      "  table['Profit'][index] = 0\n",
<<<<<<< HEAD
      "C:\\Users\\justi\\AppData\\Local\\Temp\\ipykernel_34332\\1159866060.py:8: SettingWithCopyWarning: \n",
=======
      "/var/folders/hc/nkkc_9yd3fd9x9025zg61t2w0000gn/T/ipykernel_44949/1159866060.py:8: SettingWithCopyWarning: \n",
>>>>>>> ea21e2bd453d4d522f6775f4a9b8fafcedd2750e
      "A value is trying to be set on a copy of a slice from a DataFrame\n",
      "\n",
      "See the caveats in the documentation: https://pandas.pydata.org/pandas-docs/stable/user_guide/indexing.html#returning-a-view-versus-a-copy\n",
      "  table['Profit'][index] = 0\n",
<<<<<<< HEAD
      "C:\\Users\\justi\\AppData\\Local\\Temp\\ipykernel_34332\\1159866060.py:8: SettingWithCopyWarning: \n",
=======
      "/var/folders/hc/nkkc_9yd3fd9x9025zg61t2w0000gn/T/ipykernel_44949/1159866060.py:8: SettingWithCopyWarning: \n",
>>>>>>> ea21e2bd453d4d522f6775f4a9b8fafcedd2750e
      "A value is trying to be set on a copy of a slice from a DataFrame\n",
      "\n",
      "See the caveats in the documentation: https://pandas.pydata.org/pandas-docs/stable/user_guide/indexing.html#returning-a-view-versus-a-copy\n",
      "  table['Profit'][index] = 0\n",
<<<<<<< HEAD
      "C:\\Users\\justi\\AppData\\Local\\Temp\\ipykernel_34332\\1159866060.py:8: SettingWithCopyWarning: \n",
=======
      "/var/folders/hc/nkkc_9yd3fd9x9025zg61t2w0000gn/T/ipykernel_44949/1159866060.py:8: SettingWithCopyWarning: \n",
>>>>>>> ea21e2bd453d4d522f6775f4a9b8fafcedd2750e
      "A value is trying to be set on a copy of a slice from a DataFrame\n",
      "\n",
      "See the caveats in the documentation: https://pandas.pydata.org/pandas-docs/stable/user_guide/indexing.html#returning-a-view-versus-a-copy\n",
      "  table['Profit'][index] = 0\n",
<<<<<<< HEAD
      "C:\\Users\\justi\\AppData\\Local\\Temp\\ipykernel_34332\\1159866060.py:13: SettingWithCopyWarning: \n",
=======
      "/var/folders/hc/nkkc_9yd3fd9x9025zg61t2w0000gn/T/ipykernel_44949/1159866060.py:13: SettingWithCopyWarning: \n",
>>>>>>> ea21e2bd453d4d522f6775f4a9b8fafcedd2750e
      "A value is trying to be set on a copy of a slice from a DataFrame\n",
      "\n",
      "See the caveats in the documentation: https://pandas.pydata.org/pandas-docs/stable/user_guide/indexing.html#returning-a-view-versus-a-copy\n",
      "  table['Profit'][index] = 0\n",
<<<<<<< HEAD
      "C:\\Users\\justi\\AppData\\Local\\Temp\\ipykernel_34332\\1159866060.py:13: SettingWithCopyWarning: \n",
=======
      "/var/folders/hc/nkkc_9yd3fd9x9025zg61t2w0000gn/T/ipykernel_44949/1159866060.py:13: SettingWithCopyWarning: \n",
>>>>>>> ea21e2bd453d4d522f6775f4a9b8fafcedd2750e
      "A value is trying to be set on a copy of a slice from a DataFrame\n",
      "\n",
      "See the caveats in the documentation: https://pandas.pydata.org/pandas-docs/stable/user_guide/indexing.html#returning-a-view-versus-a-copy\n",
      "  table['Profit'][index] = 0\n",
<<<<<<< HEAD
      "C:\\Users\\justi\\AppData\\Local\\Temp\\ipykernel_34332\\1159866060.py:13: SettingWithCopyWarning: \n",
=======
      "/var/folders/hc/nkkc_9yd3fd9x9025zg61t2w0000gn/T/ipykernel_44949/1159866060.py:13: SettingWithCopyWarning: \n",
>>>>>>> ea21e2bd453d4d522f6775f4a9b8fafcedd2750e
      "A value is trying to be set on a copy of a slice from a DataFrame\n",
      "\n",
      "See the caveats in the documentation: https://pandas.pydata.org/pandas-docs/stable/user_guide/indexing.html#returning-a-view-versus-a-copy\n",
      "  table['Profit'][index] = 0\n",
<<<<<<< HEAD
      "C:\\Users\\justi\\AppData\\Local\\Temp\\ipykernel_34332\\1159866060.py:13: SettingWithCopyWarning: \n",
=======
      "/var/folders/hc/nkkc_9yd3fd9x9025zg61t2w0000gn/T/ipykernel_44949/1159866060.py:13: SettingWithCopyWarning: \n",
>>>>>>> ea21e2bd453d4d522f6775f4a9b8fafcedd2750e
      "A value is trying to be set on a copy of a slice from a DataFrame\n",
      "\n",
      "See the caveats in the documentation: https://pandas.pydata.org/pandas-docs/stable/user_guide/indexing.html#returning-a-view-versus-a-copy\n",
      "  table['Profit'][index] = 0\n",
<<<<<<< HEAD
      "C:\\Users\\justi\\AppData\\Local\\Temp\\ipykernel_34332\\1159866060.py:13: SettingWithCopyWarning: \n",
=======
      "/var/folders/hc/nkkc_9yd3fd9x9025zg61t2w0000gn/T/ipykernel_44949/1159866060.py:13: SettingWithCopyWarning: \n",
>>>>>>> ea21e2bd453d4d522f6775f4a9b8fafcedd2750e
      "A value is trying to be set on a copy of a slice from a DataFrame\n",
      "\n",
      "See the caveats in the documentation: https://pandas.pydata.org/pandas-docs/stable/user_guide/indexing.html#returning-a-view-versus-a-copy\n",
      "  table['Profit'][index] = 0\n",
<<<<<<< HEAD
      "C:\\Users\\justi\\AppData\\Local\\Temp\\ipykernel_34332\\1159866060.py:13: SettingWithCopyWarning: \n",
=======
      "/var/folders/hc/nkkc_9yd3fd9x9025zg61t2w0000gn/T/ipykernel_44949/1159866060.py:13: SettingWithCopyWarning: \n",
>>>>>>> ea21e2bd453d4d522f6775f4a9b8fafcedd2750e
      "A value is trying to be set on a copy of a slice from a DataFrame\n",
      "\n",
      "See the caveats in the documentation: https://pandas.pydata.org/pandas-docs/stable/user_guide/indexing.html#returning-a-view-versus-a-copy\n",
      "  table['Profit'][index] = 0\n",
<<<<<<< HEAD
      "C:\\Users\\justi\\AppData\\Local\\Temp\\ipykernel_34332\\1159866060.py:11: SettingWithCopyWarning: \n",
=======
      "/var/folders/hc/nkkc_9yd3fd9x9025zg61t2w0000gn/T/ipykernel_44949/1159866060.py:11: SettingWithCopyWarning: \n",
>>>>>>> ea21e2bd453d4d522f6775f4a9b8fafcedd2750e
      "A value is trying to be set on a copy of a slice from a DataFrame\n",
      "\n",
      "See the caveats in the documentation: https://pandas.pydata.org/pandas-docs/stable/user_guide/indexing.html#returning-a-view-versus-a-copy\n",
      "  table['Profit'][index] = closed_price - open_price\n",
<<<<<<< HEAD
      "C:\\Users\\justi\\AppData\\Local\\Temp\\ipykernel_34332\\1159866060.py:11: FutureWarning: Setting an item of incompatible dtype is deprecated and will raise in a future error of pandas. Value '-0.008599999999999941' has dtype incompatible with int64, please explicitly cast to a compatible dtype first.\n",
      "  table['Profit'][index] = closed_price - open_price\n",
      "C:\\Users\\justi\\AppData\\Local\\Temp\\ipykernel_34332\\1159866060.py:8: SettingWithCopyWarning: \n",
=======
      "/var/folders/hc/nkkc_9yd3fd9x9025zg61t2w0000gn/T/ipykernel_44949/1159866060.py:11: FutureWarning: Setting an item of incompatible dtype is deprecated and will raise in a future error of pandas. Value '-0.008599999999999941' has dtype incompatible with int64, please explicitly cast to a compatible dtype first.\n",
      "  table['Profit'][index] = closed_price - open_price\n",
      "/var/folders/hc/nkkc_9yd3fd9x9025zg61t2w0000gn/T/ipykernel_44949/1159866060.py:8: SettingWithCopyWarning: \n",
>>>>>>> ea21e2bd453d4d522f6775f4a9b8fafcedd2750e
      "A value is trying to be set on a copy of a slice from a DataFrame\n",
      "\n",
      "See the caveats in the documentation: https://pandas.pydata.org/pandas-docs/stable/user_guide/indexing.html#returning-a-view-versus-a-copy\n",
      "  table['Profit'][index] = 0\n",
<<<<<<< HEAD
      "C:\\Users\\justi\\AppData\\Local\\Temp\\ipykernel_34332\\1159866060.py:8: SettingWithCopyWarning: \n",
=======
      "/var/folders/hc/nkkc_9yd3fd9x9025zg61t2w0000gn/T/ipykernel_44949/1159866060.py:8: SettingWithCopyWarning: \n",
>>>>>>> ea21e2bd453d4d522f6775f4a9b8fafcedd2750e
      "A value is trying to be set on a copy of a slice from a DataFrame\n",
      "\n",
      "See the caveats in the documentation: https://pandas.pydata.org/pandas-docs/stable/user_guide/indexing.html#returning-a-view-versus-a-copy\n",
      "  table['Profit'][index] = 0\n",
<<<<<<< HEAD
      "C:\\Users\\justi\\AppData\\Local\\Temp\\ipykernel_34332\\1159866060.py:8: SettingWithCopyWarning: \n",
=======
      "/var/folders/hc/nkkc_9yd3fd9x9025zg61t2w0000gn/T/ipykernel_44949/1159866060.py:8: SettingWithCopyWarning: \n",
>>>>>>> ea21e2bd453d4d522f6775f4a9b8fafcedd2750e
      "A value is trying to be set on a copy of a slice from a DataFrame\n",
      "\n",
      "See the caveats in the documentation: https://pandas.pydata.org/pandas-docs/stable/user_guide/indexing.html#returning-a-view-versus-a-copy\n",
      "  table['Profit'][index] = 0\n",
<<<<<<< HEAD
      "C:\\Users\\justi\\AppData\\Local\\Temp\\ipykernel_34332\\1159866060.py:8: SettingWithCopyWarning: \n",
=======
      "/var/folders/hc/nkkc_9yd3fd9x9025zg61t2w0000gn/T/ipykernel_44949/1159866060.py:8: SettingWithCopyWarning: \n",
>>>>>>> ea21e2bd453d4d522f6775f4a9b8fafcedd2750e
      "A value is trying to be set on a copy of a slice from a DataFrame\n",
      "\n",
      "See the caveats in the documentation: https://pandas.pydata.org/pandas-docs/stable/user_guide/indexing.html#returning-a-view-versus-a-copy\n",
      "  table['Profit'][index] = 0\n",
<<<<<<< HEAD
      "C:\\Users\\justi\\AppData\\Local\\Temp\\ipykernel_34332\\1159866060.py:8: SettingWithCopyWarning: \n",
=======
      "/var/folders/hc/nkkc_9yd3fd9x9025zg61t2w0000gn/T/ipykernel_44949/1159866060.py:8: SettingWithCopyWarning: \n",
>>>>>>> ea21e2bd453d4d522f6775f4a9b8fafcedd2750e
      "A value is trying to be set on a copy of a slice from a DataFrame\n",
      "\n",
      "See the caveats in the documentation: https://pandas.pydata.org/pandas-docs/stable/user_guide/indexing.html#returning-a-view-versus-a-copy\n",
      "  table['Profit'][index] = 0\n",
<<<<<<< HEAD
      "C:\\Users\\justi\\AppData\\Local\\Temp\\ipykernel_34332\\1159866060.py:8: SettingWithCopyWarning: \n",
=======
      "/var/folders/hc/nkkc_9yd3fd9x9025zg61t2w0000gn/T/ipykernel_44949/1159866060.py:8: SettingWithCopyWarning: \n",
>>>>>>> ea21e2bd453d4d522f6775f4a9b8fafcedd2750e
      "A value is trying to be set on a copy of a slice from a DataFrame\n",
      "\n",
      "See the caveats in the documentation: https://pandas.pydata.org/pandas-docs/stable/user_guide/indexing.html#returning-a-view-versus-a-copy\n",
      "  table['Profit'][index] = 0\n",
<<<<<<< HEAD
      "C:\\Users\\justi\\AppData\\Local\\Temp\\ipykernel_34332\\1159866060.py:8: SettingWithCopyWarning: \n",
=======
      "/var/folders/hc/nkkc_9yd3fd9x9025zg61t2w0000gn/T/ipykernel_44949/1159866060.py:8: SettingWithCopyWarning: \n",
>>>>>>> ea21e2bd453d4d522f6775f4a9b8fafcedd2750e
      "A value is trying to be set on a copy of a slice from a DataFrame\n",
      "\n",
      "See the caveats in the documentation: https://pandas.pydata.org/pandas-docs/stable/user_guide/indexing.html#returning-a-view-versus-a-copy\n",
      "  table['Profit'][index] = 0\n",
<<<<<<< HEAD
      "C:\\Users\\justi\\AppData\\Local\\Temp\\ipykernel_34332\\1159866060.py:8: SettingWithCopyWarning: \n",
=======
      "/var/folders/hc/nkkc_9yd3fd9x9025zg61t2w0000gn/T/ipykernel_44949/1159866060.py:8: SettingWithCopyWarning: \n",
>>>>>>> ea21e2bd453d4d522f6775f4a9b8fafcedd2750e
      "A value is trying to be set on a copy of a slice from a DataFrame\n",
      "\n",
      "See the caveats in the documentation: https://pandas.pydata.org/pandas-docs/stable/user_guide/indexing.html#returning-a-view-versus-a-copy\n",
      "  table['Profit'][index] = 0\n",
<<<<<<< HEAD
      "C:\\Users\\justi\\AppData\\Local\\Temp\\ipykernel_34332\\1159866060.py:8: SettingWithCopyWarning: \n",
=======
      "/var/folders/hc/nkkc_9yd3fd9x9025zg61t2w0000gn/T/ipykernel_44949/1159866060.py:8: SettingWithCopyWarning: \n",
>>>>>>> ea21e2bd453d4d522f6775f4a9b8fafcedd2750e
      "A value is trying to be set on a copy of a slice from a DataFrame\n",
      "\n",
      "See the caveats in the documentation: https://pandas.pydata.org/pandas-docs/stable/user_guide/indexing.html#returning-a-view-versus-a-copy\n",
      "  table['Profit'][index] = 0\n",
<<<<<<< HEAD
      "C:\\Users\\justi\\AppData\\Local\\Temp\\ipykernel_34332\\1159866060.py:8: SettingWithCopyWarning: \n",
=======
      "/var/folders/hc/nkkc_9yd3fd9x9025zg61t2w0000gn/T/ipykernel_44949/1159866060.py:8: SettingWithCopyWarning: \n",
>>>>>>> ea21e2bd453d4d522f6775f4a9b8fafcedd2750e
      "A value is trying to be set on a copy of a slice from a DataFrame\n",
      "\n",
      "See the caveats in the documentation: https://pandas.pydata.org/pandas-docs/stable/user_guide/indexing.html#returning-a-view-versus-a-copy\n",
      "  table['Profit'][index] = 0\n",
<<<<<<< HEAD
      "C:\\Users\\justi\\AppData\\Local\\Temp\\ipykernel_34332\\1159866060.py:8: SettingWithCopyWarning: \n",
=======
      "/var/folders/hc/nkkc_9yd3fd9x9025zg61t2w0000gn/T/ipykernel_44949/1159866060.py:8: SettingWithCopyWarning: \n",
>>>>>>> ea21e2bd453d4d522f6775f4a9b8fafcedd2750e
      "A value is trying to be set on a copy of a slice from a DataFrame\n",
      "\n",
      "See the caveats in the documentation: https://pandas.pydata.org/pandas-docs/stable/user_guide/indexing.html#returning-a-view-versus-a-copy\n",
      "  table['Profit'][index] = 0\n",
<<<<<<< HEAD
      "C:\\Users\\justi\\AppData\\Local\\Temp\\ipykernel_34332\\1159866060.py:8: SettingWithCopyWarning: \n",
=======
      "/var/folders/hc/nkkc_9yd3fd9x9025zg61t2w0000gn/T/ipykernel_44949/1159866060.py:8: SettingWithCopyWarning: \n",
>>>>>>> ea21e2bd453d4d522f6775f4a9b8fafcedd2750e
      "A value is trying to be set on a copy of a slice from a DataFrame\n",
      "\n",
      "See the caveats in the documentation: https://pandas.pydata.org/pandas-docs/stable/user_guide/indexing.html#returning-a-view-versus-a-copy\n",
      "  table['Profit'][index] = 0\n",
<<<<<<< HEAD
      "C:\\Users\\justi\\AppData\\Local\\Temp\\ipykernel_34332\\1159866060.py:8: SettingWithCopyWarning: \n",
=======
      "/var/folders/hc/nkkc_9yd3fd9x9025zg61t2w0000gn/T/ipykernel_44949/1159866060.py:8: SettingWithCopyWarning: \n",
>>>>>>> ea21e2bd453d4d522f6775f4a9b8fafcedd2750e
      "A value is trying to be set on a copy of a slice from a DataFrame\n",
      "\n",
      "See the caveats in the documentation: https://pandas.pydata.org/pandas-docs/stable/user_guide/indexing.html#returning-a-view-versus-a-copy\n",
      "  table['Profit'][index] = 0\n",
<<<<<<< HEAD
      "C:\\Users\\justi\\AppData\\Local\\Temp\\ipykernel_34332\\1159866060.py:8: SettingWithCopyWarning: \n",
=======
      "/var/folders/hc/nkkc_9yd3fd9x9025zg61t2w0000gn/T/ipykernel_44949/1159866060.py:8: SettingWithCopyWarning: \n",
>>>>>>> ea21e2bd453d4d522f6775f4a9b8fafcedd2750e
      "A value is trying to be set on a copy of a slice from a DataFrame\n",
      "\n",
      "See the caveats in the documentation: https://pandas.pydata.org/pandas-docs/stable/user_guide/indexing.html#returning-a-view-versus-a-copy\n",
      "  table['Profit'][index] = 0\n",
<<<<<<< HEAD
      "C:\\Users\\justi\\AppData\\Local\\Temp\\ipykernel_34332\\1159866060.py:8: SettingWithCopyWarning: \n",
=======
      "/var/folders/hc/nkkc_9yd3fd9x9025zg61t2w0000gn/T/ipykernel_44949/1159866060.py:8: SettingWithCopyWarning: \n",
>>>>>>> ea21e2bd453d4d522f6775f4a9b8fafcedd2750e
      "A value is trying to be set on a copy of a slice from a DataFrame\n",
      "\n",
      "See the caveats in the documentation: https://pandas.pydata.org/pandas-docs/stable/user_guide/indexing.html#returning-a-view-versus-a-copy\n",
      "  table['Profit'][index] = 0\n",
<<<<<<< HEAD
      "C:\\Users\\justi\\AppData\\Local\\Temp\\ipykernel_34332\\1159866060.py:13: SettingWithCopyWarning: \n",
=======
      "/var/folders/hc/nkkc_9yd3fd9x9025zg61t2w0000gn/T/ipykernel_44949/1159866060.py:13: SettingWithCopyWarning: \n",
>>>>>>> ea21e2bd453d4d522f6775f4a9b8fafcedd2750e
      "A value is trying to be set on a copy of a slice from a DataFrame\n",
      "\n",
      "See the caveats in the documentation: https://pandas.pydata.org/pandas-docs/stable/user_guide/indexing.html#returning-a-view-versus-a-copy\n",
      "  table['Profit'][index] = 0\n",
<<<<<<< HEAD
      "C:\\Users\\justi\\AppData\\Local\\Temp\\ipykernel_34332\\1159866060.py:13: SettingWithCopyWarning: \n",
=======
      "/var/folders/hc/nkkc_9yd3fd9x9025zg61t2w0000gn/T/ipykernel_44949/1159866060.py:13: SettingWithCopyWarning: \n",
>>>>>>> ea21e2bd453d4d522f6775f4a9b8fafcedd2750e
      "A value is trying to be set on a copy of a slice from a DataFrame\n",
      "\n",
      "See the caveats in the documentation: https://pandas.pydata.org/pandas-docs/stable/user_guide/indexing.html#returning-a-view-versus-a-copy\n",
      "  table['Profit'][index] = 0\n",
<<<<<<< HEAD
      "C:\\Users\\justi\\AppData\\Local\\Temp\\ipykernel_34332\\1159866060.py:13: SettingWithCopyWarning: \n",
=======
      "/var/folders/hc/nkkc_9yd3fd9x9025zg61t2w0000gn/T/ipykernel_44949/1159866060.py:13: SettingWithCopyWarning: \n",
>>>>>>> ea21e2bd453d4d522f6775f4a9b8fafcedd2750e
      "A value is trying to be set on a copy of a slice from a DataFrame\n",
      "\n",
      "See the caveats in the documentation: https://pandas.pydata.org/pandas-docs/stable/user_guide/indexing.html#returning-a-view-versus-a-copy\n",
      "  table['Profit'][index] = 0\n",
<<<<<<< HEAD
      "C:\\Users\\justi\\AppData\\Local\\Temp\\ipykernel_34332\\1159866060.py:13: SettingWithCopyWarning: \n",
=======
      "/var/folders/hc/nkkc_9yd3fd9x9025zg61t2w0000gn/T/ipykernel_44949/1159866060.py:13: SettingWithCopyWarning: \n",
>>>>>>> ea21e2bd453d4d522f6775f4a9b8fafcedd2750e
      "A value is trying to be set on a copy of a slice from a DataFrame\n",
      "\n",
      "See the caveats in the documentation: https://pandas.pydata.org/pandas-docs/stable/user_guide/indexing.html#returning-a-view-versus-a-copy\n",
      "  table['Profit'][index] = 0\n",
<<<<<<< HEAD
      "C:\\Users\\justi\\AppData\\Local\\Temp\\ipykernel_34332\\1159866060.py:13: SettingWithCopyWarning: \n",
=======
      "/var/folders/hc/nkkc_9yd3fd9x9025zg61t2w0000gn/T/ipykernel_44949/1159866060.py:13: SettingWithCopyWarning: \n",
>>>>>>> ea21e2bd453d4d522f6775f4a9b8fafcedd2750e
      "A value is trying to be set on a copy of a slice from a DataFrame\n",
      "\n",
      "See the caveats in the documentation: https://pandas.pydata.org/pandas-docs/stable/user_guide/indexing.html#returning-a-view-versus-a-copy\n",
      "  table['Profit'][index] = 0\n",
<<<<<<< HEAD
      "C:\\Users\\justi\\AppData\\Local\\Temp\\ipykernel_34332\\1159866060.py:13: SettingWithCopyWarning: \n",
=======
      "/var/folders/hc/nkkc_9yd3fd9x9025zg61t2w0000gn/T/ipykernel_44949/1159866060.py:13: SettingWithCopyWarning: \n",
>>>>>>> ea21e2bd453d4d522f6775f4a9b8fafcedd2750e
      "A value is trying to be set on a copy of a slice from a DataFrame\n",
      "\n",
      "See the caveats in the documentation: https://pandas.pydata.org/pandas-docs/stable/user_guide/indexing.html#returning-a-view-versus-a-copy\n",
      "  table['Profit'][index] = 0\n",
<<<<<<< HEAD
      "C:\\Users\\justi\\AppData\\Local\\Temp\\ipykernel_34332\\1159866060.py:13: SettingWithCopyWarning: \n",
=======
      "/var/folders/hc/nkkc_9yd3fd9x9025zg61t2w0000gn/T/ipykernel_44949/1159866060.py:13: SettingWithCopyWarning: \n",
>>>>>>> ea21e2bd453d4d522f6775f4a9b8fafcedd2750e
      "A value is trying to be set on a copy of a slice from a DataFrame\n",
      "\n",
      "See the caveats in the documentation: https://pandas.pydata.org/pandas-docs/stable/user_guide/indexing.html#returning-a-view-versus-a-copy\n",
      "  table['Profit'][index] = 0\n",
<<<<<<< HEAD
      "C:\\Users\\justi\\AppData\\Local\\Temp\\ipykernel_34332\\1159866060.py:13: SettingWithCopyWarning: \n",
=======
      "/var/folders/hc/nkkc_9yd3fd9x9025zg61t2w0000gn/T/ipykernel_44949/1159866060.py:13: SettingWithCopyWarning: \n",
>>>>>>> ea21e2bd453d4d522f6775f4a9b8fafcedd2750e
      "A value is trying to be set on a copy of a slice from a DataFrame\n",
      "\n",
      "See the caveats in the documentation: https://pandas.pydata.org/pandas-docs/stable/user_guide/indexing.html#returning-a-view-versus-a-copy\n",
      "  table['Profit'][index] = 0\n",
<<<<<<< HEAD
      "C:\\Users\\justi\\AppData\\Local\\Temp\\ipykernel_34332\\1159866060.py:11: SettingWithCopyWarning: \n",
=======
      "/var/folders/hc/nkkc_9yd3fd9x9025zg61t2w0000gn/T/ipykernel_44949/1159866060.py:11: SettingWithCopyWarning: \n",
>>>>>>> ea21e2bd453d4d522f6775f4a9b8fafcedd2750e
      "A value is trying to be set on a copy of a slice from a DataFrame\n",
      "\n",
      "See the caveats in the documentation: https://pandas.pydata.org/pandas-docs/stable/user_guide/indexing.html#returning-a-view-versus-a-copy\n",
      "  table['Profit'][index] = closed_price - open_price\n",
<<<<<<< HEAD
      "C:\\Users\\justi\\AppData\\Local\\Temp\\ipykernel_34332\\1159866060.py:11: FutureWarning: Setting an item of incompatible dtype is deprecated and will raise in a future error of pandas. Value '-1.039999999999992' has dtype incompatible with int64, please explicitly cast to a compatible dtype first.\n",
=======
      "/var/folders/hc/nkkc_9yd3fd9x9025zg61t2w0000gn/T/ipykernel_44949/1159866060.py:11: FutureWarning: Setting an item of incompatible dtype is deprecated and will raise in a future error of pandas. Value '-1.039999999999992' has dtype incompatible with int64, please explicitly cast to a compatible dtype first.\n",
>>>>>>> ea21e2bd453d4d522f6775f4a9b8fafcedd2750e
      "  table['Profit'][index] = closed_price - open_price\n"
     ]
    }
   ],
   "source": [
    "eur_usd_df['Profit'] = profit(eur_usd_df)\n",
    "cad_usd_df['Profit'] = profit(cad_usd_df)\n",
    "jpy_usd_df['Profit'] = profit(jpy_usd_df)"
   ]
  },
  {
   "cell_type": "code",
<<<<<<< HEAD
=======
   "execution_count": 21,
   "metadata": {},
   "outputs": [
    {
     "data": {
      "text/html": [
       "<div>\n",
       "<style scoped>\n",
       "    .dataframe tbody tr th:only-of-type {\n",
       "        vertical-align: middle;\n",
       "    }\n",
       "\n",
       "    .dataframe tbody tr th {\n",
       "        vertical-align: top;\n",
       "    }\n",
       "\n",
       "    .dataframe thead th {\n",
       "        text-align: right;\n",
       "    }\n",
       "</style>\n",
       "<table border=\"1\" class=\"dataframe\">\n",
       "  <thead>\n",
       "    <tr style=\"text-align: right;\">\n",
       "      <th></th>\n",
       "      <th>Date</th>\n",
       "      <th>Open</th>\n",
       "      <th>High</th>\n",
       "      <th>Low</th>\n",
       "      <th>Close</th>\n",
       "      <th>MA5</th>\n",
       "      <th>MA8</th>\n",
       "      <th>MA13</th>\n",
       "      <th>Buy</th>\n",
       "      <th>Profit</th>\n",
       "    </tr>\n",
       "  </thead>\n",
       "  <tbody>\n",
       "    <tr>\n",
       "      <th>37</th>\n",
       "      <td>11/11/24</td>\n",
       "      <td>152.65</td>\n",
       "      <td>153.96</td>\n",
       "      <td>152.64</td>\n",
       "      <td>153.72</td>\n",
       "      <td>155.080</td>\n",
       "      <td>155.00375</td>\n",
       "      <td>154.212308</td>\n",
       "      <td>Closed</td>\n",
       "      <td>-1.04</td>\n",
       "    </tr>\n",
       "    <tr>\n",
       "      <th>38</th>\n",
       "      <td>11/08/24</td>\n",
       "      <td>152.94</td>\n",
       "      <td>153.37</td>\n",
       "      <td>152.15</td>\n",
       "      <td>152.63</td>\n",
       "      <td>154.888</td>\n",
       "      <td>154.90125</td>\n",
       "      <td>154.379231</td>\n",
       "      <td>Closed</td>\n",
       "      <td>0.00</td>\n",
       "    </tr>\n",
       "    <tr>\n",
       "      <th>39</th>\n",
       "      <td>11/07/24</td>\n",
       "      <td>154.62</td>\n",
       "      <td>154.70</td>\n",
       "      <td>152.70</td>\n",
       "      <td>152.94</td>\n",
       "      <td>154.546</td>\n",
       "      <td>154.55125</td>\n",
       "      <td>154.495385</td>\n",
       "      <td>Closed</td>\n",
       "      <td>0.00</td>\n",
       "    </tr>\n",
       "    <tr>\n",
       "      <th>40</th>\n",
       "      <td>11/06/24</td>\n",
       "      <td>151.62</td>\n",
       "      <td>154.72</td>\n",
       "      <td>151.31</td>\n",
       "      <td>154.64</td>\n",
       "      <td>153.880</td>\n",
       "      <td>154.33625</td>\n",
       "      <td>154.482308</td>\n",
       "      <td>Closed</td>\n",
       "      <td>0.00</td>\n",
       "    </tr>\n",
       "    <tr>\n",
       "      <th>41</th>\n",
       "      <td>11/05/24</td>\n",
       "      <td>152.09</td>\n",
       "      <td>152.57</td>\n",
       "      <td>151.34</td>\n",
       "      <td>151.62</td>\n",
       "      <td>153.710</td>\n",
       "      <td>154.33125</td>\n",
       "      <td>154.516923</td>\n",
       "      <td>Closed</td>\n",
       "      <td>0.00</td>\n",
       "    </tr>\n",
       "    <tr>\n",
       "      <th>42</th>\n",
       "      <td>11/04/24</td>\n",
       "      <td>153.03</td>\n",
       "      <td>153.03</td>\n",
       "      <td>151.54</td>\n",
       "      <td>152.13</td>\n",
       "      <td>153.110</td>\n",
       "      <td>153.99125</td>\n",
       "      <td>154.275385</td>\n",
       "      <td>Closed</td>\n",
       "      <td>0.00</td>\n",
       "    </tr>\n",
       "    <tr>\n",
       "      <th>43</th>\n",
       "      <td>11/01/24</td>\n",
       "      <td>152.03</td>\n",
       "      <td>153.10</td>\n",
       "      <td>151.78</td>\n",
       "      <td>152.99</td>\n",
       "      <td>152.792</td>\n",
       "      <td>153.47375</td>\n",
       "      <td>154.090000</td>\n",
       "      <td>Closed</td>\n",
       "      <td>0.00</td>\n",
       "    </tr>\n",
       "    <tr>\n",
       "      <th>44</th>\n",
       "      <td>10/31/24</td>\n",
       "      <td>153.41</td>\n",
       "      <td>153.58</td>\n",
       "      <td>151.84</td>\n",
       "      <td>152.03</td>\n",
       "      <td>152.864</td>\n",
       "      <td>153.16125</td>\n",
       "      <td>153.902308</td>\n",
       "      <td>Closed</td>\n",
       "      <td>0.00</td>\n",
       "    </tr>\n",
       "    <tr>\n",
       "      <th>45</th>\n",
       "      <td>10/30/24</td>\n",
       "      <td>153.36</td>\n",
       "      <td>153.56</td>\n",
       "      <td>152.79</td>\n",
       "      <td>153.42</td>\n",
       "      <td>152.682</td>\n",
       "      <td>152.83750</td>\n",
       "      <td>153.700000</td>\n",
       "      <td>Closed</td>\n",
       "      <td>0.00</td>\n",
       "    </tr>\n",
       "    <tr>\n",
       "      <th>46</th>\n",
       "      <td>10/29/24</td>\n",
       "      <td>153.28</td>\n",
       "      <td>153.87</td>\n",
       "      <td>152.76</td>\n",
       "      <td>153.37</td>\n",
       "      <td>152.438</td>\n",
       "      <td>152.80000</td>\n",
       "      <td>153.603077</td>\n",
       "      <td>Closed</td>\n",
       "      <td>0.00</td>\n",
       "    </tr>\n",
       "    <tr>\n",
       "      <th>47</th>\n",
       "      <td>10/28/24</td>\n",
       "      <td>152.28</td>\n",
       "      <td>153.88</td>\n",
       "      <td>152.28</td>\n",
       "      <td>153.28</td>\n",
       "      <td>152.788</td>\n",
       "      <td>152.89250</td>\n",
       "      <td>153.528462</td>\n",
       "      <td>Closed</td>\n",
       "      <td>0.00</td>\n",
       "    </tr>\n",
       "    <tr>\n",
       "      <th>48</th>\n",
       "      <td>10/25/24</td>\n",
       "      <td>151.83</td>\n",
       "      <td>152.38</td>\n",
       "      <td>151.45</td>\n",
       "      <td>152.30</td>\n",
       "      <td>153.018</td>\n",
       "      <td>152.93500</td>\n",
       "      <td>153.298462</td>\n",
       "      <td>Closed</td>\n",
       "      <td>0.00</td>\n",
       "    </tr>\n",
       "    <tr>\n",
       "      <th>49</th>\n",
       "      <td>10/24/24</td>\n",
       "      <td>152.68</td>\n",
       "      <td>152.84</td>\n",
       "      <td>151.56</td>\n",
       "      <td>151.84</td>\n",
       "      <td>152.880</td>\n",
       "      <td>152.64250</td>\n",
       "      <td>153.053077</td>\n",
       "      <td>Closed</td>\n",
       "      <td>0.00</td>\n",
       "    </tr>\n",
       "    <tr>\n",
       "      <th>50</th>\n",
       "      <td>10/23/24</td>\n",
       "      <td>151.08</td>\n",
       "      <td>153.19</td>\n",
       "      <td>151.02</td>\n",
       "      <td>152.76</td>\n",
       "      <td>152.842</td>\n",
       "      <td>152.67000</td>\n",
       "      <td>152.839231</td>\n",
       "      <td>Closed</td>\n",
       "      <td>0.00</td>\n",
       "    </tr>\n",
       "    <tr>\n",
       "      <th>51</th>\n",
       "      <td>10/22/24</td>\n",
       "      <td>150.82</td>\n",
       "      <td>151.20</td>\n",
       "      <td>150.50</td>\n",
       "      <td>151.09</td>\n",
       "      <td>152.710</td>\n",
       "      <td>152.74875</td>\n",
       "      <td>152.765385</td>\n",
       "      <td>Closed</td>\n",
       "      <td>0.00</td>\n",
       "    </tr>\n",
       "    <tr>\n",
       "      <th>52</th>\n",
       "      <td>10/21/24</td>\n",
       "      <td>149.56</td>\n",
       "      <td>150.89</td>\n",
       "      <td>149.09</td>\n",
       "      <td>150.84</td>\n",
       "      <td>152.254</td>\n",
       "      <td>152.51125</td>\n",
       "      <td>152.646923</td>\n",
       "      <td>Closed</td>\n",
       "      <td>0.00</td>\n",
       "    </tr>\n",
       "    <tr>\n",
       "      <th>53</th>\n",
       "      <td>10/18/24</td>\n",
       "      <td>150.21</td>\n",
       "      <td>150.28</td>\n",
       "      <td>149.37</td>\n",
       "      <td>149.53</td>\n",
       "      <td>151.766</td>\n",
       "      <td>152.36250</td>\n",
       "      <td>152.485385</td>\n",
       "      <td>Closed</td>\n",
       "      <td>0.00</td>\n",
       "    </tr>\n",
       "    <tr>\n",
       "      <th>54</th>\n",
       "      <td>10/17/24</td>\n",
       "      <td>149.64</td>\n",
       "      <td>150.31</td>\n",
       "      <td>149.26</td>\n",
       "      <td>150.21</td>\n",
       "      <td>151.212</td>\n",
       "      <td>151.87625</td>\n",
       "      <td>152.092308</td>\n",
       "      <td>Closed</td>\n",
       "      <td>0.00</td>\n",
       "    </tr>\n",
       "    <tr>\n",
       "      <th>55</th>\n",
       "      <td>10/16/24</td>\n",
       "      <td>149.21</td>\n",
       "      <td>149.81</td>\n",
       "      <td>148.89</td>\n",
       "      <td>149.64</td>\n",
       "      <td>150.886</td>\n",
       "      <td>151.48125</td>\n",
       "      <td>151.983846</td>\n",
       "      <td>Closed</td>\n",
       "      <td>0.00</td>\n",
       "    </tr>\n",
       "    <tr>\n",
       "      <th>56</th>\n",
       "      <td>10/15/24</td>\n",
       "      <td>149.82</td>\n",
       "      <td>149.84</td>\n",
       "      <td>148.85</td>\n",
       "      <td>149.22</td>\n",
       "      <td>150.262</td>\n",
       "      <td>151.02625</td>\n",
       "      <td>151.792308</td>\n",
       "      <td>Closed</td>\n",
       "      <td>0.00</td>\n",
       "    </tr>\n",
       "    <tr>\n",
       "      <th>57</th>\n",
       "      <td>10/14/24</td>\n",
       "      <td>149.15</td>\n",
       "      <td>149.99</td>\n",
       "      <td>149.00</td>\n",
       "      <td>149.76</td>\n",
       "      <td>149.888</td>\n",
       "      <td>150.64125</td>\n",
       "      <td>151.502308</td>\n",
       "      <td>Closed</td>\n",
       "      <td>0.00</td>\n",
       "    </tr>\n",
       "    <tr>\n",
       "      <th>58</th>\n",
       "      <td>10/11/24</td>\n",
       "      <td>148.57</td>\n",
       "      <td>149.29</td>\n",
       "      <td>148.41</td>\n",
       "      <td>149.14</td>\n",
       "      <td>149.672</td>\n",
       "      <td>150.38125</td>\n",
       "      <td>151.327692</td>\n",
       "      <td>Closed</td>\n",
       "      <td>0.00</td>\n",
       "    </tr>\n",
       "    <tr>\n",
       "      <th>59</th>\n",
       "      <td>10/10/24</td>\n",
       "      <td>149.31</td>\n",
       "      <td>149.59</td>\n",
       "      <td>148.38</td>\n",
       "      <td>148.57</td>\n",
       "      <td>149.594</td>\n",
       "      <td>149.92875</td>\n",
       "      <td>150.998462</td>\n",
       "      <td>Closed</td>\n",
       "      <td>0.00</td>\n",
       "    </tr>\n",
       "  </tbody>\n",
       "</table>\n",
       "</div>"
      ],
      "text/plain": [
       "        Date    Open    High     Low   Close      MA5        MA8        MA13  \\\n",
       "37  11/11/24  152.65  153.96  152.64  153.72  155.080  155.00375  154.212308   \n",
       "38  11/08/24  152.94  153.37  152.15  152.63  154.888  154.90125  154.379231   \n",
       "39  11/07/24  154.62  154.70  152.70  152.94  154.546  154.55125  154.495385   \n",
       "40  11/06/24  151.62  154.72  151.31  154.64  153.880  154.33625  154.482308   \n",
       "41  11/05/24  152.09  152.57  151.34  151.62  153.710  154.33125  154.516923   \n",
       "42  11/04/24  153.03  153.03  151.54  152.13  153.110  153.99125  154.275385   \n",
       "43  11/01/24  152.03  153.10  151.78  152.99  152.792  153.47375  154.090000   \n",
       "44  10/31/24  153.41  153.58  151.84  152.03  152.864  153.16125  153.902308   \n",
       "45  10/30/24  153.36  153.56  152.79  153.42  152.682  152.83750  153.700000   \n",
       "46  10/29/24  153.28  153.87  152.76  153.37  152.438  152.80000  153.603077   \n",
       "47  10/28/24  152.28  153.88  152.28  153.28  152.788  152.89250  153.528462   \n",
       "48  10/25/24  151.83  152.38  151.45  152.30  153.018  152.93500  153.298462   \n",
       "49  10/24/24  152.68  152.84  151.56  151.84  152.880  152.64250  153.053077   \n",
       "50  10/23/24  151.08  153.19  151.02  152.76  152.842  152.67000  152.839231   \n",
       "51  10/22/24  150.82  151.20  150.50  151.09  152.710  152.74875  152.765385   \n",
       "52  10/21/24  149.56  150.89  149.09  150.84  152.254  152.51125  152.646923   \n",
       "53  10/18/24  150.21  150.28  149.37  149.53  151.766  152.36250  152.485385   \n",
       "54  10/17/24  149.64  150.31  149.26  150.21  151.212  151.87625  152.092308   \n",
       "55  10/16/24  149.21  149.81  148.89  149.64  150.886  151.48125  151.983846   \n",
       "56  10/15/24  149.82  149.84  148.85  149.22  150.262  151.02625  151.792308   \n",
       "57  10/14/24  149.15  149.99  149.00  149.76  149.888  150.64125  151.502308   \n",
       "58  10/11/24  148.57  149.29  148.41  149.14  149.672  150.38125  151.327692   \n",
       "59  10/10/24  149.31  149.59  148.38  148.57  149.594  149.92875  150.998462   \n",
       "\n",
       "       Buy  Profit  \n",
       "37  Closed   -1.04  \n",
       "38  Closed    0.00  \n",
       "39  Closed    0.00  \n",
       "40  Closed    0.00  \n",
       "41  Closed    0.00  \n",
       "42  Closed    0.00  \n",
       "43  Closed    0.00  \n",
       "44  Closed    0.00  \n",
       "45  Closed    0.00  \n",
       "46  Closed    0.00  \n",
       "47  Closed    0.00  \n",
       "48  Closed    0.00  \n",
       "49  Closed    0.00  \n",
       "50  Closed    0.00  \n",
       "51  Closed    0.00  \n",
       "52  Closed    0.00  \n",
       "53  Closed    0.00  \n",
       "54  Closed    0.00  \n",
       "55  Closed    0.00  \n",
       "56  Closed    0.00  \n",
       "57  Closed    0.00  \n",
       "58  Closed    0.00  \n",
       "59  Closed    0.00  "
      ]
     },
     "execution_count": 21,
     "metadata": {},
     "output_type": "execute_result"
    }
   ],
   "source": [
    "jpy_usd_df[37:60]"
   ]
  },
  {
   "cell_type": "code",
>>>>>>> ea21e2bd453d4d522f6775f4a9b8fafcedd2750e
   "execution_count": 22,
   "metadata": {},
   "outputs": [],
   "source": [
    "conn = sqlite3.connect('test.sqlite')"
   ]
  },
  {
   "cell_type": "code",
   "execution_count": 23,
   "metadata": {},
   "outputs": [
    {
     "data": {
      "text/plain": [
       "263"
      ]
     },
     "execution_count": 23,
     "metadata": {},
     "output_type": "execute_result"
    }
   ],
   "source": [
    "eur_usd_df.to_sql('eur_usd', conn, if_exists='replace', index=False)\n",
    "cad_usd_df.to_sql('cad_usd', conn, if_exists='replace', index=False)\n",
    "jpy_usd_df.to_sql('jpy_usd', conn, if_exists='replace', index=False)"
   ]
  },
  {
   "cell_type": "code",
   "execution_count": 24,
   "metadata": {},
   "outputs": [],
   "source": [
    "conn.close()"
   ]
  }
 ],
 "metadata": {
  "kernelspec": {
   "display_name": "PythonData_2024_12",
   "language": "python",
   "name": "python3"
  },
  "language_info": {
   "codemirror_mode": {
    "name": "ipython",
    "version": 3
   },
   "file_extension": ".py",
   "mimetype": "text/x-python",
   "name": "python",
   "nbconvert_exporter": "python",
   "pygments_lexer": "ipython3",
   "version": "3.10.16"
  }
 },
 "nbformat": 4,
 "nbformat_minor": 4
}
